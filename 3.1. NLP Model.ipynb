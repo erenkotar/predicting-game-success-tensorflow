{
 "cells": [
  {
   "cell_type": "code",
   "execution_count": 1,
   "id": "54eef2f6",
   "metadata": {},
   "outputs": [],
   "source": [
    "import pandas as pd\n",
    "import numpy as np\n",
    "\n",
    "import seaborn as sns\n",
    "import matplotlib.pyplot as plt\n",
    "\n",
    "import re\n",
    "from nltk.corpus import stopwords\n",
    "\n",
    "pd.set_option(\"display.max_columns\", None)\n",
    "pd.set_option(\"display.max_rows\", 50)"
   ]
  },
  {
   "cell_type": "code",
   "execution_count": 2,
   "id": "6b0d0ebe",
   "metadata": {},
   "outputs": [
    {
     "data": {
      "text/html": [
       "<div>\n",
       "<style scoped>\n",
       "    .dataframe tbody tr th:only-of-type {\n",
       "        vertical-align: middle;\n",
       "    }\n",
       "\n",
       "    .dataframe tbody tr th {\n",
       "        vertical-align: top;\n",
       "    }\n",
       "\n",
       "    .dataframe thead th {\n",
       "        text-align: right;\n",
       "    }\n",
       "</style>\n",
       "<table border=\"1\" class=\"dataframe\">\n",
       "  <thead>\n",
       "    <tr style=\"text-align: right;\">\n",
       "      <th></th>\n",
       "      <th>Name</th>\n",
       "      <th>Description</th>\n",
       "      <th>Target</th>\n",
       "    </tr>\n",
       "  </thead>\n",
       "  <tbody>\n",
       "    <tr>\n",
       "      <th>0</th>\n",
       "      <td>Geometry Dash Lite</td>\n",
       "      <td>Jump and fly your way through danger in this r...</td>\n",
       "      <td>35.200000</td>\n",
       "    </tr>\n",
       "    <tr>\n",
       "      <th>1</th>\n",
       "      <td>Fastlane: Road to Revenge</td>\n",
       "      <td>THEY TOOK YOUR CITY. THEY SHOULD’VE TAKEN YOUR...</td>\n",
       "      <td>32.200000</td>\n",
       "    </tr>\n",
       "    <tr>\n",
       "      <th>2</th>\n",
       "      <td>Esports Life Tycoon | Manage your esports team</td>\n",
       "      <td>Manage your own esports team. Sign up the best...</td>\n",
       "      <td>12.000000</td>\n",
       "    </tr>\n",
       "    <tr>\n",
       "      <th>3</th>\n",
       "      <td>Armello</td>\n",
       "      <td>Armello is a grand swashbuckling adventure com...</td>\n",
       "      <td>25.645365</td>\n",
       "    </tr>\n",
       "    <tr>\n",
       "      <th>4</th>\n",
       "      <td>Adventure Bay - Paradise Farm</td>\n",
       "      <td>Welcome to your very own exotic cove! Adventur...</td>\n",
       "      <td>24.505571</td>\n",
       "    </tr>\n",
       "  </tbody>\n",
       "</table>\n",
       "</div>"
      ],
      "text/plain": [
       "                                             Name  \\\n",
       "0                              Geometry Dash Lite   \n",
       "1                       Fastlane: Road to Revenge   \n",
       "2  Esports Life Tycoon | Manage your esports team   \n",
       "3                                         Armello   \n",
       "4                   Adventure Bay - Paradise Farm   \n",
       "\n",
       "                                         Description     Target  \n",
       "0  Jump and fly your way through danger in this r...  35.200000  \n",
       "1  THEY TOOK YOUR CITY. THEY SHOULD’VE TAKEN YOUR...  32.200000  \n",
       "2  Manage your own esports team. Sign up the best...  12.000000  \n",
       "3  Armello is a grand swashbuckling adventure com...  25.645365  \n",
       "4  Welcome to your very own exotic cove! Adventur...  24.505571  "
      ]
     },
     "execution_count": 2,
     "metadata": {},
     "output_type": "execute_result"
    }
   ],
   "source": [
    "df = pd.read_csv(\"data/data_pp.csv\")\n",
    "df = df[[\"Name\", \"Description\", \"Target\"]]\n",
    "# Getting only columns that includes text\n",
    "df.head(5)"
   ]
  },
  {
   "cell_type": "markdown",
   "id": "c4f2900d",
   "metadata": {},
   "source": [
    "# Meta Features"
   ]
  },
  {
   "cell_type": "code",
   "execution_count": 3,
   "id": "85f9f2d0",
   "metadata": {},
   "outputs": [],
   "source": [
    "from nltk.corpus import stopwords\n",
    "from nltk.tokenize import word_tokenize\n",
    "import string\n",
    "\n",
    "stop_words = set(stopwords.words('english'))"
   ]
  },
  {
   "cell_type": "markdown",
   "id": "b5ad462d",
   "metadata": {},
   "source": [
    "## Name"
   ]
  },
  {
   "cell_type": "code",
   "execution_count": 4,
   "id": "6f00cdf1",
   "metadata": {},
   "outputs": [],
   "source": [
    "# word_count\n",
    "df['name_word_count'] = df['Name'].apply(lambda x: len(str(x).split()))\n",
    "\n",
    "# unique_word_count\n",
    "df['name_unique_word_count'] = df['Name'].apply(lambda x: len(set(str(x).split())))\n",
    "\n",
    "# stop_word_count\n",
    "df['name_stop_word_count'] = df['Name'].apply(lambda x: len([w for w in str(x).lower().split() if w in stop_words]))\n",
    "\n",
    "# mean_word_length\n",
    "df['name_mean_word_length'] = df['Name'].apply(lambda x: np.mean([len(w) for w in str(x).split()]))\n",
    "\n",
    "# char_count\n",
    "df['name_char_count'] = df['Name'].apply(lambda x: len(str(x)))\n",
    "\n",
    "# punctuation_count\n",
    "df['name_punctuation_count'] = df['Name'].apply(lambda x: len([c for c in str(x) if c in string.punctuation]))"
   ]
  },
  {
   "cell_type": "markdown",
   "id": "a0868952",
   "metadata": {},
   "source": [
    "## Description"
   ]
  },
  {
   "cell_type": "code",
   "execution_count": 5,
   "id": "11eccb46",
   "metadata": {},
   "outputs": [],
   "source": [
    "df['desc_word_count'] = df['Description'].apply(lambda x: len(str(x).split()))\n",
    "\n",
    "# unique_word_count\n",
    "df['desc_unique_word_count'] = df['Description'].apply(lambda x: len(set(str(x).split())))\n",
    "\n",
    "# stop_word_count\n",
    "df['desc_stop_word_count'] = df['Description'].apply(lambda x: len([w for w in str(x).lower().split() if w in stop_words]))\n",
    "\n",
    "# mean_word_length\n",
    "df['desc_mean_word_length'] = df['Description'].apply(lambda x: np.mean([len(w) for w in str(x).split()]))\n",
    "\n",
    "# char_count\n",
    "df['desc_char_count'] = df['Description'].apply(lambda x: len(str(x)))\n",
    "\n",
    "# punctuation_count\n",
    "df['desc_punctuation_count'] = df['Description'].apply(lambda x: len([c for c in str(x) if c in string.punctuation]))"
   ]
  },
  {
   "cell_type": "code",
   "execution_count": 6,
   "id": "79ef49a3",
   "metadata": {},
   "outputs": [
    {
     "name": "stderr",
     "output_type": "stream",
     "text": [
      "/Library/Frameworks/Python.framework/Versions/3.10/lib/python3.10/site-packages/seaborn/distributions.py:2619: FutureWarning: `distplot` is a deprecated function and will be removed in a future version. Please adapt your code to use either `displot` (a figure-level function with similar flexibility) or `histplot` (an axes-level function for histograms).\n",
      "  warnings.warn(msg, FutureWarning)\n",
      "/Library/Frameworks/Python.framework/Versions/3.10/lib/python3.10/site-packages/seaborn/distributions.py:2619: FutureWarning: `distplot` is a deprecated function and will be removed in a future version. Please adapt your code to use either `displot` (a figure-level function with similar flexibility) or `histplot` (an axes-level function for histograms).\n",
      "  warnings.warn(msg, FutureWarning)\n",
      "/Library/Frameworks/Python.framework/Versions/3.10/lib/python3.10/site-packages/seaborn/distributions.py:2619: FutureWarning: `distplot` is a deprecated function and will be removed in a future version. Please adapt your code to use either `displot` (a figure-level function with similar flexibility) or `histplot` (an axes-level function for histograms).\n",
      "  warnings.warn(msg, FutureWarning)\n",
      "/Library/Frameworks/Python.framework/Versions/3.10/lib/python3.10/site-packages/seaborn/distributions.py:2619: FutureWarning: `distplot` is a deprecated function and will be removed in a future version. Please adapt your code to use either `displot` (a figure-level function with similar flexibility) or `histplot` (an axes-level function for histograms).\n",
      "  warnings.warn(msg, FutureWarning)\n",
      "/Library/Frameworks/Python.framework/Versions/3.10/lib/python3.10/site-packages/seaborn/distributions.py:2619: FutureWarning: `distplot` is a deprecated function and will be removed in a future version. Please adapt your code to use either `displot` (a figure-level function with similar flexibility) or `histplot` (an axes-level function for histograms).\n",
      "  warnings.warn(msg, FutureWarning)\n",
      "/Library/Frameworks/Python.framework/Versions/3.10/lib/python3.10/site-packages/seaborn/distributions.py:2619: FutureWarning: `distplot` is a deprecated function and will be removed in a future version. Please adapt your code to use either `displot` (a figure-level function with similar flexibility) or `histplot` (an axes-level function for histograms).\n",
      "  warnings.warn(msg, FutureWarning)\n"
     ]
    },
    {
     "data": {
      "image/png": "[encoded data removed]",
      "text/plain": [
       "<Figure size 432x288 with 1 Axes>"
      ]
     },
     "metadata": {
      "needs_background": "light"
     },
     "output_type": "display_data"
    },
    {
     "data": {
      "image/png": "[encoded data removed]",
      "text/plain": [
       "<Figure size 432x288 with 1 Axes>"
      ]
     },
     "metadata": {
      "needs_background": "light"
     },
     "output_type": "display_data"
    },
    {
     "data": {
      "image/png": "[encoded data removed]",
      "text/plain": [
       "<Figure size 432x288 with 1 Axes>"
      ]
     },
     "metadata": {
      "needs_background": "light"
     },
     "output_type": "display_data"
    },
    {
     "data": {
      "image/png": "[encoded data removed]",
      "text/plain": [
       "<Figure size 432x288 with 1 Axes>"
      ]
     },
     "metadata": {
      "needs_background": "light"
     },
     "output_type": "display_data"
    },
    {
     "data": {
      "image/png": "[encoded data removed]",
      "text/plain": [
       "<Figure size 432x288 with 1 Axes>"
      ]
     },
     "metadata": {
      "needs_background": "light"
     },
     "output_type": "display_data"
    },
    {
     "data": {
      "image/png": "[encoded data removed]",
      "text/plain": [
       "<Figure size 432x288 with 1 Axes>"
      ]
     },
     "metadata": {
      "needs_background": "light"
     },
     "output_type": "display_data"
    }
   ],
   "source": [
    "METAFEATURES = ['name_word_count', 'name_unique_word_count', 'name_stop_word_count', 'name_mean_word_length','name_char_count', 'name_punctuation_count']\n",
    "\n",
    "for column in METAFEATURES:\n",
    "    plt.figure()           \n",
    "    sns.distplot(df[column])"
   ]
  },
  {
   "cell_type": "code",
   "execution_count": 7,
   "id": "9bbcc665",
   "metadata": {},
   "outputs": [
    {
     "name": "stderr",
     "output_type": "stream",
     "text": [
      "/Library/Frameworks/Python.framework/Versions/3.10/lib/python3.10/site-packages/seaborn/distributions.py:2619: FutureWarning: `distplot` is a deprecated function and will be removed in a future version. Please adapt your code to use either `displot` (a figure-level function with similar flexibility) or `histplot` (an axes-level function for histograms).\n",
      "  warnings.warn(msg, FutureWarning)\n",
      "/Library/Frameworks/Python.framework/Versions/3.10/lib/python3.10/site-packages/seaborn/distributions.py:2619: FutureWarning: `distplot` is a deprecated function and will be removed in a future version. Please adapt your code to use either `displot` (a figure-level function with similar flexibility) or `histplot` (an axes-level function for histograms).\n",
      "  warnings.warn(msg, FutureWarning)\n",
      "/Library/Frameworks/Python.framework/Versions/3.10/lib/python3.10/site-packages/seaborn/distributions.py:2619: FutureWarning: `distplot` is a deprecated function and will be removed in a future version. Please adapt your code to use either `displot` (a figure-level function with similar flexibility) or `histplot` (an axes-level function for histograms).\n",
      "  warnings.warn(msg, FutureWarning)\n",
      "/Library/Frameworks/Python.framework/Versions/3.10/lib/python3.10/site-packages/seaborn/distributions.py:2619: FutureWarning: `distplot` is a deprecated function and will be removed in a future version. Please adapt your code to use either `displot` (a figure-level function with similar flexibility) or `histplot` (an axes-level function for histograms).\n",
      "  warnings.warn(msg, FutureWarning)\n",
      "/Library/Frameworks/Python.framework/Versions/3.10/lib/python3.10/site-packages/seaborn/distributions.py:2619: FutureWarning: `distplot` is a deprecated function and will be removed in a future version. Please adapt your code to use either `displot` (a figure-level function with similar flexibility) or `histplot` (an axes-level function for histograms).\n",
      "  warnings.warn(msg, FutureWarning)\n",
      "/Library/Frameworks/Python.framework/Versions/3.10/lib/python3.10/site-packages/seaborn/distributions.py:2619: FutureWarning: `distplot` is a deprecated function and will be removed in a future version. Please adapt your code to use either `displot` (a figure-level function with similar flexibility) or `histplot` (an axes-level function for histograms).\n",
      "  warnings.warn(msg, FutureWarning)\n"
     ]
    },
    {
     "data": {
      "image/png": "[encoded data removed]",
      "text/plain": [
       "<Figure size 432x288 with 1 Axes>"
      ]
     },
     "metadata": {
      "needs_background": "light"
     },
     "output_type": "display_data"
    },
    {
     "data": {
      "image/png": "[encoded data removed]",
      "text/plain": [
       "<Figure size 432x288 with 1 Axes>"
      ]
     },
     "metadata": {
      "needs_background": "light"
     },
     "output_type": "display_data"
    },
    {
     "data": {
      "image/png": "[encoded data removed]",
      "text/plain": [
       "<Figure size 432x288 with 1 Axes>"
      ]
     },
     "metadata": {
      "needs_background": "light"
     },
     "output_type": "display_data"
    },
    {
     "data": {
      "image/png": "[encoded data removed]",
      "text/plain": [
       "<Figure size 432x288 with 1 Axes>"
      ]
     },
     "metadata": {
      "needs_background": "light"
     },
     "output_type": "display_data"
    },
    {
     "data": {
      "image/png": "[encoded data removed]",
      "text/plain": [
       "<Figure size 432x288 with 1 Axes>"
      ]
     },
     "metadata": {
      "needs_background": "light"
     },
     "output_type": "display_data"
    },
    {
     "data": {
      "image/png": "[encoded data removed]",
      "text/plain": [
       "<Figure size 432x288 with 1 Axes>"
      ]
     },
     "metadata": {
      "needs_background": "light"
     },
     "output_type": "display_data"
    }
   ],
   "source": [
    "METAFEATURES = ['desc_word_count', 'desc_unique_word_count', 'desc_stop_word_count', 'desc_mean_word_length','desc_char_count', 'desc_punctuation_count']\n",
    "for column in METAFEATURES:\n",
    "    plt.figure()           \n",
    "    sns.distplot(df[column])"
   ]
  },
  {
   "cell_type": "code",
   "execution_count": 8,
   "id": "970750e1",
   "metadata": {},
   "outputs": [
    {
     "name": "stdout",
     "output_type": "stream",
     "text": [
      "<class 'pandas.core.frame.DataFrame'>\n",
      "RangeIndex: 2369 entries, 0 to 2368\n",
      "Data columns (total 15 columns):\n",
      " #   Column                  Non-Null Count  Dtype  \n",
      "---  ------                  --------------  -----  \n",
      " 0   Name                    2369 non-null   object \n",
      " 1   Description             2369 non-null   object \n",
      " 2   Target                  2369 non-null   float64\n",
      " 3   name_word_count         2369 non-null   int64  \n",
      " 4   name_unique_word_count  2369 non-null   int64  \n",
      " 5   name_stop_word_count    2369 non-null   int64  \n",
      " 6   name_mean_word_length   2369 non-null   float64\n",
      " 7   name_char_count         2369 non-null   int64  \n",
      " 8   name_punctuation_count  2369 non-null   int64  \n",
      " 9   desc_word_count         2369 non-null   int64  \n",
      " 10  desc_unique_word_count  2369 non-null   int64  \n",
      " 11  desc_stop_word_count    2369 non-null   int64  \n",
      " 12  desc_mean_word_length   2369 non-null   float64\n",
      " 13  desc_char_count         2369 non-null   int64  \n",
      " 14  desc_punctuation_count  2369 non-null   int64  \n",
      "dtypes: float64(3), int64(10), object(2)\n",
      "memory usage: 277.7+ KB\n"
     ]
    }
   ],
   "source": [
    "df.info()"
   ]
  },
  {
   "attachments": {},
   "cell_type": "markdown",
   "id": "201104ba",
   "metadata": {},
   "source": [
    "# Text Preprocessing"
   ]
  },
  {
   "cell_type": "code",
   "execution_count": 9,
   "id": "8d9b5f07",
   "metadata": {},
   "outputs": [
    {
     "name": "stderr",
     "output_type": "stream",
     "text": [
      "/var/folders/_l/048d7_xs4nq8m4g2753wq9bc0000gn/T/ipykernel_9156/360020838.py:6: FutureWarning: The default value of regex will change from True to False in a future version.\n",
      "  df[\"Name\"] = df['Name'].str.replace('[^\\w\\s]','')\n",
      "/var/folders/_l/048d7_xs4nq8m4g2753wq9bc0000gn/T/ipykernel_9156/360020838.py:7: FutureWarning: The default value of regex will change from True to False in a future version.\n",
      "  df[\"Description\"] = df['Description'].str.replace('[^\\w\\s]','')\n"
     ]
    },
    {
     "data": {
      "text/html": [
       "<div>\n",
       "<style scoped>\n",
       "    .dataframe tbody tr th:only-of-type {\n",
       "        vertical-align: middle;\n",
       "    }\n",
       "\n",
       "    .dataframe tbody tr th {\n",
       "        vertical-align: top;\n",
       "    }\n",
       "\n",
       "    .dataframe thead th {\n",
       "        text-align: right;\n",
       "    }\n",
       "</style>\n",
       "<table border=\"1\" class=\"dataframe\">\n",
       "  <thead>\n",
       "    <tr style=\"text-align: right;\">\n",
       "      <th></th>\n",
       "      <th>Name</th>\n",
       "      <th>Description</th>\n",
       "      <th>Target</th>\n",
       "      <th>name_word_count</th>\n",
       "      <th>name_unique_word_count</th>\n",
       "      <th>name_stop_word_count</th>\n",
       "      <th>name_mean_word_length</th>\n",
       "      <th>name_char_count</th>\n",
       "      <th>name_punctuation_count</th>\n",
       "      <th>desc_word_count</th>\n",
       "      <th>desc_unique_word_count</th>\n",
       "      <th>desc_stop_word_count</th>\n",
       "      <th>desc_mean_word_length</th>\n",
       "      <th>desc_char_count</th>\n",
       "      <th>desc_punctuation_count</th>\n",
       "    </tr>\n",
       "  </thead>\n",
       "  <tbody>\n",
       "    <tr>\n",
       "      <th>2364</th>\n",
       "      <td>altos odyssey</td>\n",
       "      <td>beyond horizon sits majestic desert vast unexp...</td>\n",
       "      <td>31.500000</td>\n",
       "      <td>2</td>\n",
       "      <td>2</td>\n",
       "      <td>0</td>\n",
       "      <td>6.500000</td>\n",
       "      <td>14</td>\n",
       "      <td>1</td>\n",
       "      <td>299</td>\n",
       "      <td>206</td>\n",
       "      <td>105</td>\n",
       "      <td>5.130435</td>\n",
       "      <td>1832</td>\n",
       "      <td>57</td>\n",
       "    </tr>\n",
       "    <tr>\n",
       "      <th>2365</th>\n",
       "      <td>trucker real wheels  simulator</td>\n",
       "      <td>take role trucker transport various cargoes ea...</td>\n",
       "      <td>26.600000</td>\n",
       "      <td>5</td>\n",
       "      <td>5</td>\n",
       "      <td>0</td>\n",
       "      <td>5.400000</td>\n",
       "      <td>31</td>\n",
       "      <td>1</td>\n",
       "      <td>287</td>\n",
       "      <td>172</td>\n",
       "      <td>108</td>\n",
       "      <td>4.867596</td>\n",
       "      <td>1683</td>\n",
       "      <td>57</td>\n",
       "    </tr>\n",
       "    <tr>\n",
       "      <th>2366</th>\n",
       "      <td>random dice wars</td>\n",
       "      <td>send dice army war realtime simple fun  easy s...</td>\n",
       "      <td>22.795880</td>\n",
       "      <td>3</td>\n",
       "      <td>3</td>\n",
       "      <td>0</td>\n",
       "      <td>5.000000</td>\n",
       "      <td>17</td>\n",
       "      <td>1</td>\n",
       "      <td>303</td>\n",
       "      <td>194</td>\n",
       "      <td>67</td>\n",
       "      <td>5.788779</td>\n",
       "      <td>2056</td>\n",
       "      <td>146</td>\n",
       "    </tr>\n",
       "    <tr>\n",
       "      <th>2367</th>\n",
       "      <td>battle racing stars  multiplayer games</td>\n",
       "      <td>battle racing stars new halfbrick studios game...</td>\n",
       "      <td>28.200000</td>\n",
       "      <td>6</td>\n",
       "      <td>6</td>\n",
       "      <td>0</td>\n",
       "      <td>5.666667</td>\n",
       "      <td>39</td>\n",
       "      <td>1</td>\n",
       "      <td>67</td>\n",
       "      <td>57</td>\n",
       "      <td>24</td>\n",
       "      <td>5.328358</td>\n",
       "      <td>423</td>\n",
       "      <td>23</td>\n",
       "    </tr>\n",
       "    <tr>\n",
       "      <th>2368</th>\n",
       "      <td>farmville 3  animals</td>\n",
       "      <td>start animal farm ground breeding building thr...</td>\n",
       "      <td>29.475468</td>\n",
       "      <td>4</td>\n",
       "      <td>4</td>\n",
       "      <td>0</td>\n",
       "      <td>4.500000</td>\n",
       "      <td>21</td>\n",
       "      <td>1</td>\n",
       "      <td>594</td>\n",
       "      <td>318</td>\n",
       "      <td>204</td>\n",
       "      <td>5.037037</td>\n",
       "      <td>3585</td>\n",
       "      <td>129</td>\n",
       "    </tr>\n",
       "  </tbody>\n",
       "</table>\n",
       "</div>"
      ],
      "text/plain": [
       "                                        Name  \\\n",
       "2364                           altos odyssey   \n",
       "2365          trucker real wheels  simulator   \n",
       "2366                        random dice wars   \n",
       "2367  battle racing stars  multiplayer games   \n",
       "2368                    farmville 3  animals   \n",
       "\n",
       "                                            Description     Target  \\\n",
       "2364  beyond horizon sits majestic desert vast unexp...  31.500000   \n",
       "2365  take role trucker transport various cargoes ea...  26.600000   \n",
       "2366  send dice army war realtime simple fun  easy s...  22.795880   \n",
       "2367  battle racing stars new halfbrick studios game...  28.200000   \n",
       "2368  start animal farm ground breeding building thr...  29.475468   \n",
       "\n",
       "      name_word_count  name_unique_word_count  name_stop_word_count  \\\n",
       "2364                2                       2                     0   \n",
       "2365                5                       5                     0   \n",
       "2366                3                       3                     0   \n",
       "2367                6                       6                     0   \n",
       "2368                4                       4                     0   \n",
       "\n",
       "      name_mean_word_length  name_char_count  name_punctuation_count  \\\n",
       "2364               6.500000               14                       1   \n",
       "2365               5.400000               31                       1   \n",
       "2366               5.000000               17                       1   \n",
       "2367               5.666667               39                       1   \n",
       "2368               4.500000               21                       1   \n",
       "\n",
       "      desc_word_count  desc_unique_word_count  desc_stop_word_count  \\\n",
       "2364              299                     206                   105   \n",
       "2365              287                     172                   108   \n",
       "2366              303                     194                    67   \n",
       "2367               67                      57                    24   \n",
       "2368              594                     318                   204   \n",
       "\n",
       "      desc_mean_word_length  desc_char_count  desc_punctuation_count  \n",
       "2364               5.130435             1832                      57  \n",
       "2365               4.867596             1683                      57  \n",
       "2366               5.788779             2056                     146  \n",
       "2367               5.328358              423                      23  \n",
       "2368               5.037037             3585                     129  "
      ]
     },
     "execution_count": 9,
     "metadata": {},
     "output_type": "execute_result"
    }
   ],
   "source": [
    "# Remove stopwords & convert to lower case\n",
    "df['Name'] = df['Name'].apply(lambda x: ' '.join([w for w in str(x).lower().split() if w not in stop_words]))\n",
    "df['Description'] = df['Description'].apply(lambda x: ' '.join([w for w in str(x).lower().split() if w not in stop_words]))\n",
    "\n",
    "# Remove Punctuations\n",
    "df[\"Name\"] = df['Name'].str.replace('[^\\w\\s]','')\n",
    "df[\"Description\"] = df['Description'].str.replace('[^\\w\\s]','')\n",
    "\n",
    "df.tail()"
   ]
  },
  {
   "cell_type": "code",
   "execution_count": 10,
   "id": "3870bb21",
   "metadata": {},
   "outputs": [
    {
     "name": "stderr",
     "output_type": "stream",
     "text": [
      "[nltk_data] Downloading package punkt to /Users/erenkotar/nltk_data...\n",
      "[nltk_data]   Package punkt is already up-to-date!\n"
     ]
    },
    {
     "data": {
      "text/plain": [
       "True"
      ]
     },
     "execution_count": 10,
     "metadata": {},
     "output_type": "execute_result"
    }
   ],
   "source": [
    "import nltk\n",
    "from nltk.tokenize import word_tokenize\n",
    "nltk.download('punkt')"
   ]
  },
  {
   "cell_type": "code",
   "execution_count": 11,
   "id": "3aa33c15",
   "metadata": {},
   "outputs": [
    {
     "data": {
      "text/html": [
       "<div>\n",
       "<style scoped>\n",
       "    .dataframe tbody tr th:only-of-type {\n",
       "        vertical-align: middle;\n",
       "    }\n",
       "\n",
       "    .dataframe tbody tr th {\n",
       "        vertical-align: top;\n",
       "    }\n",
       "\n",
       "    .dataframe thead th {\n",
       "        text-align: right;\n",
       "    }\n",
       "</style>\n",
       "<table border=\"1\" class=\"dataframe\">\n",
       "  <thead>\n",
       "    <tr style=\"text-align: right;\">\n",
       "      <th></th>\n",
       "      <th>Name</th>\n",
       "      <th>Description</th>\n",
       "      <th>Target</th>\n",
       "      <th>name_word_count</th>\n",
       "      <th>name_unique_word_count</th>\n",
       "      <th>name_stop_word_count</th>\n",
       "      <th>name_mean_word_length</th>\n",
       "      <th>name_char_count</th>\n",
       "      <th>name_punctuation_count</th>\n",
       "      <th>desc_word_count</th>\n",
       "      <th>desc_unique_word_count</th>\n",
       "      <th>desc_stop_word_count</th>\n",
       "      <th>desc_mean_word_length</th>\n",
       "      <th>desc_char_count</th>\n",
       "      <th>desc_punctuation_count</th>\n",
       "      <th>token_name</th>\n",
       "      <th>token_desc</th>\n",
       "    </tr>\n",
       "  </thead>\n",
       "  <tbody>\n",
       "    <tr>\n",
       "      <th>0</th>\n",
       "      <td>geometry dash lite</td>\n",
       "      <td>jump fly way danger rhythmbased action platfor...</td>\n",
       "      <td>35.2</td>\n",
       "      <td>3</td>\n",
       "      <td>3</td>\n",
       "      <td>0</td>\n",
       "      <td>5.333333</td>\n",
       "      <td>18</td>\n",
       "      <td>0</td>\n",
       "      <td>114</td>\n",
       "      <td>83</td>\n",
       "      <td>36</td>\n",
       "      <td>5.271930</td>\n",
       "      <td>714</td>\n",
       "      <td>20</td>\n",
       "      <td>[geometry, dash, lite]</td>\n",
       "      <td>[jump, fly, way, danger, rhythmbased, action, ...</td>\n",
       "    </tr>\n",
       "    <tr>\n",
       "      <th>1</th>\n",
       "      <td>fastlane road revenge</td>\n",
       "      <td>took city shouldve taken car reclaim no1 posit...</td>\n",
       "      <td>32.2</td>\n",
       "      <td>4</td>\n",
       "      <td>4</td>\n",
       "      <td>1</td>\n",
       "      <td>5.500000</td>\n",
       "      <td>25</td>\n",
       "      <td>1</td>\n",
       "      <td>241</td>\n",
       "      <td>186</td>\n",
       "      <td>72</td>\n",
       "      <td>5.804979</td>\n",
       "      <td>1639</td>\n",
       "      <td>119</td>\n",
       "      <td>[fastlane, road, revenge]</td>\n",
       "      <td>[took, city, shouldve, taken, car, reclaim, no...</td>\n",
       "    </tr>\n",
       "  </tbody>\n",
       "</table>\n",
       "</div>"
      ],
      "text/plain": [
       "                    Name                                        Description  \\\n",
       "0     geometry dash lite  jump fly way danger rhythmbased action platfor...   \n",
       "1  fastlane road revenge  took city shouldve taken car reclaim no1 posit...   \n",
       "\n",
       "   Target  name_word_count  name_unique_word_count  name_stop_word_count  \\\n",
       "0    35.2                3                       3                     0   \n",
       "1    32.2                4                       4                     1   \n",
       "\n",
       "   name_mean_word_length  name_char_count  name_punctuation_count  \\\n",
       "0               5.333333               18                       0   \n",
       "1               5.500000               25                       1   \n",
       "\n",
       "   desc_word_count  desc_unique_word_count  desc_stop_word_count  \\\n",
       "0              114                      83                    36   \n",
       "1              241                     186                    72   \n",
       "\n",
       "   desc_mean_word_length  desc_char_count  desc_punctuation_count  \\\n",
       "0               5.271930              714                      20   \n",
       "1               5.804979             1639                     119   \n",
       "\n",
       "                  token_name  \\\n",
       "0     [geometry, dash, lite]   \n",
       "1  [fastlane, road, revenge]   \n",
       "\n",
       "                                          token_desc  \n",
       "0  [jump, fly, way, danger, rhythmbased, action, ...  \n",
       "1  [took, city, shouldve, taken, car, reclaim, no...  "
      ]
     },
     "execution_count": 11,
     "metadata": {},
     "output_type": "execute_result"
    }
   ],
   "source": [
    "df['token_name']=df['Name'].apply(lambda X: word_tokenize(X))\n",
    "df['token_desc'] = df['Description'].apply(lambda X: word_tokenize(X))\n",
    "df.head(2)"
   ]
  },
  {
   "cell_type": "code",
   "execution_count": 12,
   "id": "1e39f7d3",
   "metadata": {},
   "outputs": [
    {
     "name": "stderr",
     "output_type": "stream",
     "text": [
      "[nltk_data] Downloading package wordnet to\n",
      "[nltk_data]     /Users/erenkotar/nltk_data...\n",
      "[nltk_data]   Package wordnet is already up-to-date!\n",
      "[nltk_data] Downloading package omw-1.4 to\n",
      "[nltk_data]     /Users/erenkotar/nltk_data...\n",
      "[nltk_data]   Package omw-1.4 is already up-to-date!\n"
     ]
    },
    {
     "data": {
      "text/plain": [
       "True"
      ]
     },
     "execution_count": 12,
     "metadata": {},
     "output_type": "execute_result"
    }
   ],
   "source": [
    "import nltk\n",
    "nltk.download('wordnet')\n",
    "nltk.download('omw-1.4')"
   ]
  },
  {
   "cell_type": "markdown",
   "id": "8d064521",
   "metadata": {},
   "source": [
    "# Text Normalization"
   ]
  },
  {
   "cell_type": "markdown",
   "id": "12ebf9c4",
   "metadata": {},
   "source": [
    "## Lemmatization"
   ]
  },
  {
   "cell_type": "code",
   "execution_count": 13,
   "id": "59e3f403",
   "metadata": {},
   "outputs": [],
   "source": [
    "from nltk.stem.wordnet import WordNetLemmatizer\n",
    "lemmatizer = nltk.stem.WordNetLemmatizer()\n",
    "def lemmatize_text(text):\n",
    "    return [lemmatizer.lemmatize(w) for w in text]\n",
    "\n",
    "df[\"token_name\"] = df[\"token_name\"].apply(lemmatize_text)\n",
    "df[\"token_desc\"] = df[\"token_desc\"].apply(lemmatize_text)"
   ]
  },
  {
   "cell_type": "code",
   "execution_count": 14,
   "id": "256e5f22",
   "metadata": {},
   "outputs": [
    {
     "data": {
      "text/html": [
       "<div>\n",
       "<style scoped>\n",
       "    .dataframe tbody tr th:only-of-type {\n",
       "        vertical-align: middle;\n",
       "    }\n",
       "\n",
       "    .dataframe tbody tr th {\n",
       "        vertical-align: top;\n",
       "    }\n",
       "\n",
       "    .dataframe thead th {\n",
       "        text-align: right;\n",
       "    }\n",
       "</style>\n",
       "<table border=\"1\" class=\"dataframe\">\n",
       "  <thead>\n",
       "    <tr style=\"text-align: right;\">\n",
       "      <th></th>\n",
       "      <th>Name</th>\n",
       "      <th>Description</th>\n",
       "      <th>Target</th>\n",
       "      <th>name_word_count</th>\n",
       "      <th>name_unique_word_count</th>\n",
       "      <th>name_stop_word_count</th>\n",
       "      <th>name_mean_word_length</th>\n",
       "      <th>name_char_count</th>\n",
       "      <th>name_punctuation_count</th>\n",
       "      <th>desc_word_count</th>\n",
       "      <th>desc_unique_word_count</th>\n",
       "      <th>desc_stop_word_count</th>\n",
       "      <th>desc_mean_word_length</th>\n",
       "      <th>desc_char_count</th>\n",
       "      <th>desc_punctuation_count</th>\n",
       "      <th>token_name</th>\n",
       "      <th>token_desc</th>\n",
       "    </tr>\n",
       "  </thead>\n",
       "  <tbody>\n",
       "    <tr>\n",
       "      <th>0</th>\n",
       "      <td>geometry dash lite</td>\n",
       "      <td>jump fly way danger rhythmbased action platfor...</td>\n",
       "      <td>35.2</td>\n",
       "      <td>3</td>\n",
       "      <td>3</td>\n",
       "      <td>0</td>\n",
       "      <td>5.333333</td>\n",
       "      <td>18</td>\n",
       "      <td>0</td>\n",
       "      <td>114</td>\n",
       "      <td>83</td>\n",
       "      <td>36</td>\n",
       "      <td>5.271930</td>\n",
       "      <td>714</td>\n",
       "      <td>20</td>\n",
       "      <td>[geometry, dash, lite]</td>\n",
       "      <td>[jump, fly, way, danger, rhythmbased, action, ...</td>\n",
       "    </tr>\n",
       "    <tr>\n",
       "      <th>1</th>\n",
       "      <td>fastlane road revenge</td>\n",
       "      <td>took city shouldve taken car reclaim no1 posit...</td>\n",
       "      <td>32.2</td>\n",
       "      <td>4</td>\n",
       "      <td>4</td>\n",
       "      <td>1</td>\n",
       "      <td>5.500000</td>\n",
       "      <td>25</td>\n",
       "      <td>1</td>\n",
       "      <td>241</td>\n",
       "      <td>186</td>\n",
       "      <td>72</td>\n",
       "      <td>5.804979</td>\n",
       "      <td>1639</td>\n",
       "      <td>119</td>\n",
       "      <td>[fastlane, road, revenge]</td>\n",
       "      <td>[took, city, shouldve, taken, car, reclaim, no...</td>\n",
       "    </tr>\n",
       "    <tr>\n",
       "      <th>2</th>\n",
       "      <td>esports life tycoon  manage esports team</td>\n",
       "      <td>manage esports team sign best players train su...</td>\n",
       "      <td>12.0</td>\n",
       "      <td>8</td>\n",
       "      <td>8</td>\n",
       "      <td>1</td>\n",
       "      <td>4.875000</td>\n",
       "      <td>46</td>\n",
       "      <td>1</td>\n",
       "      <td>471</td>\n",
       "      <td>288</td>\n",
       "      <td>184</td>\n",
       "      <td>5.180467</td>\n",
       "      <td>2910</td>\n",
       "      <td>64</td>\n",
       "      <td>[esports, life, tycoon, manage, esports, team]</td>\n",
       "      <td>[manage, esports, team, sign, best, player, tr...</td>\n",
       "    </tr>\n",
       "  </tbody>\n",
       "</table>\n",
       "</div>"
      ],
      "text/plain": [
       "                                       Name  \\\n",
       "0                        geometry dash lite   \n",
       "1                     fastlane road revenge   \n",
       "2  esports life tycoon  manage esports team   \n",
       "\n",
       "                                         Description  Target  name_word_count  \\\n",
       "0  jump fly way danger rhythmbased action platfor...    35.2                3   \n",
       "1  took city shouldve taken car reclaim no1 posit...    32.2                4   \n",
       "2  manage esports team sign best players train su...    12.0                8   \n",
       "\n",
       "   name_unique_word_count  name_stop_word_count  name_mean_word_length  \\\n",
       "0                       3                     0               5.333333   \n",
       "1                       4                     1               5.500000   \n",
       "2                       8                     1               4.875000   \n",
       "\n",
       "   name_char_count  name_punctuation_count  desc_word_count  \\\n",
       "0               18                       0              114   \n",
       "1               25                       1              241   \n",
       "2               46                       1              471   \n",
       "\n",
       "   desc_unique_word_count  desc_stop_word_count  desc_mean_word_length  \\\n",
       "0                      83                    36               5.271930   \n",
       "1                     186                    72               5.804979   \n",
       "2                     288                   184               5.180467   \n",
       "\n",
       "   desc_char_count  desc_punctuation_count  \\\n",
       "0              714                      20   \n",
       "1             1639                     119   \n",
       "2             2910                      64   \n",
       "\n",
       "                                       token_name  \\\n",
       "0                          [geometry, dash, lite]   \n",
       "1                       [fastlane, road, revenge]   \n",
       "2  [esports, life, tycoon, manage, esports, team]   \n",
       "\n",
       "                                          token_desc  \n",
       "0  [jump, fly, way, danger, rhythmbased, action, ...  \n",
       "1  [took, city, shouldve, taken, car, reclaim, no...  \n",
       "2  [manage, esports, team, sign, best, player, tr...  "
      ]
     },
     "execution_count": 14,
     "metadata": {},
     "output_type": "execute_result"
    }
   ],
   "source": [
    "df.head(3)"
   ]
  },
  {
   "cell_type": "code",
   "execution_count": 15,
   "id": "dceb0378",
   "metadata": {},
   "outputs": [],
   "source": [
    "# df.to_csv('data/data_text.csv', index=False)"
   ]
  },
  {
   "cell_type": "markdown",
   "id": "3d72fd2f",
   "metadata": {},
   "source": [
    "-----"
   ]
  },
  {
   "cell_type": "markdown",
   "id": "845c890a",
   "metadata": {},
   "source": [
    "df = pd.read_csv('data/data_text.csv')"
   ]
  },
  {
   "cell_type": "markdown",
   "id": "5ea7929b",
   "metadata": {},
   "source": [
    "## Train-Test Split\n",
    "Load index"
   ]
  },
  {
   "cell_type": "code",
   "execution_count": null,
   "id": "fbf97f07",
   "metadata": {},
   "outputs": [],
   "source": [
    "import pickle"
   ]
  },
  {
   "cell_type": "code",
   "execution_count": 17,
   "id": "9b027076",
   "metadata": {},
   "outputs": [
    {
     "name": "stdout",
     "output_type": "stream",
     "text": [
      "train_ids: 1731\n",
      "test_ids: 473\n",
      "val_ids: 236\n"
     ]
    }
   ],
   "source": [
    "# load splitted indexes\n",
    "with open('data/split_dict.pkl', 'rb') as f:\n",
    "    split_dict = pickle.load(f)"
   ]
  },
  {
   "cell_type": "code",
   "execution_count": 19,
   "id": "c8ddc78b",
   "metadata": {},
   "outputs": [],
   "source": [
    "X = df.drop(['Target'], axis=1)\n",
    "y = df[['Target']]\n",
    "\n",
    "X_train = X.loc[split_dict['train'],:]\n",
    "X_test = X.loc[split_dict['test'],:]\n",
    "X_val = X.loc[split_dict['val'],:]\n",
    "\n",
    "y_train = y.loc[split_dict['train']]\n",
    "y_test = y.loc[split_dict['test']]\n",
    "y_val = y.loc[split_dict['val']]"
   ]
  },
  {
   "cell_type": "markdown",
   "id": "035775f0",
   "metadata": {},
   "source": [
    "# Model Architecture"
   ]
  },
  {
   "cell_type": "code",
   "execution_count": 20,
   "id": "7286b211",
   "metadata": {},
   "outputs": [
    {
     "name": "stderr",
     "output_type": "stream",
     "text": [
      "2023-11-05 00:26:03.901359: I tensorflow/core/platform/cpu_feature_guard.cc:193] This TensorFlow binary is optimized with oneAPI Deep Neural Network Library (oneDNN) to use the following CPU instructions in performance-critical operations:  AVX2 AVX512F AVX512_VNNI FMA\n",
      "To enable them in other operations, rebuild TensorFlow with the appropriate compiler flags.\n"
     ]
    }
   ],
   "source": [
    "import tensorflow as tf\n",
    "from tensorflow.keras.preprocessing.text import Tokenizer\n",
    "from tensorflow.keras.preprocessing.sequence import pad_sequences\n"
   ]
  },
  {
   "cell_type": "code",
   "execution_count": 21,
   "id": "632293bd",
   "metadata": {},
   "outputs": [],
   "source": [
    "X_train = X_train.token_desc.values\n",
    "X_test = X_test.token_desc.values\n",
    "X_val = X_val.token_desc.values"
   ]
  },
  {
   "cell_type": "code",
   "execution_count": 22,
   "id": "5a0054b7",
   "metadata": {},
   "outputs": [],
   "source": [
    "OOV_TOKEN = '<OOV>' # for out of vocabulary words\n",
    "VOCAB_SIZE = 10000\n",
    "MAX_LEN = 200\n",
    "EMBEDDING_DIM = 100\n",
    "\n",
    "tokenizer = Tokenizer(\n",
    "    num_words=VOCAB_SIZE,\n",
    "    oov_token=OOV_TOKEN\n",
    ")\n",
    "\n",
    "tokenizer.fit_on_texts(X_train)"
   ]
  },
  {
   "cell_type": "code",
   "execution_count": 23,
   "id": "f9037aee",
   "metadata": {},
   "outputs": [],
   "source": [
    "train_seq = tokenizer.texts_to_sequences(X_train)\n",
    "train_padded = pad_sequences(\n",
    "    train_seq, maxlen=MAX_LEN, dtype='int32', padding='post',\n",
    "    truncating='post'\n",
    ")\n",
    "\n",
    "test_seq = tokenizer.texts_to_sequences(X_test)\n",
    "test_padded = pad_sequences(\n",
    "    test_seq, maxlen=MAX_LEN, dtype='int32', padding='post',\n",
    "    truncating='post'\n",
    ")\n",
    "\n",
    "val_seq = tokenizer.texts_to_sequences(X_val)\n",
    "val_padded = pad_sequences(\n",
    "    test_seq, maxlen=MAX_LEN, dtype='int32', padding='post',\n",
    "    truncating='post'\n",
    ")"
   ]
  },
  {
   "cell_type": "code",
   "execution_count": 28,
   "id": "11c719f7",
   "metadata": {},
   "outputs": [
    {
     "name": "stdout",
     "output_type": "stream",
     "text": [
      "Model: \"model_1\"\n",
      "_________________________________________________________________\n",
      " Layer (type)                Output Shape              Param #   \n",
      "=================================================================\n",
      " input_2 (InputLayer)        [(None, 200)]             0         \n",
      "                                                                 \n",
      " Embedding (Embedding)       (None, 200, 100)          1000000   \n",
      "                                                                 \n",
      " dropout_4 (Dropout)         (None, 200, 100)          0         \n",
      "                                                                 \n",
      " lstm_1 (LSTM)               (None, 200, 128)          117248    \n",
      "                                                                 \n",
      " dropout_5 (Dropout)         (None, 200, 128)          0         \n",
      "                                                                 \n",
      " global_max_pooling1d (Globa  (None, 128)              0         \n",
      " lMaxPooling1D)                                                  \n",
      "                                                                 \n",
      " dense_3 (Dense)             (None, 512)               66048     \n",
      "                                                                 \n",
      " dropout_6 (Dropout)         (None, 512)               0         \n",
      "                                                                 \n",
      " dense_4 (Dense)             (None, 256)               131328    \n",
      "                                                                 \n",
      " dropout_7 (Dropout)         (None, 256)               0         \n",
      "                                                                 \n",
      " dense_5 (Dense)             (None, 1)                 257       \n",
      "                                                                 \n",
      "=================================================================\n",
      "Total params: 1,314,881\n",
      "Trainable params: 1,314,881\n",
      "Non-trainable params: 0\n",
      "_________________________________________________________________\n"
     ]
    }
   ],
   "source": [
    "from tensorflow.keras.models import Model\n",
    "from tensorflow.keras.layers import Input, Embedding, LSTM, Dense, Dropout\n",
    "from tensorflow.keras.optimizers import Adam\n",
    "from tensorflow.keras.callbacks import EarlyStopping\n",
    "from tensorflow.keras.layers import GlobalMaxPooling1D\n",
    "\n",
    "input_text = Input(shape=(MAX_LEN,))\n",
    "\n",
    "embedding = Embedding(VOCAB_SIZE, EMBEDDING_DIM, name='Embedding', input_length=MAX_LEN)(input_text)\n",
    "dropoutEmb = Dropout(0.25)(embedding)\n",
    "\n",
    "# lstm1 = LSTM(128, return_sequences=False)(dropoutEmb)\n",
    "# dropoutLstm1 = Dropout(0.3)(lstm1)\n",
    "\n",
    "lstm1 = LSTM(128, return_sequences=True)(dropoutEmb)\n",
    "dropoutLstm1 = Dropout(0.3)(lstm1)\n",
    "global_pool = GlobalMaxPooling1D()(dropoutLstm1)\n",
    "\n",
    "dense1 = Dense(512, activation='relu')(global_pool)\n",
    "dropoutD1 = Dropout(0.65)(dense1)\n",
    "\n",
    "dense2 = Dense(256, activation='relu')(dropoutD1)\n",
    "dropoutD2 = Dropout(0.65)(dense2)\n",
    "\n",
    "output = Dense(1)(dropoutD2) \n",
    " \n",
    "model = Model(inputs=input_text, outputs=output)\n",
    "model.compile(optimizer=Adam(), loss='mean_squared_error', metrics=['mean_absolute_percentage_error'])\n",
    "\n",
    "model.summary()\n"
   ]
  },
  {
   "cell_type": "code",
   "execution_count": 29,
   "id": "3c517f1f",
   "metadata": {},
   "outputs": [],
   "source": [
    "es_cb = EarlyStopping(patience=6, \n",
    "                   monitor='loss', \n",
    "                   restore_best_weights=True, \n",
    "                   mode='min', \n",
    "                   verbose=1)"
   ]
  },
  {
   "cell_type": "code",
   "execution_count": 30,
   "id": "4e54fae1",
   "metadata": {},
   "outputs": [
    {
     "name": "stderr",
     "output_type": "stream",
     "text": [
      "2023-11-05 00:32:22.668211: I tensorflow/core/profiler/lib/profiler_session.cc:101] Profiler session initializing.\n",
      "2023-11-05 00:32:22.668231: I tensorflow/core/profiler/lib/profiler_session.cc:116] Profiler session started.\n",
      "2023-11-05 00:32:22.668776: I tensorflow/core/profiler/lib/profiler_session.cc:128] Profiler session tear down.\n"
     ]
    }
   ],
   "source": [
    "from tensorflow.keras.callbacks import TensorBoard\n",
    "import os\n",
    "import datetime\n",
    "# tensorboard --logdir logs/fit\n",
    "\n",
    "log_dir = os.path.join(\"logs\", \"fit\", datetime.datetime.now().strftime(\"%Y%m%d-%H%M%S\"))\n",
    "tb_cb = TensorBoard(log_dir=log_dir, histogram_freq=1, profile_batch='500,520')"
   ]
  },
  {
   "cell_type": "code",
   "execution_count": 31,
   "id": "77378b25",
   "metadata": {},
   "outputs": [
    {
     "name": "stdout",
     "output_type": "stream",
     "text": [
      "Epoch 1/25\n",
      "55/55 [==============================] - 15s 190ms/step - loss: 185.6785 - mean_absolute_percentage_error: 38.7404 - val_loss: 79.5970 - val_mean_absolute_percentage_error: 27.7147\n",
      "Epoch 2/25\n",
      "55/55 [==============================] - 10s 186ms/step - loss: 47.1146 - mean_absolute_percentage_error: 21.7322 - val_loss: 91.0504 - val_mean_absolute_percentage_error: 30.0513\n",
      "Epoch 3/25\n",
      "55/55 [==============================] - 9s 171ms/step - loss: 44.3868 - mean_absolute_percentage_error: 21.1999 - val_loss: 77.3014 - val_mean_absolute_percentage_error: 27.1873\n",
      "Epoch 4/25\n",
      "55/55 [==============================] - 9s 162ms/step - loss: 42.5541 - mean_absolute_percentage_error: 20.7254 - val_loss: 110.6725 - val_mean_absolute_percentage_error: 33.9281\n",
      "Epoch 5/25\n",
      "55/55 [==============================] - 9s 162ms/step - loss: 36.4460 - mean_absolute_percentage_error: 19.1709 - val_loss: 109.2388 - val_mean_absolute_percentage_error: 33.7601\n",
      "Epoch 6/25\n",
      "55/55 [==============================] - 9s 164ms/step - loss: 35.0242 - mean_absolute_percentage_error: 18.3725 - val_loss: 89.7249 - val_mean_absolute_percentage_error: 29.7732\n",
      "Epoch 7/25\n",
      "55/55 [==============================] - 9s 161ms/step - loss: 31.0642 - mean_absolute_percentage_error: 17.3149 - val_loss: 97.5860 - val_mean_absolute_percentage_error: 31.3984\n",
      "Epoch 8/25\n",
      "55/55 [==============================] - 9s 162ms/step - loss: 28.8178 - mean_absolute_percentage_error: 16.5870 - val_loss: 73.3200 - val_mean_absolute_percentage_error: 26.3948\n",
      "Epoch 9/25\n",
      "55/55 [==============================] - 10s 181ms/step - loss: 28.3506 - mean_absolute_percentage_error: 16.3266 - val_loss: 118.9792 - val_mean_absolute_percentage_error: 35.6864\n",
      "Epoch 10/25\n",
      " 4/55 [=>............................] - ETA: 10s - loss: 27.5697 - mean_absolute_percentage_error: 15.9940"
     ]
    },
    {
     "name": "stderr",
     "output_type": "stream",
     "text": [
      "2023-11-05 00:33:57.209692: I tensorflow/core/profiler/lib/profiler_session.cc:101] Profiler session initializing.\n",
      "2023-11-05 00:33:57.209727: I tensorflow/core/profiler/lib/profiler_session.cc:116] Profiler session started.\n"
     ]
    },
    {
     "name": "stdout",
     "output_type": "stream",
     "text": [
      "24/55 [============>.................] - ETA: 6s - loss: 28.6051 - mean_absolute_percentage_error: 15.9525"
     ]
    },
    {
     "name": "stderr",
     "output_type": "stream",
     "text": [
      "2023-11-05 00:34:03.194923: I tensorflow/core/profiler/lib/profiler_session.cc:67] Profiler session collecting data.\n",
      "2023-11-05 00:34:04.089940: I tensorflow/core/profiler/lib/profiler_session.cc:128] Profiler session tear down.\n",
      "2023-11-05 00:34:04.090605: I tensorflow/core/profiler/rpc/client/save_profile.cc:164] Collecting XSpace to repository: logs/fit/20231105-003222/plugins/profile/2023_11_05_00_34_04/EreNecibs-Macbook.local.xplane.pb\n"
     ]
    },
    {
     "name": "stdout",
     "output_type": "stream",
     "text": [
      "55/55 [==============================] - 13s 243ms/step - loss: 26.5487 - mean_absolute_percentage_error: 15.6288 - val_loss: 109.4975 - val_mean_absolute_percentage_error: 33.7891\n",
      "Epoch 11/25\n",
      "55/55 [==============================] - 10s 174ms/step - loss: 25.7528 - mean_absolute_percentage_error: 15.2806 - val_loss: 92.8989 - val_mean_absolute_percentage_error: 30.4154\n",
      "Epoch 12/25\n",
      "55/55 [==============================] - 11s 195ms/step - loss: 23.8840 - mean_absolute_percentage_error: 14.7916 - val_loss: 89.2426 - val_mean_absolute_percentage_error: 29.6921\n",
      "Epoch 13/25\n",
      "55/55 [==============================] - 11s 196ms/step - loss: 24.3896 - mean_absolute_percentage_error: 15.0600 - val_loss: 105.7908 - val_mean_absolute_percentage_error: 32.9756\n",
      "Epoch 14/25\n",
      "55/55 [==============================] - 11s 191ms/step - loss: 22.3509 - mean_absolute_percentage_error: 14.1755 - val_loss: 105.8751 - val_mean_absolute_percentage_error: 33.0270\n",
      "Epoch 15/25\n",
      "55/55 [==============================] - 11s 193ms/step - loss: 22.3418 - mean_absolute_percentage_error: 14.2097 - val_loss: 58.8910 - val_mean_absolute_percentage_error: 23.2031\n",
      "Epoch 16/25\n",
      "55/55 [==============================] - 9s 164ms/step - loss: 21.3151 - mean_absolute_percentage_error: 14.0011 - val_loss: 99.5359 - val_mean_absolute_percentage_error: 31.7851\n",
      "Epoch 17/25\n",
      "55/55 [==============================] - 9s 162ms/step - loss: 20.7855 - mean_absolute_percentage_error: 14.0377 - val_loss: 85.4740 - val_mean_absolute_percentage_error: 28.9532\n",
      "Epoch 18/25\n",
      "55/55 [==============================] - 9s 169ms/step - loss: 20.9269 - mean_absolute_percentage_error: 13.7811 - val_loss: 107.9503 - val_mean_absolute_percentage_error: 33.4647\n",
      "Epoch 19/25\n",
      "55/55 [==============================] - 9s 170ms/step - loss: 20.0902 - mean_absolute_percentage_error: 13.4190 - val_loss: 87.7793 - val_mean_absolute_percentage_error: 29.3073\n",
      "Epoch 20/25\n",
      "55/55 [==============================] - 9s 167ms/step - loss: 20.1244 - mean_absolute_percentage_error: 13.4373 - val_loss: 90.3216 - val_mean_absolute_percentage_error: 29.8406\n",
      "Epoch 21/25\n",
      "55/55 [==============================] - 9s 168ms/step - loss: 20.4322 - mean_absolute_percentage_error: 13.5010 - val_loss: 74.7432 - val_mean_absolute_percentage_error: 26.5317\n",
      "Epoch 22/25\n",
      "55/55 [==============================] - 12s 211ms/step - loss: 20.0277 - mean_absolute_percentage_error: 13.4638 - val_loss: 83.8416 - val_mean_absolute_percentage_error: 28.4392\n",
      "Epoch 23/25\n",
      "55/55 [==============================] - 12s 215ms/step - loss: 19.4038 - mean_absolute_percentage_error: 13.3605 - val_loss: 90.3852 - val_mean_absolute_percentage_error: 29.7997\n",
      "Epoch 24/25\n",
      "55/55 [==============================] - 11s 206ms/step - loss: 18.6055 - mean_absolute_percentage_error: 12.8948 - val_loss: 84.3862 - val_mean_absolute_percentage_error: 28.7361\n",
      "Epoch 25/25\n",
      "55/55 [==============================] - 11s 204ms/step - loss: 19.6444 - mean_absolute_percentage_error: 13.2852 - val_loss: 94.7878 - val_mean_absolute_percentage_error: 30.7705\n"
     ]
    }
   ],
   "source": [
    "hist = model.fit(\n",
    "    train_padded,\n",
    "    y = y_train,\n",
    "    validation_data=(val_padded, y_test),\n",
    "    epochs=25,\n",
    "    callbacks=[es_cb, tb_cb]\n",
    ")"
   ]
  },
  {
   "cell_type": "markdown",
   "id": "6f9a65d9",
   "metadata": {},
   "source": [
    "## Visualize training history"
   ]
  },
  {
   "cell_type": "code",
   "execution_count": 32,
   "id": "5a128213",
   "metadata": {},
   "outputs": [],
   "source": [
    "best_epoch = np.argmin(hist.history['val_loss']) + 1"
   ]
  },
  {
   "cell_type": "code",
   "execution_count": 33,
   "id": "8259b13c",
   "metadata": {},
   "outputs": [
    {
     "data": {
      "image/png": "[encoded data removed]",
      "text/plain": [
       "<Figure size 864x288 with 2 Axes>"
      ]
     },
     "metadata": {
      "needs_background": "light"
     },
     "output_type": "display_data"
    }
   ],
   "source": [
    "# plot loss and mape and put mark the best epoch\n",
    "plt.figure(figsize=(12, 4))\n",
    "\n",
    "plt.subplot(1, 2, 1)\n",
    "plt.plot(hist.history['loss'], label='Train MSE (Loss)')\n",
    "plt.plot(hist.history['val_loss'], label='Validation MSE (Loss)')\n",
    "plt.axvline(x=best_epoch, color='r', linestyle='--')\n",
    "plt.legend()\n",
    "\n",
    "plt.subplot(1, 2, 2)\n",
    "plt.plot(hist.history['mean_absolute_percentage_error'], label='Train MAPE')\n",
    "plt.plot(hist.history['val_mean_absolute_percentage_error'], label='Validation MAPE')\n",
    "plt.axvline(x=best_epoch, color='r', linestyle='--')\n",
    "plt.legend()\n",
    "plt.show()"
   ]
  },
  {
   "cell_type": "markdown",
   "id": "ef3da415",
   "metadata": {},
   "source": [
    "# Save Model & Tokens & Split Index"
   ]
  },
  {
   "cell_type": "code",
   "execution_count": 34,
   "id": "cbfef6da",
   "metadata": {},
   "outputs": [],
   "source": [
    "model_dict = {\n",
    "    'sequences': {\n",
    "        'train': train_seq,\n",
    "        'test': test_seq,\n",
    "        'val': val_seq\n",
    "    },\n",
    "    'padded': {\n",
    "        'train': train_padded,\n",
    "        'test': test_padded,\n",
    "        'val': val_padded\n",
    "    },\n",
    "    # 'model': {\n",
    "    #     'model': model,\n",
    "    #     'history': hist\n",
    "    # },\n",
    "    'tokenizer': tokenizer,\n",
    "    'vocab_size': VOCAB_SIZE,\n",
    "    'max_len': MAX_LEN,\n",
    "    'embedding_dim': EMBEDDING_DIM,\n",
    "    'oov_token': OOV_TOKEN,\n",
    "    'best_epoch': best_epoch,\n",
    "}\n",
    "\n",
    "# dump model_dict\n",
    "with open('models/model_dict.pkl', 'wb') as f:\n",
    "    pickle.dump(model_dict, f)"
   ]
  },
  {
   "cell_type": "code",
   "execution_count": 35,
   "id": "c10d389b",
   "metadata": {},
   "outputs": [],
   "source": [
    "# Save the model as an H5 file\n",
    "model.save('models/nlp_model.h5')"
   ]
  },
  {
   "cell_type": "markdown",
   "id": "e5322c39",
   "metadata": {},
   "source": [
    "---"
   ]
  },
  {
   "cell_type": "markdown",
   "id": "77fd5e43",
   "metadata": {},
   "source": [
    "# Another approach by Eren KOTAR"
   ]
  },
  {
   "cell_type": "code",
   "execution_count": 30,
   "id": "64baf9e6",
   "metadata": {},
   "outputs": [],
   "source": [
    "import numpy as np\n",
    "import pandas as pd"
   ]
  },
  {
   "cell_type": "code",
   "execution_count": 1,
   "id": "75d81694",
   "metadata": {},
   "outputs": [
    {
     "data": {
      "application/vnd.jupyter.widget-view+json": {
       "model_id": "2cbd95a2ac7f4553b87314903b7b3110",
       "version_major": 2,
       "version_minor": 0
      },
      "text/plain": [
       "Downloading (…)lve/main/config.json:   0%|          | 0.00/570 [00:00<?, ?B/s]"
      ]
     },
     "metadata": {},
     "output_type": "display_data"
    },
    {
     "name": "stderr",
     "output_type": "stream",
     "text": [
      "c:\\Users\\erenk\\AppData\\Local\\Programs\\Python\\Python310\\lib\\site-packages\\huggingface_hub\\file_download.py:133: UserWarning: `huggingface_hub` cache-system uses symlinks by default to efficiently store duplicated files but your machine does not support them in C:\\Users\\erenk\\.cache\\huggingface\\hub. Caching files will still work but in a degraded version that might require more space on your disk. This warning can be disabled by setting the `HF_HUB_DISABLE_SYMLINKS_WARNING` environment variable. For more details, see https://huggingface.co/docs/huggingface_hub/how-to-cache#limitations.\n",
      "To support symlinks on Windows, you either need to activate Developer Mode or to run Python as an administrator. In order to see activate developer mode, see this article: https://docs.microsoft.com/en-us/windows/apps/get-started/enable-your-device-for-development\n",
      "  warnings.warn(message)\n"
     ]
    },
    {
     "data": {
      "application/vnd.jupyter.widget-view+json": {
       "model_id": "9bcbdbbe75aa438c871689beb8bcac46",
       "version_major": 2,
       "version_minor": 0
      },
      "text/plain": [
       "Downloading model.safetensors:   0%|          | 0.00/440M [00:00<?, ?B/s]"
      ]
     },
     "metadata": {},
     "output_type": "display_data"
    },
    {
     "name": "stderr",
     "output_type": "stream",
     "text": [
      "Some weights of the PyTorch model were not used when initializing the TF 2.0 model TFBertModel: ['cls.predictions.transform.LayerNorm.weight', 'cls.predictions.transform.dense.weight', 'cls.seq_relationship.weight', 'cls.predictions.bias', 'cls.predictions.transform.LayerNorm.bias', 'cls.seq_relationship.bias', 'cls.predictions.transform.dense.bias']\n",
      "- This IS expected if you are initializing TFBertModel from a PyTorch model trained on another task or with another architecture (e.g. initializing a TFBertForSequenceClassification model from a BertForPreTraining model).\n",
      "- This IS NOT expected if you are initializing TFBertModel from a PyTorch model that you expect to be exactly identical (e.g. initializing a TFBertForSequenceClassification model from a BertForSequenceClassification model).\n",
      "All the weights of TFBertModel were initialized from the PyTorch model.\n",
      "If your task is similar to the task the model of the checkpoint was trained on, you can already use TFBertModel for predictions without further training.\n"
     ]
    },
    {
     "data": {
      "application/vnd.jupyter.widget-view+json": {
       "model_id": "f49940b5cde54753b43aa55f4ecb550d",
       "version_major": 2,
       "version_minor": 0
      },
      "text/plain": [
       "Downloading (…)solve/main/vocab.txt:   0%|          | 0.00/232k [00:00<?, ?B/s]"
      ]
     },
     "metadata": {},
     "output_type": "display_data"
    },
    {
     "data": {
      "application/vnd.jupyter.widget-view+json": {
       "model_id": "5173582a172a4e3480940ecb1b4bbd9f",
       "version_major": 2,
       "version_minor": 0
      },
      "text/plain": [
       "Downloading (…)okenizer_config.json:   0%|          | 0.00/28.0 [00:00<?, ?B/s]"
      ]
     },
     "metadata": {},
     "output_type": "display_data"
    }
   ],
   "source": [
    "import tensorflow as tf\n",
    "from tensorflow.keras.layers import Input, Dense, Concatenate\n",
    "from tensorflow.keras.models import Model\n",
    "from transformers import TFBertModel, BertTokenizer\n",
    "\n",
    "# Loading pre-trained LLM (BERT)\n",
    "bert_model = TFBertModel.from_pretrained('bert-base-uncased')\n",
    "tokenizer = BertTokenizer.from_pretrained('bert-base-uncased')"
   ]
  },
  {
   "cell_type": "code",
   "execution_count": 31,
   "id": "4fe0d033",
   "metadata": {},
   "outputs": [
    {
     "data": {
      "text/html": [
       "<div>\n",
       "<style scoped>\n",
       "    .dataframe tbody tr th:only-of-type {\n",
       "        vertical-align: middle;\n",
       "    }\n",
       "\n",
       "    .dataframe tbody tr th {\n",
       "        vertical-align: top;\n",
       "    }\n",
       "\n",
       "    .dataframe thead th {\n",
       "        text-align: right;\n",
       "    }\n",
       "</style>\n",
       "<table border=\"1\" class=\"dataframe\">\n",
       "  <thead>\n",
       "    <tr style=\"text-align: right;\">\n",
       "      <th></th>\n",
       "      <th>Name</th>\n",
       "      <th>Number_of_Rating</th>\n",
       "      <th>Genre</th>\n",
       "      <th>Price</th>\n",
       "      <th>Description</th>\n",
       "      <th>Updated</th>\n",
       "      <th>Size</th>\n",
       "      <th>Requires_Android</th>\n",
       "      <th>Content_Rating</th>\n",
       "      <th>Offered_By</th>\n",
       "      <th>...</th>\n",
       "      <th>last_update_ln</th>\n",
       "      <th>In_app_Products_Mean</th>\n",
       "      <th>Free_or_Not</th>\n",
       "      <th>Price_Segment</th>\n",
       "      <th>R_mean</th>\n",
       "      <th>G_mean</th>\n",
       "      <th>B_mean</th>\n",
       "      <th>R_std</th>\n",
       "      <th>G_std</th>\n",
       "      <th>B_std</th>\n",
       "    </tr>\n",
       "    <tr>\n",
       "      <th>ID</th>\n",
       "      <th></th>\n",
       "      <th></th>\n",
       "      <th></th>\n",
       "      <th></th>\n",
       "      <th></th>\n",
       "      <th></th>\n",
       "      <th></th>\n",
       "      <th></th>\n",
       "      <th></th>\n",
       "      <th></th>\n",
       "      <th></th>\n",
       "      <th></th>\n",
       "      <th></th>\n",
       "      <th></th>\n",
       "      <th></th>\n",
       "      <th></th>\n",
       "      <th></th>\n",
       "      <th></th>\n",
       "      <th></th>\n",
       "      <th></th>\n",
       "      <th></th>\n",
       "    </tr>\n",
       "  </thead>\n",
       "  <tbody>\n",
       "    <tr>\n",
       "      <th>0</th>\n",
       "      <td>Geometry Dash Lite</td>\n",
       "      <td>7227039</td>\n",
       "      <td>Arcade</td>\n",
       "      <td>0.00</td>\n",
       "      <td>Jump and fly your way through danger in this r...</td>\n",
       "      <td>2019-12-11</td>\n",
       "      <td>5.857981</td>\n",
       "      <td>4.0</td>\n",
       "      <td>1</td>\n",
       "      <td>RobTop Games</td>\n",
       "      <td>...</td>\n",
       "      <td>6.802395</td>\n",
       "      <td>0.0</td>\n",
       "      <td>1.0</td>\n",
       "      <td>0.0</td>\n",
       "      <td>109.975656</td>\n",
       "      <td>123.210478</td>\n",
       "      <td>55.596528</td>\n",
       "      <td>117.723707</td>\n",
       "      <td>78.084704</td>\n",
       "      <td>73.268847</td>\n",
       "    </tr>\n",
       "    <tr>\n",
       "      <th>1</th>\n",
       "      <td>Fastlane: Road to Revenge</td>\n",
       "      <td>621784</td>\n",
       "      <td>Action</td>\n",
       "      <td>0.00</td>\n",
       "      <td>THEY TOOK YOUR CITY. THEY SHOULD’VE TAKEN YOUR...</td>\n",
       "      <td>2021-08-16</td>\n",
       "      <td>6.523562</td>\n",
       "      <td>4.4</td>\n",
       "      <td>2</td>\n",
       "      <td>Space Ape</td>\n",
       "      <td>...</td>\n",
       "      <td>5.655992</td>\n",
       "      <td>49.5</td>\n",
       "      <td>1.0</td>\n",
       "      <td>0.0</td>\n",
       "      <td>111.865795</td>\n",
       "      <td>123.851474</td>\n",
       "      <td>104.913302</td>\n",
       "      <td>78.302310</td>\n",
       "      <td>87.087182</td>\n",
       "      <td>76.248771</td>\n",
       "    </tr>\n",
       "    <tr>\n",
       "      <th>2</th>\n",
       "      <td>Esports Life Tycoon | Manage your esports team</td>\n",
       "      <td>309</td>\n",
       "      <td>Simulation</td>\n",
       "      <td>3.99</td>\n",
       "      <td>Manage your own esports team. Sign up the best...</td>\n",
       "      <td>2021-05-10</td>\n",
       "      <td>5.321928</td>\n",
       "      <td>4.4</td>\n",
       "      <td>1</td>\n",
       "      <td>UPLAY Online</td>\n",
       "      <td>...</td>\n",
       "      <td>5.950643</td>\n",
       "      <td>0.0</td>\n",
       "      <td>0.0</td>\n",
       "      <td>1.0</td>\n",
       "      <td>82.604599</td>\n",
       "      <td>77.480062</td>\n",
       "      <td>129.321636</td>\n",
       "      <td>73.164192</td>\n",
       "      <td>68.286013</td>\n",
       "      <td>71.654148</td>\n",
       "    </tr>\n",
       "  </tbody>\n",
       "</table>\n",
       "<p>3 rows × 34 columns</p>\n",
       "</div>"
      ],
      "text/plain": [
       "                                              Name  Number_of_Rating  \\\n",
       "ID                                                                     \n",
       "0                               Geometry Dash Lite           7227039   \n",
       "1                        Fastlane: Road to Revenge            621784   \n",
       "2   Esports Life Tycoon | Manage your esports team               309   \n",
       "\n",
       "         Genre  Price                                        Description  \\\n",
       "ID                                                                         \n",
       "0       Arcade   0.00  Jump and fly your way through danger in this r...   \n",
       "1       Action   0.00  THEY TOOK YOUR CITY. THEY SHOULD’VE TAKEN YOUR...   \n",
       "2   Simulation   3.99  Manage your own esports team. Sign up the best...   \n",
       "\n",
       "       Updated      Size  Requires_Android  Content_Rating    Offered_By  ...  \\\n",
       "ID                                                                        ...   \n",
       "0   2019-12-11  5.857981               4.0               1  RobTop Games  ...   \n",
       "1   2021-08-16  6.523562               4.4               2     Space Ape  ...   \n",
       "2   2021-05-10  5.321928               4.4               1  UPLAY Online  ...   \n",
       "\n",
       "   last_update_ln In_app_Products_Mean  Free_or_Not  Price_Segment  \\\n",
       "ID                                                                   \n",
       "0        6.802395                  0.0          1.0            0.0   \n",
       "1        5.655992                 49.5          1.0            0.0   \n",
       "2        5.950643                  0.0          0.0            1.0   \n",
       "\n",
       "        R_mean      G_mean      B_mean       R_std      G_std      B_std  \n",
       "ID                                                                        \n",
       "0   109.975656  123.210478   55.596528  117.723707  78.084704  73.268847  \n",
       "1   111.865795  123.851474  104.913302   78.302310  87.087182  76.248771  \n",
       "2    82.604599   77.480062  129.321636   73.164192  68.286013  71.654148  \n",
       "\n",
       "[3 rows x 34 columns]"
      ]
     },
     "execution_count": 31,
     "metadata": {},
     "output_type": "execute_result"
    }
   ],
   "source": [
    "df = pd.read_csv(\"data/data_pp.csv\", index_col=0)\n",
    "df.head(3)"
   ]
  },
  {
   "cell_type": "code",
   "execution_count": 37,
   "id": "f9b50249",
   "metadata": {},
   "outputs": [],
   "source": [
    "def encode_text(texts, tokenizer, max_len=256):\n",
    "    tokens = tokenizer.batch_encode_plus(\n",
    "        texts,\n",
    "        max_length=max_len,\n",
    "        truncation=True,\n",
    "        padding='max_length',\n",
    "        return_tensors='tf'\n",
    "    )\n",
    "    return tokens['input_ids'], tokens['attention_mask']"
   ]
  },
  {
   "cell_type": "code",
   "execution_count": 44,
   "id": "c3e42093",
   "metadata": {},
   "outputs": [],
   "source": [
    "a = df['Description'].values[0]\n",
    "a_enc = encode_text(texts=a, tokenizer=tokenizer, max_len=256)"
   ]
  },
  {
   "cell_type": "code",
   "execution_count": 45,
   "id": "51cbb776",
   "metadata": {},
   "outputs": [],
   "source": [
    "bert_model(a_enc)"
   ]
  },
  {
   "cell_type": "code",
   "execution_count": null,
   "id": "85a65e2b",
   "metadata": {},
   "outputs": [],
   "source": [
    "bert_output = bert_model(input_ids, attention_mask=attention_mask)\n",
    "text_embeddings = bert_output.last_hidden_state[:, 0, :]"
   ]
  },
  {
   "cell_type": "code",
   "execution_count": null,
   "id": "c90db539",
   "metadata": {},
   "outputs": [],
   "source": [
    "\n",
    "def encode_text(texts, tokenizer, max_len=256):\n",
    "    tokens = tokenizer.batch_encode_plus(\n",
    "        texts,\n",
    "        max_length=max_len,\n",
    "        truncation=True,\n",
    "        padding='max_length',\n",
    "        return_tensors='tf'\n",
    "    )\n",
    "    return tokens['input_ids'], tokens['attention_mask']\n",
    "\n",
    "# Define the model\n",
    "def build_model(num_integer_features, bert_model, hidden_units=[128, 64], output_units=1):\n",
    "    # Input layers\n",
    "    input_ids = Input(shape=(256,), dtype=tf.int32, name='input_ids')\n",
    "    attention_mask = Input(shape=(256,), dtype=tf.int32, name='attention_mask')\n",
    "    integer_features = Input(shape=(num_integer_features,), name='integer_features')\n",
    "    \n",
    "    # LLM for text embeddings\n",
    "    bert_output = bert_model(input_ids, attention_mask=attention_mask)\n",
    "    text_embeddings = bert_output.last_hidden_state[:, 0, :]\n",
    "    \n",
    "    # Concatenate embeddings with integer features\n",
    "    concatenated = Concatenate()([text_embeddings, integer_features])\n",
    "    \n",
    "    # Feed-forward neural network\n",
    "    x = concatenated\n",
    "    for units in hidden_units:\n",
    "        x = Dense(units, activation='relu')(x)\n",
    "    output = Dense(output_units)(x)\n",
    "    \n",
    "    model = Model(inputs=[input_ids, attention_mask, integer_features], outputs=output)\n",
    "    return model\n",
    "\n",
    "# Let's assume you have 10 integer features\n",
    "num_integer_features = 10\n",
    "model = build_model(num_integer_features, bert_model)\n",
    "\n",
    "model.compile(optimizer='adam', loss='mse')\n",
    "\n",
    "# Dummy data\n",
    "# Assuming you have the following data\n",
    "texts = [\"This is a great game!\", \"I didn't like this game.\"]\n",
    "input_ids, attention_masks = encode_text(texts, tokenizer)\n",
    "integer_features_data = np.random.randint(0, 100, size=(len(texts), num_integer_features))\n",
    "output_data = np.random.random(size=(len(texts),))\n",
    "\n",
    "# Train the model\n",
    "model.fit([input_ids, attention_masks, integer_features_data], output_data, epochs=5)\n"
   ]
  },
  {
   "cell_type": "code",
   "execution_count": null,
   "id": "acb88557",
   "metadata": {},
   "outputs": [],
   "source": []
  },
  {
   "cell_type": "code",
   "execution_count": null,
   "id": "b75aa55d",
   "metadata": {},
   "outputs": [],
   "source": []
  },
  {
   "cell_type": "code",
   "execution_count": null,
   "id": "b8fe636a",
   "metadata": {},
   "outputs": [],
   "source": []
  }
 ],
 "metadata": {
  "kernelspec": {
   "display_name": "Python 3.10.8 64-bit (microsoft store)",
   "language": "python",
   "name": "python3"
  },
  "language_info": {
   "codemirror_mode": {
    "name": "ipython",
    "version": 3
   },
   "file_extension": ".py",
   "mimetype": "text/x-python",
   "name": "python",
   "nbconvert_exporter": "python",
   "pygments_lexer": "ipython3",
   "version": "3.10.0"
  },
  "vscode": {
   "interpreter": {
    "hash": "0968f6b77a0e707b2b4dd80b7dae2e4c510b4c957823151bcb4eb0206d133ab3"
   }
  }
 },
 "nbformat": 4,
 "nbformat_minor": 5
}
