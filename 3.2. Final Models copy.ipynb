{
 "cells": [
  {
   "cell_type": "markdown",
   "metadata": {},
   "source": [
    "# UTILS"
   ]
  },
  {
   "cell_type": "code",
   "execution_count": 23,
   "metadata": {},
   "outputs": [],
   "source": [
    "import numpy as np\n",
    "import pandas as pd\n",
    "pd.set_option('display.max_columns', None)\n",
    "\n",
    "import os\n",
    "import PIL\n",
    "from PIL import Image\n",
    "import pathlib\n",
    "import pickle\n",
    "\n",
    "import matplotlib.pyplot as plt\n",
    "\n",
    "from scipy.stats import uniform, randint\n",
    "from sklearn.pipeline import Pipeline\n",
    "from sklearn.preprocessing import StandardScaler, MinMaxScaler\n",
    "from sklearn.model_selection import GridSearchCV, cross_validate, RandomizedSearchCV"
   ]
  },
  {
   "cell_type": "markdown",
   "metadata": {},
   "source": [
    "# Load Data & Models"
   ]
  },
  {
   "cell_type": "code",
   "execution_count": 24,
   "metadata": {},
   "outputs": [
    {
     "data": {
      "text/html": [
       "<div>\n",
       "<style scoped>\n",
       "    .dataframe tbody tr th:only-of-type {\n",
       "        vertical-align: middle;\n",
       "    }\n",
       "\n",
       "    .dataframe tbody tr th {\n",
       "        vertical-align: top;\n",
       "    }\n",
       "\n",
       "    .dataframe thead th {\n",
       "        text-align: right;\n",
       "    }\n",
       "</style>\n",
       "<table border=\"1\" class=\"dataframe\">\n",
       "  <thead>\n",
       "    <tr style=\"text-align: right;\">\n",
       "      <th></th>\n",
       "      <th>Name</th>\n",
       "      <th>Genre</th>\n",
       "      <th>Price</th>\n",
       "      <th>Description</th>\n",
       "      <th>Updated</th>\n",
       "      <th>Size</th>\n",
       "      <th>RequiresAndroid</th>\n",
       "      <th>ContentRating</th>\n",
       "      <th>OfferedBy</th>\n",
       "      <th>InteractiveElements</th>\n",
       "      <th>InAppProductsMin</th>\n",
       "      <th>InAppProductsMax</th>\n",
       "      <th>InAppProductsBinary</th>\n",
       "      <th>Target</th>\n",
       "      <th>NumOfWord</th>\n",
       "      <th>AvgNumOfChars</th>\n",
       "      <th>DigitalPurchases</th>\n",
       "      <th>InAppPurchases</th>\n",
       "      <th>InGamePurchases</th>\n",
       "      <th>SharesInfo</th>\n",
       "      <th>SharesLocation</th>\n",
       "      <th>UsersInteract</th>\n",
       "      <th>LastUpdate</th>\n",
       "      <th>LastUpdateLn</th>\n",
       "      <th>InAppProductsMean</th>\n",
       "      <th>FreeOrNot</th>\n",
       "      <th>PriceSegment</th>\n",
       "      <th>SizeLn2</th>\n",
       "      <th>Rmean</th>\n",
       "      <th>Gmean</th>\n",
       "      <th>Bmean</th>\n",
       "      <th>Rstd</th>\n",
       "      <th>Gstd</th>\n",
       "      <th>Bstd</th>\n",
       "    </tr>\n",
       "    <tr>\n",
       "      <th>ID</th>\n",
       "      <th></th>\n",
       "      <th></th>\n",
       "      <th></th>\n",
       "      <th></th>\n",
       "      <th></th>\n",
       "      <th></th>\n",
       "      <th></th>\n",
       "      <th></th>\n",
       "      <th></th>\n",
       "      <th></th>\n",
       "      <th></th>\n",
       "      <th></th>\n",
       "      <th></th>\n",
       "      <th></th>\n",
       "      <th></th>\n",
       "      <th></th>\n",
       "      <th></th>\n",
       "      <th></th>\n",
       "      <th></th>\n",
       "      <th></th>\n",
       "      <th></th>\n",
       "      <th></th>\n",
       "      <th></th>\n",
       "      <th></th>\n",
       "      <th></th>\n",
       "      <th></th>\n",
       "      <th></th>\n",
       "      <th></th>\n",
       "      <th></th>\n",
       "      <th></th>\n",
       "      <th></th>\n",
       "      <th></th>\n",
       "      <th></th>\n",
       "      <th></th>\n",
       "    </tr>\n",
       "  </thead>\n",
       "  <tbody>\n",
       "    <tr>\n",
       "      <th>0</th>\n",
       "      <td>Geometry Dash Lite</td>\n",
       "      <td>Arcade</td>\n",
       "      <td>0.0</td>\n",
       "      <td>Jump and fly your way through danger in this r...</td>\n",
       "      <td>2019-12-11</td>\n",
       "      <td>58.0</td>\n",
       "      <td>4.0</td>\n",
       "      <td>1</td>\n",
       "      <td>RobTop Games</td>\n",
       "      <td>['No Element']</td>\n",
       "      <td>0.00</td>\n",
       "      <td>0.00</td>\n",
       "      <td>0</td>\n",
       "      <td>35.2</td>\n",
       "      <td>3.0</td>\n",
       "      <td>5.333333</td>\n",
       "      <td>0</td>\n",
       "      <td>0</td>\n",
       "      <td>0</td>\n",
       "      <td>0</td>\n",
       "      <td>0</td>\n",
       "      <td>0</td>\n",
       "      <td>900</td>\n",
       "      <td>6.802395</td>\n",
       "      <td>0.0</td>\n",
       "      <td>1.0</td>\n",
       "      <td>0.0</td>\n",
       "      <td>5.857981</td>\n",
       "      <td>109.975656</td>\n",
       "      <td>123.210478</td>\n",
       "      <td>55.596528</td>\n",
       "      <td>117.723707</td>\n",
       "      <td>78.084704</td>\n",
       "      <td>73.268847</td>\n",
       "    </tr>\n",
       "    <tr>\n",
       "      <th>1</th>\n",
       "      <td>Fastlane: Road to Revenge</td>\n",
       "      <td>Action</td>\n",
       "      <td>0.0</td>\n",
       "      <td>THEY TOOK YOUR CITY. THEY SHOULD’VE TAKEN YOUR...</td>\n",
       "      <td>2021-08-16</td>\n",
       "      <td>92.0</td>\n",
       "      <td>4.4</td>\n",
       "      <td>2</td>\n",
       "      <td>Space Ape</td>\n",
       "      <td>['Digital Purchases']</td>\n",
       "      <td>0.99</td>\n",
       "      <td>99.99</td>\n",
       "      <td>1</td>\n",
       "      <td>32.2</td>\n",
       "      <td>4.0</td>\n",
       "      <td>5.250000</td>\n",
       "      <td>1</td>\n",
       "      <td>0</td>\n",
       "      <td>0</td>\n",
       "      <td>0</td>\n",
       "      <td>0</td>\n",
       "      <td>0</td>\n",
       "      <td>286</td>\n",
       "      <td>5.655992</td>\n",
       "      <td>49.5</td>\n",
       "      <td>1.0</td>\n",
       "      <td>0.0</td>\n",
       "      <td>6.523562</td>\n",
       "      <td>111.865795</td>\n",
       "      <td>123.851474</td>\n",
       "      <td>104.913302</td>\n",
       "      <td>78.302310</td>\n",
       "      <td>87.087182</td>\n",
       "      <td>76.248771</td>\n",
       "    </tr>\n",
       "  </tbody>\n",
       "</table>\n",
       "</div>"
      ],
      "text/plain": [
       "                         Name   Genre  Price  \\\n",
       "ID                                             \n",
       "0          Geometry Dash Lite  Arcade    0.0   \n",
       "1   Fastlane: Road to Revenge  Action    0.0   \n",
       "\n",
       "                                          Description     Updated  Size  \\\n",
       "ID                                                                        \n",
       "0   Jump and fly your way through danger in this r...  2019-12-11  58.0   \n",
       "1   THEY TOOK YOUR CITY. THEY SHOULD’VE TAKEN YOUR...  2021-08-16  92.0   \n",
       "\n",
       "    RequiresAndroid  ContentRating     OfferedBy    InteractiveElements  \\\n",
       "ID                                                                        \n",
       "0               4.0              1  RobTop Games         ['No Element']   \n",
       "1               4.4              2     Space Ape  ['Digital Purchases']   \n",
       "\n",
       "    InAppProductsMin  InAppProductsMax  InAppProductsBinary  Target  \\\n",
       "ID                                                                    \n",
       "0               0.00              0.00                    0    35.2   \n",
       "1               0.99             99.99                    1    32.2   \n",
       "\n",
       "    NumOfWord  AvgNumOfChars  DigitalPurchases  InAppPurchases  \\\n",
       "ID                                                               \n",
       "0         3.0       5.333333                 0               0   \n",
       "1         4.0       5.250000                 1               0   \n",
       "\n",
       "    InGamePurchases  SharesInfo  SharesLocation  UsersInteract  LastUpdate  \\\n",
       "ID                                                                           \n",
       "0                 0           0               0              0         900   \n",
       "1                 0           0               0              0         286   \n",
       "\n",
       "    LastUpdateLn  InAppProductsMean  FreeOrNot  PriceSegment   SizeLn2  \\\n",
       "ID                                                                       \n",
       "0       6.802395                0.0        1.0           0.0  5.857981   \n",
       "1       5.655992               49.5        1.0           0.0  6.523562   \n",
       "\n",
       "         Rmean       Gmean       Bmean        Rstd       Gstd       Bstd  \n",
       "ID                                                                        \n",
       "0   109.975656  123.210478   55.596528  117.723707  78.084704  73.268847  \n",
       "1   111.865795  123.851474  104.913302   78.302310  87.087182  76.248771  "
      ]
     },
     "execution_count": 24,
     "metadata": {},
     "output_type": "execute_result"
    }
   ],
   "source": [
    "df = pd.read_csv(\"data/data_pp.csv\", index_col=0)\n",
    "\n",
    "df.head(2)"
   ]
  },
  {
   "cell_type": "code",
   "execution_count": 25,
   "metadata": {},
   "outputs": [],
   "source": [
    "# load splitted indexes\n",
    "with open('data/split_dict.pkl', 'rb') as f:\n",
    "    split_dict = pickle.load(f)"
   ]
  },
  {
   "cell_type": "code",
   "execution_count": 26,
   "metadata": {},
   "outputs": [],
   "source": [
    "from tensorflow.keras.models import load_model"
   ]
  },
  {
   "cell_type": "code",
   "execution_count": 27,
   "metadata": {},
   "outputs": [],
   "source": [
    "# Load the model\n",
    "model = load_model('models/nlp_model.h5') "
   ]
  },
  {
   "cell_type": "code",
   "execution_count": 28,
   "metadata": {},
   "outputs": [],
   "source": [
    "# load model dictionary\n",
    "with open('models/model_dict.pkl', 'rb') as dict_handle:\n",
    "    model_dict = pickle.load(dict_handle)"
   ]
  },
  {
   "attachments": {},
   "cell_type": "markdown",
   "metadata": {},
   "source": [
    "# MODELS"
   ]
  },
  {
   "cell_type": "code",
   "execution_count": 29,
   "metadata": {},
   "outputs": [
    {
     "data": {
      "text/html": [
       "<div>\n",
       "<style scoped>\n",
       "    .dataframe tbody tr th:only-of-type {\n",
       "        vertical-align: middle;\n",
       "    }\n",
       "\n",
       "    .dataframe tbody tr th {\n",
       "        vertical-align: top;\n",
       "    }\n",
       "\n",
       "    .dataframe thead th {\n",
       "        text-align: right;\n",
       "    }\n",
       "</style>\n",
       "<table border=\"1\" class=\"dataframe\">\n",
       "  <thead>\n",
       "    <tr style=\"text-align: right;\">\n",
       "      <th></th>\n",
       "      <th>Name</th>\n",
       "      <th>Genre</th>\n",
       "      <th>Price</th>\n",
       "      <th>Description</th>\n",
       "      <th>Updated</th>\n",
       "      <th>Size</th>\n",
       "      <th>RequiresAndroid</th>\n",
       "      <th>ContentRating</th>\n",
       "      <th>OfferedBy</th>\n",
       "      <th>InteractiveElements</th>\n",
       "      <th>InAppProductsMin</th>\n",
       "      <th>InAppProductsMax</th>\n",
       "      <th>InAppProductsBinary</th>\n",
       "      <th>Target</th>\n",
       "      <th>NumOfWord</th>\n",
       "      <th>AvgNumOfChars</th>\n",
       "      <th>DigitalPurchases</th>\n",
       "      <th>InAppPurchases</th>\n",
       "      <th>InGamePurchases</th>\n",
       "      <th>SharesInfo</th>\n",
       "      <th>SharesLocation</th>\n",
       "      <th>UsersInteract</th>\n",
       "      <th>LastUpdate</th>\n",
       "      <th>LastUpdateLn</th>\n",
       "      <th>InAppProductsMean</th>\n",
       "      <th>FreeOrNot</th>\n",
       "      <th>PriceSegment</th>\n",
       "      <th>SizeLn2</th>\n",
       "      <th>Rmean</th>\n",
       "      <th>Gmean</th>\n",
       "      <th>Bmean</th>\n",
       "      <th>Rstd</th>\n",
       "      <th>Gstd</th>\n",
       "      <th>Bstd</th>\n",
       "    </tr>\n",
       "    <tr>\n",
       "      <th>ID</th>\n",
       "      <th></th>\n",
       "      <th></th>\n",
       "      <th></th>\n",
       "      <th></th>\n",
       "      <th></th>\n",
       "      <th></th>\n",
       "      <th></th>\n",
       "      <th></th>\n",
       "      <th></th>\n",
       "      <th></th>\n",
       "      <th></th>\n",
       "      <th></th>\n",
       "      <th></th>\n",
       "      <th></th>\n",
       "      <th></th>\n",
       "      <th></th>\n",
       "      <th></th>\n",
       "      <th></th>\n",
       "      <th></th>\n",
       "      <th></th>\n",
       "      <th></th>\n",
       "      <th></th>\n",
       "      <th></th>\n",
       "      <th></th>\n",
       "      <th></th>\n",
       "      <th></th>\n",
       "      <th></th>\n",
       "      <th></th>\n",
       "      <th></th>\n",
       "      <th></th>\n",
       "      <th></th>\n",
       "      <th></th>\n",
       "      <th></th>\n",
       "      <th></th>\n",
       "    </tr>\n",
       "  </thead>\n",
       "  <tbody>\n",
       "    <tr>\n",
       "      <th>0</th>\n",
       "      <td>Geometry Dash Lite</td>\n",
       "      <td>Arcade</td>\n",
       "      <td>0.0</td>\n",
       "      <td>Jump and fly your way through danger in this r...</td>\n",
       "      <td>2019-12-11</td>\n",
       "      <td>58.0</td>\n",
       "      <td>4.0</td>\n",
       "      <td>1</td>\n",
       "      <td>RobTop Games</td>\n",
       "      <td>['No Element']</td>\n",
       "      <td>0.0</td>\n",
       "      <td>0.0</td>\n",
       "      <td>0</td>\n",
       "      <td>35.2</td>\n",
       "      <td>3.0</td>\n",
       "      <td>5.333333</td>\n",
       "      <td>0</td>\n",
       "      <td>0</td>\n",
       "      <td>0</td>\n",
       "      <td>0</td>\n",
       "      <td>0</td>\n",
       "      <td>0</td>\n",
       "      <td>900</td>\n",
       "      <td>6.802395</td>\n",
       "      <td>0.0</td>\n",
       "      <td>1.0</td>\n",
       "      <td>0.0</td>\n",
       "      <td>5.857981</td>\n",
       "      <td>109.975656</td>\n",
       "      <td>123.210478</td>\n",
       "      <td>55.596528</td>\n",
       "      <td>117.723707</td>\n",
       "      <td>78.084704</td>\n",
       "      <td>73.268847</td>\n",
       "    </tr>\n",
       "  </tbody>\n",
       "</table>\n",
       "</div>"
      ],
      "text/plain": [
       "                  Name   Genre  Price  \\\n",
       "ID                                      \n",
       "0   Geometry Dash Lite  Arcade    0.0   \n",
       "\n",
       "                                          Description     Updated  Size  \\\n",
       "ID                                                                        \n",
       "0   Jump and fly your way through danger in this r...  2019-12-11  58.0   \n",
       "\n",
       "    RequiresAndroid  ContentRating     OfferedBy InteractiveElements  \\\n",
       "ID                                                                     \n",
       "0               4.0              1  RobTop Games      ['No Element']   \n",
       "\n",
       "    InAppProductsMin  InAppProductsMax  InAppProductsBinary  Target  \\\n",
       "ID                                                                    \n",
       "0                0.0               0.0                    0    35.2   \n",
       "\n",
       "    NumOfWord  AvgNumOfChars  DigitalPurchases  InAppPurchases  \\\n",
       "ID                                                               \n",
       "0         3.0       5.333333                 0               0   \n",
       "\n",
       "    InGamePurchases  SharesInfo  SharesLocation  UsersInteract  LastUpdate  \\\n",
       "ID                                                                           \n",
       "0                 0           0               0              0         900   \n",
       "\n",
       "    LastUpdateLn  InAppProductsMean  FreeOrNot  PriceSegment   SizeLn2  \\\n",
       "ID                                                                       \n",
       "0       6.802395                0.0        1.0           0.0  5.857981   \n",
       "\n",
       "         Rmean       Gmean      Bmean        Rstd       Gstd       Bstd  \n",
       "ID                                                                       \n",
       "0   109.975656  123.210478  55.596528  117.723707  78.084704  73.268847  "
      ]
     },
     "execution_count": 29,
     "metadata": {},
     "output_type": "execute_result"
    }
   ],
   "source": [
    "df.head(1)"
   ]
  },
  {
   "attachments": {},
   "cell_type": "markdown",
   "metadata": {},
   "source": [
    "## Preparation"
   ]
  },
  {
   "cell_type": "code",
   "execution_count": 31,
   "metadata": {},
   "outputs": [],
   "source": [
    "tb_cols = [\"Genre\",\"Price\",\"Size\",\"RequiresAndroid\",\n",
    "            \"ContentRating\",\"OfferedBy\",\"InAppProductsMin\",\n",
    "            \"InAppProductsMax\",\"InAppProductsMean\",\"InAppProductsBinary\",\n",
    "            \"NumOfWord\",\"AvgNumOfChars\",\n",
    "            \"DigitalPurchases\",\"InAppPurchases\",\"InGamePurchases\",\n",
    "            \"SharesInfo\",\"SharesLocation\",\"UsersInteract\",\n",
    "            \"LastUpdate\",\"LastUpdateLn\",\"FreeOrNot\",\"PriceSegment\",\"SizeLn2\",\n",
    "            # \"R_mean\",\"G_mean\",\"B_mean\",\n",
    "            # \"R_std\",\"G_std\",\"B_std\",\n",
    "            \"Target\",\n",
    "            ]"
   ]
  },
  {
   "cell_type": "code",
   "execution_count": 207,
   "metadata": {},
   "outputs": [],
   "source": [
    "class FinalModels:\n",
    "\n",
    "        BASEDIR = os.getcwd()+\"\\\\data\\\\icon_png\\\\\"\n",
    "\n",
    "        def __init__(self, df):\n",
    "                self.train_ids = None\n",
    "                self.test_ids = None\n",
    "\n",
    "                self.train_ids_path = None\n",
    "                self.test_ids_path = None\n",
    "\n",
    "                self.train_imgs = None\n",
    "                self.test_imgs = None\n",
    "\n",
    "                self.df = df\n",
    "\n",
    "        # tabular columns\n",
    "        tb_cols = [\"Genre\",\"Price\",\"Size\",\"RequiresAndroid\",\n",
    "            \"ContentRating\",\"OfferedBy\",\"InAppProductsMin\",\n",
    "            \"InAppProductsMax\",\"InAppProductsMean\",\"InAppProductsBinary\",\n",
    "            \"NumOfWord\",\"AvgNumOfChars\",\n",
    "            \"DigitalPurchases\",\"InAppPurchases\",\"InGamePurchases\",\n",
    "            \"SharesInfo\",\"SharesLocation\",\"UsersInteract\",\n",
    "            \"LastUpdate\",\"LastUpdateLn\",\"FreeOrNot\",\"PriceSegment\",\"SizeLn2\",\n",
    "            # \"R_mean\",\"G_mean\",\"B_mean\",\n",
    "            # \"R_std\",\"G_std\",\"B_std\",\n",
    "            \"Target\",\n",
    "            ]\n",
    "        \n",
    "        target_name= \"Target\"\n",
    "\n",
    "        def get_data(self, cols:list):\n",
    "                Xy_train = self.df.loc[self.train_ids, cols]\n",
    "                Xy_test = self.df.loc[self.test_ids, cols]\n",
    "\n",
    "                X_train = Xy_train.drop(columns=[self.target_name])\n",
    "                X_test = Xy_test.drop(columns=[self.target_name])\n",
    "\n",
    "                y_train = Xy_train[[self.target_name]]\n",
    "                y_test = Xy_test[[self.target_name]]\n",
    "\n",
    "                if \"Genre\" in cols:\n",
    "                        X_train = pd.get_dummies(X_train, columns=[\"Genre\"], drop_first=True)\n",
    "                        X_test = pd.get_dummies(X_test, columns=[\"Genre\"], drop_first=True)\n",
    "\n",
    "                return X_train, X_test, y_train, y_test\n",
    "        \n",
    "\n",
    "        def train_test_split(self, test_size=0.25, random_seed=42, return_ids=False):\n",
    "                if self.df.index.nunique()==self.df.shape[0]:\n",
    "                        ids = df.index.to_numpy()\n",
    "                        np.random.seed(random_seed)\n",
    "                        test_ids = np.random.choice(ids, int(len(ids)*test_size))\n",
    "                        train_ids = np.array(list(set(ids)-set(test_ids)))\n",
    "                        self.train_ids = train_ids\n",
    "                        self.test_ids = test_ids\n",
    "                        print(\"Successfuly splitted the data!\")\n",
    "\n",
    "                        self.train_ids_path = [self.BASEDIR+str(i)+\".png\" for i in train_ids]\n",
    "                        self.test_ids_path = [self.BASEDIR+str(i)+\".png\" for i in test_ids]\n",
    "                        self.append_images()\n",
    "                        \n",
    "                        print(\"Successfuly splitted the images!\")\n",
    "                        if return_ids:\n",
    "                                return train_ids, test_ids\n",
    "                \n",
    "        def append_images(self):\n",
    "                reduced_size = (28,28)\n",
    "                train_imgs = []\n",
    "                for img_path in self.train_ids_path:\n",
    "                        img = Image.open(img_path)\n",
    "                        img = img.resize(reduced_size)\n",
    "                        train_imgs.append(np.array(img))\n",
    "                self.train_imgs = np.array(train_imgs)\n",
    "\n",
    "                test_imgs = []\n",
    "                for img_path in self.test_ids_path:\n",
    "                        img = Image.open(img_path)\n",
    "                        img = img.resize(reduced_size)\n",
    "                        test_imgs.append(np.array(img))\n",
    "                self.test_imgs = np.array(test_imgs)\n",
    "                \n",
    "        def show_img(self, img_id:int, plot=True, return_info=False, print_info=False):\n",
    "\n",
    "                img_path = self.BASEDIR+str(img_id)+\".png\"\n",
    "                img = Image.open(img_path)\n",
    "\n",
    "\n",
    "                if plot:\n",
    "                        fig = plt.figure()\n",
    "                        plt.title(f'ID: {img_id}, Name: {self.df.loc[int(img_id), \"Name\"]}')\n",
    "                        plt.imshow(img)\n",
    "                \n",
    "                info_dict = {\n",
    "                        # \"Filename\": img.filename,\n",
    "                        \"Image Size\": img.size,\n",
    "                        # \"Image Height\": img.height,\n",
    "                        # \"Image Width\": img.width,\n",
    "                        # \"Image Format\": img.format,\n",
    "                        \"Image Mode\": img.mode,\n",
    "                        # \"Image is Animated\": getattr(img, \"is_animated\", False),\n",
    "                        # \"Frames in Image\": getattr(img, \"n_frames\", 1)\n",
    "                        }\n",
    "                if print_info:\n",
    "                        for label,value in info_dict.items():\n",
    "                                print(f\"{label:25}: {value}\")\n",
    "                if return_info:\n",
    "                        return info_dict\n",
    "\n",
    "        # def plot_batch(self, img_ids=[], c=None):\n",
    "\n",
    "        #         if random_num != None:\n",
    "        #                 img_ids = np.choice(self.df.index, 15)\n",
    "                \n",
    "        #         plt.figure(figsize=(16,8))\n",
    "        #         for i in range(5):\n",
    "        #                 plt.subplot(2,5,i+1)\n",
    "        #                 fname = str(i)+\".jpg\"\n",
    "        #                 image = plt.imread(new_base_dir / \"train\" / \"Cat\"/ fname)\n",
    "        #                 plt.imshow(image)\n",
    "        #                 plt.axis(\"off\")\n",
    "        #                 plt.subplot(2,5,i+1+5)\n",
    "        #                 image = plt.imread(new_base_dir / \"train\" / \"Dog\"/fname)\n",
    "        #                 plt.imshow(image)\n",
    "        #                 plt.axis(\"off\")\n",
    "                \n",
    "        # def \n",
    "        \n",
    "\n",
    "        # df_bm = pd.get_dummies(df_bm, columns=[\"Genre\"])\n",
    "        # df_ffnn = pd.get_dummies(df_ffnn, columns=[\"Genre\"])"
   ]
  },
  {
   "cell_type": "markdown",
   "metadata": {},
   "source": [
    "### Demonstrating the class"
   ]
  },
  {
   "cell_type": "code",
   "execution_count": 208,
   "metadata": {},
   "outputs": [],
   "source": [
    "Data = FinalModels(df)"
   ]
  },
  {
   "cell_type": "code",
   "execution_count": 209,
   "metadata": {},
   "outputs": [],
   "source": [
    "# check if all the images (360, 360)\n",
    "for i in Data.df.index:\n",
    "    if Data.show_img(i, plot=False, return_info=True)['Image Size']!=(360,360):\n",
    "        print(\"not 360,360 at {i}\")\n",
    "        break"
   ]
  },
  {
   "cell_type": "code",
   "execution_count": 210,
   "metadata": {},
   "outputs": [
    {
     "name": "stdout",
     "output_type": "stream",
     "text": [
      "Successfuly splitted the data!\n",
      "Successfuly splitted the images!\n"
     ]
    }
   ],
   "source": [
    "Data.train_test_split(test_size=0.25, random_seed=42, return_ids=False)"
   ]
  },
  {
   "cell_type": "code",
   "execution_count": 211,
   "metadata": {},
   "outputs": [
    {
     "name": "stdout",
     "output_type": "stream",
     "text": [
      "(1858,) (1858, 28, 28, 3)\n",
      "(592,) (592, 28, 28, 3)\n"
     ]
    }
   ],
   "source": [
    "print(Data.train_ids.shape, Data.train_imgs.shape)\n",
    "print(Data.test_ids.shape, Data.test_imgs.shape)"
   ]
  },
  {
   "attachments": {},
   "cell_type": "markdown",
   "metadata": {},
   "source": [
    "### Creating universal Cross Validation"
   ]
  },
  {
   "cell_type": "code",
   "execution_count": 212,
   "metadata": {},
   "outputs": [],
   "source": [
    "from sklearn.model_selection import KFold"
   ]
  },
  {
   "cell_type": "code",
   "execution_count": 213,
   "metadata": {},
   "outputs": [],
   "source": [
    "k_cv = KFold(n_splits=5, shuffle=True, random_state=42)"
   ]
  },
  {
   "attachments": {},
   "cell_type": "markdown",
   "metadata": {},
   "source": [
    "### Scaler"
   ]
  },
  {
   "cell_type": "code",
   "execution_count": 214,
   "metadata": {},
   "outputs": [],
   "source": [
    "from sklearn.preprocessing import StandardScaler\n",
    "\n",
    "r_scaler = StandardScaler()"
   ]
  },
  {
   "attachments": {},
   "cell_type": "markdown",
   "metadata": {},
   "source": [
    "## Benchmarks"
   ]
  },
  {
   "cell_type": "code",
   "execution_count": 215,
   "metadata": {},
   "outputs": [],
   "source": [
    "X_train_bm, X_test_bm, y_train_bm, y_test_bm = Data.get_data(cols=Data.tb_cols)"
   ]
  },
  {
   "cell_type": "markdown",
   "metadata": {},
   "source": [
    "### 1) KNN"
   ]
  },
  {
   "cell_type": "code",
   "execution_count": 216,
   "metadata": {},
   "outputs": [],
   "source": [
    "from sklearn.neighbors import KNeighborsRegressor"
   ]
  },
  {
   "attachments": {},
   "cell_type": "markdown",
   "metadata": {},
   "source": [
    "### Hyper Param Search"
   ]
  },
  {
   "cell_type": "code",
   "execution_count": 217,
   "metadata": {},
   "outputs": [],
   "source": [
    "knn_clf = KNeighborsRegressor()\n",
    "\n",
    "knn_r_grid = {\n",
    "    \"clf__n_neighbors\":[5,10,25,50,80,120]\n",
    "    }\n",
    "\n",
    "# grids manually altered\n",
    "\n",
    "knn_pipe = Pipeline([(\"scaler\", r_scaler), (\"clf\", knn_clf)])\n",
    "knn_Ser = GridSearchCV(estimator = knn_pipe, param_grid= knn_r_grid, scoring=[\"neg_mean_squared_error\",\"neg_mean_absolute_percentage_error\"], refit=\"neg_mean_squared_error\", cv = k_cv, verbose=2, n_jobs = -1)\n"
   ]
  },
  {
   "cell_type": "code",
   "execution_count": 218,
   "metadata": {},
   "outputs": [
    {
     "name": "stdout",
     "output_type": "stream",
     "text": [
      "Fitting 5 folds for each of 6 candidates, totalling 30 fits\n"
     ]
    },
    {
     "data": {
      "text/html": [
       "<style>#sk-container-id-6 {color: black;background-color: white;}#sk-container-id-6 pre{padding: 0;}#sk-container-id-6 div.sk-toggleable {background-color: white;}#sk-container-id-6 label.sk-toggleable__label {cursor: pointer;display: block;width: 100%;margin-bottom: 0;padding: 0.3em;box-sizing: border-box;text-align: center;}#sk-container-id-6 label.sk-toggleable__label-arrow:before {content: \"▸\";float: left;margin-right: 0.25em;color: #696969;}#sk-container-id-6 label.sk-toggleable__label-arrow:hover:before {color: black;}#sk-container-id-6 div.sk-estimator:hover label.sk-toggleable__label-arrow:before {color: black;}#sk-container-id-6 div.sk-toggleable__content {max-height: 0;max-width: 0;overflow: hidden;text-align: left;background-color: #f0f8ff;}#sk-container-id-6 div.sk-toggleable__content pre {margin: 0.2em;color: black;border-radius: 0.25em;background-color: #f0f8ff;}#sk-container-id-6 input.sk-toggleable__control:checked~div.sk-toggleable__content {max-height: 200px;max-width: 100%;overflow: auto;}#sk-container-id-6 input.sk-toggleable__control:checked~label.sk-toggleable__label-arrow:before {content: \"▾\";}#sk-container-id-6 div.sk-estimator input.sk-toggleable__control:checked~label.sk-toggleable__label {background-color: #d4ebff;}#sk-container-id-6 div.sk-label input.sk-toggleable__control:checked~label.sk-toggleable__label {background-color: #d4ebff;}#sk-container-id-6 input.sk-hidden--visually {border: 0;clip: rect(1px 1px 1px 1px);clip: rect(1px, 1px, 1px, 1px);height: 1px;margin: -1px;overflow: hidden;padding: 0;position: absolute;width: 1px;}#sk-container-id-6 div.sk-estimator {font-family: monospace;background-color: #f0f8ff;border: 1px dotted black;border-radius: 0.25em;box-sizing: border-box;margin-bottom: 0.5em;}#sk-container-id-6 div.sk-estimator:hover {background-color: #d4ebff;}#sk-container-id-6 div.sk-parallel-item::after {content: \"\";width: 100%;border-bottom: 1px solid gray;flex-grow: 1;}#sk-container-id-6 div.sk-label:hover label.sk-toggleable__label {background-color: #d4ebff;}#sk-container-id-6 div.sk-serial::before {content: \"\";position: absolute;border-left: 1px solid gray;box-sizing: border-box;top: 0;bottom: 0;left: 50%;z-index: 0;}#sk-container-id-6 div.sk-serial {display: flex;flex-direction: column;align-items: center;background-color: white;padding-right: 0.2em;padding-left: 0.2em;position: relative;}#sk-container-id-6 div.sk-item {position: relative;z-index: 1;}#sk-container-id-6 div.sk-parallel {display: flex;align-items: stretch;justify-content: center;background-color: white;position: relative;}#sk-container-id-6 div.sk-item::before, #sk-container-id-6 div.sk-parallel-item::before {content: \"\";position: absolute;border-left: 1px solid gray;box-sizing: border-box;top: 0;bottom: 0;left: 50%;z-index: -1;}#sk-container-id-6 div.sk-parallel-item {display: flex;flex-direction: column;z-index: 1;position: relative;background-color: white;}#sk-container-id-6 div.sk-parallel-item:first-child::after {align-self: flex-end;width: 50%;}#sk-container-id-6 div.sk-parallel-item:last-child::after {align-self: flex-start;width: 50%;}#sk-container-id-6 div.sk-parallel-item:only-child::after {width: 0;}#sk-container-id-6 div.sk-dashed-wrapped {border: 1px dashed gray;margin: 0 0.4em 0.5em 0.4em;box-sizing: border-box;padding-bottom: 0.4em;background-color: white;}#sk-container-id-6 div.sk-label label {font-family: monospace;font-weight: bold;display: inline-block;line-height: 1.2em;}#sk-container-id-6 div.sk-label-container {text-align: center;}#sk-container-id-6 div.sk-container {/* jupyter's `normalize.less` sets `[hidden] { display: none; }` but bootstrap.min.css set `[hidden] { display: none !important; }` so we also need the `!important` here to be able to override the default hidden behavior on the sphinx rendered scikit-learn.org. See: https://github.com/scikit-learn/scikit-learn/issues/21755 */display: inline-block !important;position: relative;}#sk-container-id-6 div.sk-text-repr-fallback {display: none;}</style><div id=\"sk-container-id-6\" class=\"sk-top-container\"><div class=\"sk-text-repr-fallback\"><pre>GridSearchCV(cv=KFold(n_splits=5, random_state=42, shuffle=True),\n",
       "             estimator=Pipeline(steps=[(&#x27;scaler&#x27;, StandardScaler()),\n",
       "                                       (&#x27;clf&#x27;, KNeighborsRegressor())]),\n",
       "             n_jobs=-1,\n",
       "             param_grid={&#x27;clf__n_neighbors&#x27;: [5, 10, 25, 50, 80, 120]},\n",
       "             refit=&#x27;neg_mean_squared_error&#x27;,\n",
       "             scoring=[&#x27;neg_mean_squared_error&#x27;,\n",
       "                      &#x27;neg_mean_absolute_percentage_error&#x27;],\n",
       "             verbose=2)</pre><b>In a Jupyter environment, please rerun this cell to show the HTML representation or trust the notebook. <br />On GitHub, the HTML representation is unable to render, please try loading this page with nbviewer.org.</b></div><div class=\"sk-container\" hidden><div class=\"sk-item sk-dashed-wrapped\"><div class=\"sk-label-container\"><div class=\"sk-label sk-toggleable\"><input class=\"sk-toggleable__control sk-hidden--visually\" id=\"sk-estimator-id-16\" type=\"checkbox\" ><label for=\"sk-estimator-id-16\" class=\"sk-toggleable__label sk-toggleable__label-arrow\">GridSearchCV</label><div class=\"sk-toggleable__content\"><pre>GridSearchCV(cv=KFold(n_splits=5, random_state=42, shuffle=True),\n",
       "             estimator=Pipeline(steps=[(&#x27;scaler&#x27;, StandardScaler()),\n",
       "                                       (&#x27;clf&#x27;, KNeighborsRegressor())]),\n",
       "             n_jobs=-1,\n",
       "             param_grid={&#x27;clf__n_neighbors&#x27;: [5, 10, 25, 50, 80, 120]},\n",
       "             refit=&#x27;neg_mean_squared_error&#x27;,\n",
       "             scoring=[&#x27;neg_mean_squared_error&#x27;,\n",
       "                      &#x27;neg_mean_absolute_percentage_error&#x27;],\n",
       "             verbose=2)</pre></div></div></div><div class=\"sk-parallel\"><div class=\"sk-parallel-item\"><div class=\"sk-item\"><div class=\"sk-label-container\"><div class=\"sk-label sk-toggleable\"><input class=\"sk-toggleable__control sk-hidden--visually\" id=\"sk-estimator-id-17\" type=\"checkbox\" ><label for=\"sk-estimator-id-17\" class=\"sk-toggleable__label sk-toggleable__label-arrow\">estimator: Pipeline</label><div class=\"sk-toggleable__content\"><pre>Pipeline(steps=[(&#x27;scaler&#x27;, StandardScaler()), (&#x27;clf&#x27;, KNeighborsRegressor())])</pre></div></div></div><div class=\"sk-serial\"><div class=\"sk-item\"><div class=\"sk-serial\"><div class=\"sk-item\"><div class=\"sk-estimator sk-toggleable\"><input class=\"sk-toggleable__control sk-hidden--visually\" id=\"sk-estimator-id-18\" type=\"checkbox\" ><label for=\"sk-estimator-id-18\" class=\"sk-toggleable__label sk-toggleable__label-arrow\">StandardScaler</label><div class=\"sk-toggleable__content\"><pre>StandardScaler()</pre></div></div></div><div class=\"sk-item\"><div class=\"sk-estimator sk-toggleable\"><input class=\"sk-toggleable__control sk-hidden--visually\" id=\"sk-estimator-id-19\" type=\"checkbox\" ><label for=\"sk-estimator-id-19\" class=\"sk-toggleable__label sk-toggleable__label-arrow\">KNeighborsRegressor</label><div class=\"sk-toggleable__content\"><pre>KNeighborsRegressor()</pre></div></div></div></div></div></div></div></div></div></div></div></div>"
      ],
      "text/plain": [
       "GridSearchCV(cv=KFold(n_splits=5, random_state=42, shuffle=True),\n",
       "             estimator=Pipeline(steps=[('scaler', StandardScaler()),\n",
       "                                       ('clf', KNeighborsRegressor())]),\n",
       "             n_jobs=-1,\n",
       "             param_grid={'clf__n_neighbors': [5, 10, 25, 50, 80, 120]},\n",
       "             refit='neg_mean_squared_error',\n",
       "             scoring=['neg_mean_squared_error',\n",
       "                      'neg_mean_absolute_percentage_error'],\n",
       "             verbose=2)"
      ]
     },
     "execution_count": 218,
     "metadata": {},
     "output_type": "execute_result"
    }
   ],
   "source": [
    "knn_Ser.fit(X_train_bm, y_train_bm)"
   ]
  },
  {
   "cell_type": "code",
   "execution_count": 219,
   "metadata": {},
   "outputs": [
    {
     "data": {
      "text/html": [
       "<div>\n",
       "<style scoped>\n",
       "    .dataframe tbody tr th:only-of-type {\n",
       "        vertical-align: middle;\n",
       "    }\n",
       "\n",
       "    .dataframe tbody tr th {\n",
       "        vertical-align: top;\n",
       "    }\n",
       "\n",
       "    .dataframe thead th {\n",
       "        text-align: right;\n",
       "    }\n",
       "</style>\n",
       "<table border=\"1\" class=\"dataframe\">\n",
       "  <thead>\n",
       "    <tr style=\"text-align: right;\">\n",
       "      <th></th>\n",
       "      <th>param_clf__n_neighbors</th>\n",
       "      <th>mean_test_neg_mean_absolute_percentage_error</th>\n",
       "    </tr>\n",
       "  </thead>\n",
       "  <tbody>\n",
       "    <tr>\n",
       "      <th>1</th>\n",
       "      <td>10</td>\n",
       "      <td>-0.133985</td>\n",
       "    </tr>\n",
       "    <tr>\n",
       "      <th>2</th>\n",
       "      <td>25</td>\n",
       "      <td>-0.134249</td>\n",
       "    </tr>\n",
       "    <tr>\n",
       "      <th>0</th>\n",
       "      <td>5</td>\n",
       "      <td>-0.135702</td>\n",
       "    </tr>\n",
       "    <tr>\n",
       "      <th>3</th>\n",
       "      <td>50</td>\n",
       "      <td>-0.137818</td>\n",
       "    </tr>\n",
       "    <tr>\n",
       "      <th>4</th>\n",
       "      <td>80</td>\n",
       "      <td>-0.140804</td>\n",
       "    </tr>\n",
       "    <tr>\n",
       "      <th>5</th>\n",
       "      <td>120</td>\n",
       "      <td>-0.143941</td>\n",
       "    </tr>\n",
       "  </tbody>\n",
       "</table>\n",
       "</div>"
      ],
      "text/plain": [
       "  param_clf__n_neighbors  mean_test_neg_mean_absolute_percentage_error\n",
       "1                     10                                     -0.133985\n",
       "2                     25                                     -0.134249\n",
       "0                      5                                     -0.135702\n",
       "3                     50                                     -0.137818\n",
       "4                     80                                     -0.140804\n",
       "5                    120                                     -0.143941"
      ]
     },
     "execution_count": 219,
     "metadata": {},
     "output_type": "execute_result"
    }
   ],
   "source": [
    "knn_cv_scores = (pd.DataFrame(knn_Ser.cv_results_)[[\"param_clf__n_neighbors\",\"mean_test_neg_mean_absolute_percentage_error\"]]).sort_values(by=[\"mean_test_neg_mean_absolute_percentage_error\"], ascending=False)\n",
    "knn_cv_scores"
   ]
  },
  {
   "attachments": {},
   "cell_type": "markdown",
   "metadata": {},
   "source": [
    "## Benchmark 2) Random Forrest Regressor"
   ]
  },
  {
   "cell_type": "code",
   "execution_count": 220,
   "metadata": {},
   "outputs": [],
   "source": [
    "from sklearn.ensemble import RandomForestRegressor"
   ]
  },
  {
   "cell_type": "code",
   "execution_count": 221,
   "metadata": {},
   "outputs": [],
   "source": [
    "n_estimators = [int(x) for x in np.linspace(start = 200, stop = 1000, num = 10)]\n",
    "max_features = ['auto', 'sqrt']\n",
    "max_depth = [int(x) for x in np.linspace(10, 75, num = 11)]\n",
    "max_depth.append(None)\n",
    "min_samples_split = [2, 5, 10]\n",
    "min_samples_leaf = [1, 2, 4]\n",
    "\n",
    "criterion = [\"squared_error\"]\n",
    "rf_r_grid = {'n_estimators': n_estimators,\n",
    "               'max_features': max_features,\n",
    "               'max_depth': max_depth,\n",
    "               'min_samples_split': min_samples_split,\n",
    "               'min_samples_leaf': min_samples_leaf,\n",
    "               'criterion':criterion,\n",
    "               'max_samples':uniform(0.7,0.3)}"
   ]
  },
  {
   "cell_type": "code",
   "execution_count": 222,
   "metadata": {},
   "outputs": [
    {
     "name": "stdout",
     "output_type": "stream",
     "text": [
      "Fitting 5 folds for each of 5 candidates, totalling 25 fits\n"
     ]
    },
    {
     "name": "stderr",
     "output_type": "stream",
     "text": [
      "c:\\Users\\erenk\\AppData\\Local\\Programs\\Python\\Python310\\lib\\site-packages\\sklearn\\model_selection\\_search.py:909: DataConversionWarning: A column-vector y was passed when a 1d array was expected. Please change the shape of y to (n_samples,), for example using ravel().\n",
      "  self.best_estimator_.fit(X, y, **fit_params)\n"
     ]
    },
    {
     "data": {
      "text/html": [
       "<style>#sk-container-id-7 {color: black;background-color: white;}#sk-container-id-7 pre{padding: 0;}#sk-container-id-7 div.sk-toggleable {background-color: white;}#sk-container-id-7 label.sk-toggleable__label {cursor: pointer;display: block;width: 100%;margin-bottom: 0;padding: 0.3em;box-sizing: border-box;text-align: center;}#sk-container-id-7 label.sk-toggleable__label-arrow:before {content: \"▸\";float: left;margin-right: 0.25em;color: #696969;}#sk-container-id-7 label.sk-toggleable__label-arrow:hover:before {color: black;}#sk-container-id-7 div.sk-estimator:hover label.sk-toggleable__label-arrow:before {color: black;}#sk-container-id-7 div.sk-toggleable__content {max-height: 0;max-width: 0;overflow: hidden;text-align: left;background-color: #f0f8ff;}#sk-container-id-7 div.sk-toggleable__content pre {margin: 0.2em;color: black;border-radius: 0.25em;background-color: #f0f8ff;}#sk-container-id-7 input.sk-toggleable__control:checked~div.sk-toggleable__content {max-height: 200px;max-width: 100%;overflow: auto;}#sk-container-id-7 input.sk-toggleable__control:checked~label.sk-toggleable__label-arrow:before {content: \"▾\";}#sk-container-id-7 div.sk-estimator input.sk-toggleable__control:checked~label.sk-toggleable__label {background-color: #d4ebff;}#sk-container-id-7 div.sk-label input.sk-toggleable__control:checked~label.sk-toggleable__label {background-color: #d4ebff;}#sk-container-id-7 input.sk-hidden--visually {border: 0;clip: rect(1px 1px 1px 1px);clip: rect(1px, 1px, 1px, 1px);height: 1px;margin: -1px;overflow: hidden;padding: 0;position: absolute;width: 1px;}#sk-container-id-7 div.sk-estimator {font-family: monospace;background-color: #f0f8ff;border: 1px dotted black;border-radius: 0.25em;box-sizing: border-box;margin-bottom: 0.5em;}#sk-container-id-7 div.sk-estimator:hover {background-color: #d4ebff;}#sk-container-id-7 div.sk-parallel-item::after {content: \"\";width: 100%;border-bottom: 1px solid gray;flex-grow: 1;}#sk-container-id-7 div.sk-label:hover label.sk-toggleable__label {background-color: #d4ebff;}#sk-container-id-7 div.sk-serial::before {content: \"\";position: absolute;border-left: 1px solid gray;box-sizing: border-box;top: 0;bottom: 0;left: 50%;z-index: 0;}#sk-container-id-7 div.sk-serial {display: flex;flex-direction: column;align-items: center;background-color: white;padding-right: 0.2em;padding-left: 0.2em;position: relative;}#sk-container-id-7 div.sk-item {position: relative;z-index: 1;}#sk-container-id-7 div.sk-parallel {display: flex;align-items: stretch;justify-content: center;background-color: white;position: relative;}#sk-container-id-7 div.sk-item::before, #sk-container-id-7 div.sk-parallel-item::before {content: \"\";position: absolute;border-left: 1px solid gray;box-sizing: border-box;top: 0;bottom: 0;left: 50%;z-index: -1;}#sk-container-id-7 div.sk-parallel-item {display: flex;flex-direction: column;z-index: 1;position: relative;background-color: white;}#sk-container-id-7 div.sk-parallel-item:first-child::after {align-self: flex-end;width: 50%;}#sk-container-id-7 div.sk-parallel-item:last-child::after {align-self: flex-start;width: 50%;}#sk-container-id-7 div.sk-parallel-item:only-child::after {width: 0;}#sk-container-id-7 div.sk-dashed-wrapped {border: 1px dashed gray;margin: 0 0.4em 0.5em 0.4em;box-sizing: border-box;padding-bottom: 0.4em;background-color: white;}#sk-container-id-7 div.sk-label label {font-family: monospace;font-weight: bold;display: inline-block;line-height: 1.2em;}#sk-container-id-7 div.sk-label-container {text-align: center;}#sk-container-id-7 div.sk-container {/* jupyter's `normalize.less` sets `[hidden] { display: none; }` but bootstrap.min.css set `[hidden] { display: none !important; }` so we also need the `!important` here to be able to override the default hidden behavior on the sphinx rendered scikit-learn.org. See: https://github.com/scikit-learn/scikit-learn/issues/21755 */display: inline-block !important;position: relative;}#sk-container-id-7 div.sk-text-repr-fallback {display: none;}</style><div id=\"sk-container-id-7\" class=\"sk-top-container\"><div class=\"sk-text-repr-fallback\"><pre>RandomizedSearchCV(cv=KFold(n_splits=5, random_state=42, shuffle=True),\n",
       "                   estimator=RandomForestRegressor(n_jobs=-1), n_iter=5,\n",
       "                   n_jobs=-1,\n",
       "                   param_distributions={&#x27;criterion&#x27;: [&#x27;squared_error&#x27;],\n",
       "                                        &#x27;max_depth&#x27;: [10, 16, 23, 29, 36, 42,\n",
       "                                                      49, 55, 62, 68, 75,\n",
       "                                                      None],\n",
       "                                        &#x27;max_features&#x27;: [&#x27;auto&#x27;, &#x27;sqrt&#x27;],\n",
       "                                        &#x27;max_samples&#x27;: &lt;scipy.stats._distn_infrastructure.rv_continuous_frozen object at 0x000001D2BE08B310&gt;,\n",
       "                                        &#x27;min_samples_leaf&#x27;: [1, 2, 4],\n",
       "                                        &#x27;min_samples_split&#x27;: [2, 5, 10],\n",
       "                                        &#x27;n_estimators&#x27;: [200, 288, 377, 466,\n",
       "                                                         555, 644, 733, 822,\n",
       "                                                         911, 1000]},\n",
       "                   random_state=42, refit=&#x27;neg_mean_squared_error&#x27;,\n",
       "                   scoring=[&#x27;neg_mean_squared_error&#x27;,\n",
       "                            &#x27;neg_mean_absolute_percentage_error&#x27;],\n",
       "                   verbose=2)</pre><b>In a Jupyter environment, please rerun this cell to show the HTML representation or trust the notebook. <br />On GitHub, the HTML representation is unable to render, please try loading this page with nbviewer.org.</b></div><div class=\"sk-container\" hidden><div class=\"sk-item sk-dashed-wrapped\"><div class=\"sk-label-container\"><div class=\"sk-label sk-toggleable\"><input class=\"sk-toggleable__control sk-hidden--visually\" id=\"sk-estimator-id-20\" type=\"checkbox\" ><label for=\"sk-estimator-id-20\" class=\"sk-toggleable__label sk-toggleable__label-arrow\">RandomizedSearchCV</label><div class=\"sk-toggleable__content\"><pre>RandomizedSearchCV(cv=KFold(n_splits=5, random_state=42, shuffle=True),\n",
       "                   estimator=RandomForestRegressor(n_jobs=-1), n_iter=5,\n",
       "                   n_jobs=-1,\n",
       "                   param_distributions={&#x27;criterion&#x27;: [&#x27;squared_error&#x27;],\n",
       "                                        &#x27;max_depth&#x27;: [10, 16, 23, 29, 36, 42,\n",
       "                                                      49, 55, 62, 68, 75,\n",
       "                                                      None],\n",
       "                                        &#x27;max_features&#x27;: [&#x27;auto&#x27;, &#x27;sqrt&#x27;],\n",
       "                                        &#x27;max_samples&#x27;: &lt;scipy.stats._distn_infrastructure.rv_continuous_frozen object at 0x000001D2BE08B310&gt;,\n",
       "                                        &#x27;min_samples_leaf&#x27;: [1, 2, 4],\n",
       "                                        &#x27;min_samples_split&#x27;: [2, 5, 10],\n",
       "                                        &#x27;n_estimators&#x27;: [200, 288, 377, 466,\n",
       "                                                         555, 644, 733, 822,\n",
       "                                                         911, 1000]},\n",
       "                   random_state=42, refit=&#x27;neg_mean_squared_error&#x27;,\n",
       "                   scoring=[&#x27;neg_mean_squared_error&#x27;,\n",
       "                            &#x27;neg_mean_absolute_percentage_error&#x27;],\n",
       "                   verbose=2)</pre></div></div></div><div class=\"sk-parallel\"><div class=\"sk-parallel-item\"><div class=\"sk-item\"><div class=\"sk-label-container\"><div class=\"sk-label sk-toggleable\"><input class=\"sk-toggleable__control sk-hidden--visually\" id=\"sk-estimator-id-21\" type=\"checkbox\" ><label for=\"sk-estimator-id-21\" class=\"sk-toggleable__label sk-toggleable__label-arrow\">estimator: RandomForestRegressor</label><div class=\"sk-toggleable__content\"><pre>RandomForestRegressor(n_jobs=-1)</pre></div></div></div><div class=\"sk-serial\"><div class=\"sk-item\"><div class=\"sk-estimator sk-toggleable\"><input class=\"sk-toggleable__control sk-hidden--visually\" id=\"sk-estimator-id-22\" type=\"checkbox\" ><label for=\"sk-estimator-id-22\" class=\"sk-toggleable__label sk-toggleable__label-arrow\">RandomForestRegressor</label><div class=\"sk-toggleable__content\"><pre>RandomForestRegressor(n_jobs=-1)</pre></div></div></div></div></div></div></div></div></div></div>"
      ],
      "text/plain": [
       "RandomizedSearchCV(cv=KFold(n_splits=5, random_state=42, shuffle=True),\n",
       "                   estimator=RandomForestRegressor(n_jobs=-1), n_iter=5,\n",
       "                   n_jobs=-1,\n",
       "                   param_distributions={'criterion': ['squared_error'],\n",
       "                                        'max_depth': [10, 16, 23, 29, 36, 42,\n",
       "                                                      49, 55, 62, 68, 75,\n",
       "                                                      None],\n",
       "                                        'max_features': ['auto', 'sqrt'],\n",
       "                                        'max_samples': <scipy.stats._distn_infrastructure.rv_continuous_frozen object at 0x000001D2BE08B310>,\n",
       "                                        'min_samples_leaf': [1, 2, 4],\n",
       "                                        'min_samples_split': [2, 5, 10],\n",
       "                                        'n_estimators': [200, 288, 377, 466,\n",
       "                                                         555, 644, 733, 822,\n",
       "                                                         911, 1000]},\n",
       "                   random_state=42, refit='neg_mean_squared_error',\n",
       "                   scoring=['neg_mean_squared_error',\n",
       "                            'neg_mean_absolute_percentage_error'],\n",
       "                   verbose=2)"
      ]
     },
     "execution_count": 222,
     "metadata": {},
     "output_type": "execute_result"
    }
   ],
   "source": [
    "rf_clf = RandomForestRegressor(n_jobs = -1)\n",
    "rf_Ser = RandomizedSearchCV(estimator = rf_clf, param_distributions = rf_r_grid, scoring=[\"neg_mean_squared_error\",\"neg_mean_absolute_percentage_error\"], refit=\"neg_mean_squared_error\", cv = k_cv, n_iter = 5, verbose=2, random_state=42, n_jobs = -1)\n",
    "rf_Ser.fit(X_train_bm, y_train_bm)"
   ]
  },
  {
   "cell_type": "code",
   "execution_count": 223,
   "metadata": {},
   "outputs": [
    {
     "data": {
      "text/html": [
       "<div>\n",
       "<style scoped>\n",
       "    .dataframe tbody tr th:only-of-type {\n",
       "        vertical-align: middle;\n",
       "    }\n",
       "\n",
       "    .dataframe tbody tr th {\n",
       "        vertical-align: top;\n",
       "    }\n",
       "\n",
       "    .dataframe thead th {\n",
       "        text-align: right;\n",
       "    }\n",
       "</style>\n",
       "<table border=\"1\" class=\"dataframe\">\n",
       "  <thead>\n",
       "    <tr style=\"text-align: right;\">\n",
       "      <th></th>\n",
       "      <th>mean_test_neg_mean_absolute_percentage_error</th>\n",
       "    </tr>\n",
       "  </thead>\n",
       "  <tbody>\n",
       "    <tr>\n",
       "      <th>3</th>\n",
       "      <td>-0.127217</td>\n",
       "    </tr>\n",
       "    <tr>\n",
       "      <th>4</th>\n",
       "      <td>-0.128187</td>\n",
       "    </tr>\n",
       "    <tr>\n",
       "      <th>0</th>\n",
       "      <td>-0.128400</td>\n",
       "    </tr>\n",
       "    <tr>\n",
       "      <th>2</th>\n",
       "      <td>-0.128718</td>\n",
       "    </tr>\n",
       "    <tr>\n",
       "      <th>1</th>\n",
       "      <td>-0.128770</td>\n",
       "    </tr>\n",
       "  </tbody>\n",
       "</table>\n",
       "</div>"
      ],
      "text/plain": [
       "   mean_test_neg_mean_absolute_percentage_error\n",
       "3                                     -0.127217\n",
       "4                                     -0.128187\n",
       "0                                     -0.128400\n",
       "2                                     -0.128718\n",
       "1                                     -0.128770"
      ]
     },
     "execution_count": 223,
     "metadata": {},
     "output_type": "execute_result"
    }
   ],
   "source": [
    "rf_cv_scores = (pd.DataFrame(rf_Ser.cv_results_)[[\"mean_test_neg_mean_absolute_percentage_error\"]])\\\n",
    ".sort_values(by=[\"mean_test_neg_mean_absolute_percentage_error\"], ascending=False)\n",
    "rf_cv_scores.head()"
   ]
  },
  {
   "attachments": {},
   "cell_type": "markdown",
   "metadata": {},
   "source": [
    "## 3) Feed Forward Neural Network"
   ]
  },
  {
   "cell_type": "code",
   "execution_count": 224,
   "metadata": {},
   "outputs": [
    {
     "data": {
      "text/html": [
       "<div>\n",
       "<style scoped>\n",
       "    .dataframe tbody tr th:only-of-type {\n",
       "        vertical-align: middle;\n",
       "    }\n",
       "\n",
       "    .dataframe tbody tr th {\n",
       "        vertical-align: top;\n",
       "    }\n",
       "\n",
       "    .dataframe thead th {\n",
       "        text-align: right;\n",
       "    }\n",
       "</style>\n",
       "<table border=\"1\" class=\"dataframe\">\n",
       "  <thead>\n",
       "    <tr style=\"text-align: right;\">\n",
       "      <th></th>\n",
       "      <th>Name</th>\n",
       "      <th>Number_of_Rating</th>\n",
       "      <th>Genre</th>\n",
       "      <th>Price</th>\n",
       "      <th>Description</th>\n",
       "      <th>Updated</th>\n",
       "      <th>Size</th>\n",
       "      <th>Requires_Android</th>\n",
       "      <th>Content_Rating</th>\n",
       "      <th>Offered_By</th>\n",
       "      <th>...</th>\n",
       "      <th>last_update_ln</th>\n",
       "      <th>In_app_Products_Mean</th>\n",
       "      <th>Free_or_Not</th>\n",
       "      <th>Price_Segment</th>\n",
       "      <th>R_mean</th>\n",
       "      <th>G_mean</th>\n",
       "      <th>B_mean</th>\n",
       "      <th>R_std</th>\n",
       "      <th>G_std</th>\n",
       "      <th>B_std</th>\n",
       "    </tr>\n",
       "    <tr>\n",
       "      <th>ID</th>\n",
       "      <th></th>\n",
       "      <th></th>\n",
       "      <th></th>\n",
       "      <th></th>\n",
       "      <th></th>\n",
       "      <th></th>\n",
       "      <th></th>\n",
       "      <th></th>\n",
       "      <th></th>\n",
       "      <th></th>\n",
       "      <th></th>\n",
       "      <th></th>\n",
       "      <th></th>\n",
       "      <th></th>\n",
       "      <th></th>\n",
       "      <th></th>\n",
       "      <th></th>\n",
       "      <th></th>\n",
       "      <th></th>\n",
       "      <th></th>\n",
       "      <th></th>\n",
       "    </tr>\n",
       "  </thead>\n",
       "  <tbody>\n",
       "    <tr>\n",
       "      <th>0</th>\n",
       "      <td>Geometry Dash Lite</td>\n",
       "      <td>7227039</td>\n",
       "      <td>Arcade</td>\n",
       "      <td>0.0</td>\n",
       "      <td>Jump and fly your way through danger in this r...</td>\n",
       "      <td>2019-12-11</td>\n",
       "      <td>5.857981</td>\n",
       "      <td>4.0</td>\n",
       "      <td>1</td>\n",
       "      <td>RobTop Games</td>\n",
       "      <td>...</td>\n",
       "      <td>6.802395</td>\n",
       "      <td>0.0</td>\n",
       "      <td>1.0</td>\n",
       "      <td>0.0</td>\n",
       "      <td>109.975656</td>\n",
       "      <td>123.210478</td>\n",
       "      <td>55.596528</td>\n",
       "      <td>117.723707</td>\n",
       "      <td>78.084704</td>\n",
       "      <td>73.268847</td>\n",
       "    </tr>\n",
       "    <tr>\n",
       "      <th>1</th>\n",
       "      <td>Fastlane: Road to Revenge</td>\n",
       "      <td>621784</td>\n",
       "      <td>Action</td>\n",
       "      <td>0.0</td>\n",
       "      <td>THEY TOOK YOUR CITY. THEY SHOULD’VE TAKEN YOUR...</td>\n",
       "      <td>2021-08-16</td>\n",
       "      <td>6.523562</td>\n",
       "      <td>4.4</td>\n",
       "      <td>2</td>\n",
       "      <td>Space Ape</td>\n",
       "      <td>...</td>\n",
       "      <td>5.655992</td>\n",
       "      <td>49.5</td>\n",
       "      <td>1.0</td>\n",
       "      <td>0.0</td>\n",
       "      <td>111.865795</td>\n",
       "      <td>123.851474</td>\n",
       "      <td>104.913302</td>\n",
       "      <td>78.302310</td>\n",
       "      <td>87.087182</td>\n",
       "      <td>76.248771</td>\n",
       "    </tr>\n",
       "  </tbody>\n",
       "</table>\n",
       "<p>2 rows × 34 columns</p>\n",
       "</div>"
      ],
      "text/plain": [
       "                         Name  Number_of_Rating   Genre  Price  \\\n",
       "ID                                                               \n",
       "0          Geometry Dash Lite           7227039  Arcade    0.0   \n",
       "1   Fastlane: Road to Revenge            621784  Action    0.0   \n",
       "\n",
       "                                          Description     Updated      Size  \\\n",
       "ID                                                                            \n",
       "0   Jump and fly your way through danger in this r...  2019-12-11  5.857981   \n",
       "1   THEY TOOK YOUR CITY. THEY SHOULD’VE TAKEN YOUR...  2021-08-16  6.523562   \n",
       "\n",
       "    Requires_Android  Content_Rating    Offered_By  ... last_update_ln  \\\n",
       "ID                                                  ...                  \n",
       "0                4.0               1  RobTop Games  ...       6.802395   \n",
       "1                4.4               2     Space Ape  ...       5.655992   \n",
       "\n",
       "   In_app_Products_Mean  Free_or_Not  Price_Segment      R_mean      G_mean  \\\n",
       "ID                                                                            \n",
       "0                   0.0          1.0            0.0  109.975656  123.210478   \n",
       "1                  49.5          1.0            0.0  111.865795  123.851474   \n",
       "\n",
       "        B_mean       R_std      G_std      B_std  \n",
       "ID                                                \n",
       "0    55.596528  117.723707  78.084704  73.268847  \n",
       "1   104.913302   78.302310  87.087182  76.248771  \n",
       "\n",
       "[2 rows x 34 columns]"
      ]
     },
     "execution_count": 224,
     "metadata": {},
     "output_type": "execute_result"
    }
   ],
   "source": [
    "df.head(2)"
   ]
  },
  {
   "cell_type": "code",
   "execution_count": 225,
   "metadata": {},
   "outputs": [
    {
     "data": {
      "text/plain": [
       "'\\nfrom category_encoders import TargetEncoder\\n\\n# Genre column categorically encoded with its target mean\\n\\nencoder = TargetEncoder()\\nX_train[\\'Genre_Encoder\\'] = encoder.fit_transform(X_train[\"Genre\"],y_train)\\nX_test[\\'Genre_Encoder\\'] = encoder.transform(X_test[\"Genre\"],y_test)\\n\\nX_train.drop(columns=\"Genre\",inplace=True)\\nX_test.drop(columns=\"Genre\",inplace=True)\\n'"
      ]
     },
     "execution_count": 225,
     "metadata": {},
     "output_type": "execute_result"
    }
   ],
   "source": [
    "'''\n",
    "from category_encoders import TargetEncoder\n",
    "\n",
    "# Genre column categorically encoded with its target mean\n",
    "\n",
    "encoder = TargetEncoder()\n",
    "X_train['Genre_Encoder'] = encoder.fit_transform(X_train[\"Genre\"],y_train)\n",
    "X_test['Genre_Encoder'] = encoder.transform(X_test[\"Genre\"],y_test)\n",
    "\n",
    "X_train.drop(columns=\"Genre\",inplace=True)\n",
    "X_test.drop(columns=\"Genre\",inplace=True)\n",
    "'''"
   ]
  },
  {
   "attachments": {},
   "cell_type": "markdown",
   "metadata": {},
   "source": [
    "### Scaling"
   ]
  },
  {
   "cell_type": "code",
   "execution_count": 226,
   "metadata": {},
   "outputs": [],
   "source": [
    "# Standard scaler Scaler\n",
    "X_train_bm_sc = r_scaler.fit_transform(X_train_bm)\n",
    "X_test_bm_sc = r_scaler.transform(X_test_bm)"
   ]
  },
  {
   "attachments": {},
   "cell_type": "markdown",
   "metadata": {},
   "source": [
    "### Model Creation"
   ]
  },
  {
   "cell_type": "code",
   "execution_count": 227,
   "metadata": {},
   "outputs": [],
   "source": [
    "from tensorflow import keras\n",
    "from tensorflow import nn"
   ]
  },
  {
   "cell_type": "code",
   "execution_count": 228,
   "metadata": {},
   "outputs": [
    {
     "name": "stdout",
     "output_type": "stream",
     "text": [
      "Model: \"model_18\"\n",
      "__________________________________________________________________________________________________\n",
      " Layer (type)                   Output Shape         Param #     Connected to                     \n",
      "==================================================================================================\n",
      " Input Layer (InputLayer)       [(None, 35)]         0           []                               \n",
      "                                                                                                  \n",
      " Hidden_Layer_1 (Dense)         (None, 64)           2304        ['Input Layer[0][0]']            \n",
      "                                                                                                  \n",
      " dropout_53 (Dropout)           (None, 64)           0           ['Hidden_Layer_1[0][0]']         \n",
      "                                                                                                  \n",
      " concatenate_18 (Concatenate)   (None, 99)           0           ['Input Layer[0][0]',            \n",
      "                                                                  'dropout_53[0][0]']             \n",
      "                                                                                                  \n",
      " Hidden_Layer_2 (Dense)         (None, 64)           6400        ['concatenate_18[0][0]']         \n",
      "                                                                                                  \n",
      " dropout_54 (Dropout)           (None, 64)           0           ['Hidden_Layer_2[0][0]']         \n",
      "                                                                                                  \n",
      " Output (Dense)                 (None, 1)            65          ['dropout_54[0][0]']             \n",
      "                                                                                                  \n",
      "==================================================================================================\n",
      "Total params: 8,769\n",
      "Trainable params: 8,769\n",
      "Non-trainable params: 0\n",
      "__________________________________________________________________________________________________\n"
     ]
    }
   ],
   "source": [
    "Input_ = keras.Input(shape=(X_train_bm_sc.shape[1],),name=\"Input Layer\")\n",
    "Hidden1_ = keras.layers.Dense(64, activation=keras.activations.relu,name=\"Hidden_Layer_1\")(Input_)\n",
    "Dropout1_ = keras.layers.Dropout(0.3)(Hidden1_)\n",
    "Skip_con_ = keras.layers.concatenate([Input_,Dropout1_])\n",
    "Hidden2_ = keras.layers.Dense(64, activation=keras.activations.relu,name=\"Hidden_Layer_2\")(Skip_con_)\n",
    "Dropout2_ = keras.layers.Dropout(0.3)(Hidden2_)\n",
    "Output_ = keras.layers.Dense(1, activation=keras.activations.linear, name=\"Output\")(Dropout2_)\n",
    "ann_clf = keras.Model(inputs=[Input_], outputs=[Output_])\n",
    "ann_clf.summary()\n",
    "\n",
    "ann_clf.compile(optimizer=keras.optimizers.Adam(), loss = keras.losses.MeanSquaredError() , \n",
    "metrics=[keras.metrics.MeanAbsolutePercentageError()])\n",
    "\n",
    "early_stop = keras.callbacks.EarlyStopping(monitor=\"val_loss\",patience=15)\n"
   ]
  },
  {
   "cell_type": "code",
   "execution_count": 229,
   "metadata": {},
   "outputs": [
    {
     "name": "stdout",
     "output_type": "stream",
     "text": [
      "Epoch 1/200\n"
     ]
    },
    {
     "name": "stdout",
     "output_type": "stream",
     "text": [
      "50/50 - 2s - loss: 544.5794 - mean_absolute_percentage_error: 83.1194 - val_loss: 315.9506 - val_mean_absolute_percentage_error: 60.7672 - 2s/epoch - 43ms/step\n",
      "Epoch 2/200\n",
      "50/50 - 0s - loss: 142.0759 - mean_absolute_percentage_error: 36.9866 - val_loss: 59.1554 - val_mean_absolute_percentage_error: 18.7496 - 185ms/epoch - 4ms/step\n",
      "Epoch 3/200\n",
      "50/50 - 0s - loss: 49.1295 - mean_absolute_percentage_error: 21.7757 - val_loss: 39.4067 - val_mean_absolute_percentage_error: 16.2371 - 298ms/epoch - 6ms/step\n",
      "Epoch 4/200\n",
      "50/50 - 0s - loss: 45.5833 - mean_absolute_percentage_error: 21.0510 - val_loss: 32.5421 - val_mean_absolute_percentage_error: 15.4482 - 165ms/epoch - 3ms/step\n",
      "Epoch 5/200\n",
      "50/50 - 0s - loss: 44.1533 - mean_absolute_percentage_error: 20.6085 - val_loss: 30.8310 - val_mean_absolute_percentage_error: 15.6045 - 261ms/epoch - 5ms/step\n",
      "Epoch 6/200\n",
      "50/50 - 0s - loss: 41.3035 - mean_absolute_percentage_error: 19.9465 - val_loss: 28.2249 - val_mean_absolute_percentage_error: 15.0790 - 156ms/epoch - 3ms/step\n",
      "Epoch 7/200\n",
      "50/50 - 0s - loss: 40.4746 - mean_absolute_percentage_error: 19.6003 - val_loss: 26.8795 - val_mean_absolute_percentage_error: 14.9790 - 153ms/epoch - 3ms/step\n",
      "Epoch 8/200\n",
      "50/50 - 0s - loss: 39.5341 - mean_absolute_percentage_error: 19.4320 - val_loss: 25.9488 - val_mean_absolute_percentage_error: 14.9232 - 231ms/epoch - 5ms/step\n",
      "Epoch 9/200\n",
      "50/50 - 0s - loss: 38.2620 - mean_absolute_percentage_error: 19.0505 - val_loss: 24.2196 - val_mean_absolute_percentage_error: 14.5809 - 165ms/epoch - 3ms/step\n",
      "Epoch 10/200\n",
      "50/50 - 0s - loss: 39.1795 - mean_absolute_percentage_error: 19.4649 - val_loss: 24.9598 - val_mean_absolute_percentage_error: 14.6973 - 143ms/epoch - 3ms/step\n",
      "Epoch 11/200\n",
      "50/50 - 0s - loss: 38.6141 - mean_absolute_percentage_error: 19.1568 - val_loss: 24.4998 - val_mean_absolute_percentage_error: 14.4719 - 139ms/epoch - 3ms/step\n",
      "Epoch 12/200\n",
      "50/50 - 0s - loss: 35.3622 - mean_absolute_percentage_error: 18.3779 - val_loss: 23.6644 - val_mean_absolute_percentage_error: 14.2748 - 151ms/epoch - 3ms/step\n",
      "Epoch 13/200\n",
      "50/50 - 0s - loss: 34.8861 - mean_absolute_percentage_error: 18.3261 - val_loss: 24.1455 - val_mean_absolute_percentage_error: 14.5061 - 149ms/epoch - 3ms/step\n",
      "Epoch 14/200\n",
      "50/50 - 0s - loss: 34.5187 - mean_absolute_percentage_error: 17.9821 - val_loss: 22.3976 - val_mean_absolute_percentage_error: 14.0255 - 152ms/epoch - 3ms/step\n",
      "Epoch 15/200\n",
      "50/50 - 0s - loss: 36.0623 - mean_absolute_percentage_error: 18.5719 - val_loss: 21.7713 - val_mean_absolute_percentage_error: 13.8864 - 151ms/epoch - 3ms/step\n",
      "Epoch 16/200\n",
      "50/50 - 0s - loss: 33.2087 - mean_absolute_percentage_error: 17.6783 - val_loss: 21.0171 - val_mean_absolute_percentage_error: 13.8891 - 159ms/epoch - 3ms/step\n",
      "Epoch 17/200\n",
      "50/50 - 0s - loss: 33.9686 - mean_absolute_percentage_error: 17.9981 - val_loss: 21.6693 - val_mean_absolute_percentage_error: 13.6922 - 145ms/epoch - 3ms/step\n",
      "Epoch 18/200\n",
      "50/50 - 0s - loss: 34.6100 - mean_absolute_percentage_error: 18.2343 - val_loss: 20.9715 - val_mean_absolute_percentage_error: 13.7258 - 153ms/epoch - 3ms/step\n",
      "Epoch 19/200\n",
      "50/50 - 0s - loss: 33.5968 - mean_absolute_percentage_error: 17.6009 - val_loss: 21.1821 - val_mean_absolute_percentage_error: 13.7178 - 156ms/epoch - 3ms/step\n",
      "Epoch 20/200\n",
      "50/50 - 0s - loss: 33.7761 - mean_absolute_percentage_error: 17.8492 - val_loss: 21.2537 - val_mean_absolute_percentage_error: 13.6716 - 145ms/epoch - 3ms/step\n",
      "Epoch 21/200\n",
      "50/50 - 0s - loss: 34.7652 - mean_absolute_percentage_error: 18.2690 - val_loss: 22.3395 - val_mean_absolute_percentage_error: 13.9710 - 148ms/epoch - 3ms/step\n",
      "Epoch 22/200\n",
      "50/50 - 0s - loss: 32.1664 - mean_absolute_percentage_error: 17.7796 - val_loss: 23.1554 - val_mean_absolute_percentage_error: 13.8127 - 212ms/epoch - 4ms/step\n",
      "Epoch 23/200\n",
      "50/50 - 0s - loss: 32.5560 - mean_absolute_percentage_error: 17.5774 - val_loss: 23.0873 - val_mean_absolute_percentage_error: 13.7277 - 140ms/epoch - 3ms/step\n",
      "Epoch 24/200\n",
      "50/50 - 0s - loss: 31.7930 - mean_absolute_percentage_error: 17.2110 - val_loss: 22.6815 - val_mean_absolute_percentage_error: 13.7630 - 143ms/epoch - 3ms/step\n",
      "Epoch 25/200\n",
      "50/50 - 0s - loss: 31.5967 - mean_absolute_percentage_error: 17.5187 - val_loss: 22.9960 - val_mean_absolute_percentage_error: 13.8712 - 170ms/epoch - 3ms/step\n",
      "Epoch 26/200\n",
      "50/50 - 0s - loss: 30.1813 - mean_absolute_percentage_error: 16.8774 - val_loss: 22.9490 - val_mean_absolute_percentage_error: 13.8140 - 152ms/epoch - 3ms/step\n",
      "Epoch 27/200\n",
      "50/50 - 0s - loss: 31.9024 - mean_absolute_percentage_error: 17.5842 - val_loss: 21.7220 - val_mean_absolute_percentage_error: 13.5767 - 150ms/epoch - 3ms/step\n",
      "Epoch 28/200\n",
      "50/50 - 0s - loss: 30.2436 - mean_absolute_percentage_error: 16.9271 - val_loss: 22.4790 - val_mean_absolute_percentage_error: 13.6080 - 147ms/epoch - 3ms/step\n",
      "Epoch 29/200\n",
      "50/50 - 0s - loss: 29.6704 - mean_absolute_percentage_error: 16.7848 - val_loss: 21.7068 - val_mean_absolute_percentage_error: 13.5600 - 143ms/epoch - 3ms/step\n",
      "Epoch 30/200\n",
      "50/50 - 0s - loss: 31.2132 - mean_absolute_percentage_error: 17.3972 - val_loss: 23.4073 - val_mean_absolute_percentage_error: 14.1862 - 141ms/epoch - 3ms/step\n",
      "Epoch 31/200\n",
      "50/50 - 0s - loss: 31.0728 - mean_absolute_percentage_error: 17.1966 - val_loss: 21.7279 - val_mean_absolute_percentage_error: 13.6560 - 139ms/epoch - 3ms/step\n",
      "Epoch 32/200\n",
      "50/50 - 0s - loss: 30.0053 - mean_absolute_percentage_error: 17.0399 - val_loss: 21.2833 - val_mean_absolute_percentage_error: 13.8276 - 146ms/epoch - 3ms/step\n",
      "Epoch 33/200\n",
      "50/50 - 0s - loss: 30.2245 - mean_absolute_percentage_error: 16.7331 - val_loss: 20.3713 - val_mean_absolute_percentage_error: 13.5383 - 142ms/epoch - 3ms/step\n",
      "Epoch 34/200\n",
      "50/50 - 0s - loss: 29.7743 - mean_absolute_percentage_error: 16.8711 - val_loss: 19.5792 - val_mean_absolute_percentage_error: 13.3221 - 141ms/epoch - 3ms/step\n",
      "Epoch 35/200\n",
      "50/50 - 0s - loss: 29.3208 - mean_absolute_percentage_error: 16.6579 - val_loss: 20.4025 - val_mean_absolute_percentage_error: 13.3551 - 142ms/epoch - 3ms/step\n",
      "Epoch 36/200\n",
      "50/50 - 0s - loss: 29.1416 - mean_absolute_percentage_error: 16.7465 - val_loss: 20.8768 - val_mean_absolute_percentage_error: 13.4375 - 142ms/epoch - 3ms/step\n",
      "Epoch 37/200\n",
      "50/50 - 0s - loss: 30.6584 - mean_absolute_percentage_error: 17.1569 - val_loss: 20.3177 - val_mean_absolute_percentage_error: 13.4120 - 140ms/epoch - 3ms/step\n",
      "Epoch 38/200\n",
      "50/50 - 0s - loss: 30.7663 - mean_absolute_percentage_error: 16.9648 - val_loss: 20.0376 - val_mean_absolute_percentage_error: 13.3787 - 147ms/epoch - 3ms/step\n",
      "Epoch 39/200\n",
      "50/50 - 0s - loss: 29.5851 - mean_absolute_percentage_error: 16.9844 - val_loss: 20.4142 - val_mean_absolute_percentage_error: 13.5219 - 144ms/epoch - 3ms/step\n",
      "Epoch 40/200\n",
      "50/50 - 0s - loss: 30.1074 - mean_absolute_percentage_error: 16.7508 - val_loss: 19.1231 - val_mean_absolute_percentage_error: 13.2088 - 141ms/epoch - 3ms/step\n",
      "Epoch 41/200\n",
      "50/50 - 0s - loss: 28.7698 - mean_absolute_percentage_error: 16.6684 - val_loss: 18.5057 - val_mean_absolute_percentage_error: 13.0711 - 162ms/epoch - 3ms/step\n",
      "Epoch 42/200\n",
      "50/50 - 0s - loss: 27.4285 - mean_absolute_percentage_error: 16.1968 - val_loss: 19.9740 - val_mean_absolute_percentage_error: 13.4497 - 142ms/epoch - 3ms/step\n",
      "Epoch 43/200\n",
      "50/50 - 0s - loss: 29.2126 - mean_absolute_percentage_error: 16.6393 - val_loss: 19.7561 - val_mean_absolute_percentage_error: 13.3490 - 140ms/epoch - 3ms/step\n",
      "Epoch 44/200\n",
      "50/50 - 0s - loss: 28.7718 - mean_absolute_percentage_error: 16.6475 - val_loss: 18.9720 - val_mean_absolute_percentage_error: 13.0472 - 140ms/epoch - 3ms/step\n",
      "Epoch 45/200\n",
      "50/50 - 0s - loss: 28.3740 - mean_absolute_percentage_error: 16.0916 - val_loss: 19.4882 - val_mean_absolute_percentage_error: 13.4094 - 255ms/epoch - 5ms/step\n",
      "Epoch 46/200\n",
      "50/50 - 0s - loss: 26.5941 - mean_absolute_percentage_error: 15.7829 - val_loss: 20.5709 - val_mean_absolute_percentage_error: 13.7012 - 139ms/epoch - 3ms/step\n",
      "Epoch 47/200\n",
      "50/50 - 0s - loss: 29.8935 - mean_absolute_percentage_error: 16.8706 - val_loss: 21.0226 - val_mean_absolute_percentage_error: 13.4634 - 151ms/epoch - 3ms/step\n",
      "Epoch 48/200\n",
      "50/50 - 0s - loss: 28.3396 - mean_absolute_percentage_error: 16.5053 - val_loss: 20.6508 - val_mean_absolute_percentage_error: 13.3614 - 152ms/epoch - 3ms/step\n",
      "Epoch 49/200\n",
      "50/50 - 0s - loss: 27.2837 - mean_absolute_percentage_error: 15.8462 - val_loss: 20.8516 - val_mean_absolute_percentage_error: 13.0830 - 143ms/epoch - 3ms/step\n",
      "Epoch 50/200\n",
      "50/50 - 0s - loss: 27.6280 - mean_absolute_percentage_error: 16.1561 - val_loss: 20.2060 - val_mean_absolute_percentage_error: 13.0030 - 154ms/epoch - 3ms/step\n",
      "Epoch 51/200\n",
      "50/50 - 0s - loss: 27.0958 - mean_absolute_percentage_error: 16.0447 - val_loss: 18.9940 - val_mean_absolute_percentage_error: 12.9314 - 147ms/epoch - 3ms/step\n",
      "Epoch 52/200\n",
      "50/50 - 0s - loss: 28.7010 - mean_absolute_percentage_error: 16.3883 - val_loss: 19.4272 - val_mean_absolute_percentage_error: 13.2764 - 143ms/epoch - 3ms/step\n",
      "Epoch 53/200\n",
      "50/50 - 0s - loss: 27.4628 - mean_absolute_percentage_error: 16.1485 - val_loss: 19.6152 - val_mean_absolute_percentage_error: 13.5513 - 141ms/epoch - 3ms/step\n",
      "Epoch 54/200\n",
      "50/50 - 0s - loss: 25.8529 - mean_absolute_percentage_error: 15.8789 - val_loss: 20.1119 - val_mean_absolute_percentage_error: 13.5281 - 141ms/epoch - 3ms/step\n",
      "Epoch 55/200\n",
      "50/50 - 0s - loss: 26.6839 - mean_absolute_percentage_error: 15.9590 - val_loss: 19.9181 - val_mean_absolute_percentage_error: 13.2963 - 145ms/epoch - 3ms/step\n",
      "Epoch 56/200\n",
      "50/50 - 0s - loss: 26.5047 - mean_absolute_percentage_error: 16.1141 - val_loss: 19.6012 - val_mean_absolute_percentage_error: 13.1215 - 156ms/epoch - 3ms/step\n"
     ]
    }
   ],
   "source": [
    "history_ann = ann_clf.fit(X_train_bm_sc,y_train_bm,epochs=200,validation_split=0.15,\n",
    "verbose=2,callbacks=[early_stop],batch_size=32, \n",
    ")"
   ]
  },
  {
   "cell_type": "markdown",
   "metadata": {},
   "source": [
    "### Plot"
   ]
  },
  {
   "cell_type": "code",
   "execution_count": 230,
   "metadata": {},
   "outputs": [],
   "source": [
    "import seaborn as sns"
   ]
  },
  {
   "cell_type": "code",
   "execution_count": 231,
   "metadata": {},
   "outputs": [
    {
     "data": {
      "image/png": "[encoded data removed]",
      "text/plain": [
       "<Figure size 1500x800 with 1 Axes>"
      ]
     },
     "metadata": {},
     "output_type": "display_data"
    }
   ],
   "source": [
    "plt.figure(figsize=(15,8))\n",
    "history_df = pd.DataFrame(history_ann.history)\n",
    "sns.lineplot(data=history_df[[\"loss\",\"val_loss\"]],dashes=False)\n",
    "# plt.scatter(len(history_df) , mse_dnn, marker=\"o\",color = \"r\")\n",
    "# plt.xlim(-2,50)\n",
    "plt.ylim(15,45)\n",
    "plt.show()"
   ]
  },
  {
   "cell_type": "code",
   "execution_count": 139,
   "metadata": {},
   "outputs": [
    {
     "ename": "NameError",
     "evalue": "name 'history_dnn' is not defined",
     "output_type": "error",
     "traceback": [
      "\u001b[1;31m---------------------------------------------------------------------------\u001b[0m",
      "\u001b[1;31mNameError\u001b[0m                                 Traceback (most recent call last)",
      "Cell \u001b[1;32mIn[139], line 2\u001b[0m\n\u001b[0;32m      1\u001b[0m plt\u001b[39m.\u001b[39mfigure(figsize\u001b[39m=\u001b[39m(\u001b[39m8\u001b[39m,\u001b[39m5\u001b[39m))\n\u001b[1;32m----> 2\u001b[0m history_df \u001b[39m=\u001b[39m pd\u001b[39m.\u001b[39mDataFrame(history_dnn\u001b[39m.\u001b[39mhistory)\n\u001b[0;32m      3\u001b[0m sns\u001b[39m.\u001b[39mlineplot(data\u001b[39m=\u001b[39mhistory_df[[\u001b[39m\"\u001b[39m\u001b[39mloss\u001b[39m\u001b[39m\"\u001b[39m,\u001b[39m\"\u001b[39m\u001b[39mval_loss\u001b[39m\u001b[39m\"\u001b[39m]],dashes\u001b[39m=\u001b[39m\u001b[39mFalse\u001b[39;00m)\n\u001b[0;32m      4\u001b[0m plt\u001b[39m.\u001b[39mscatter(\u001b[39mlen\u001b[39m(history_df) , mse_dnn, marker\u001b[39m=\u001b[39m\u001b[39m\"\u001b[39m\u001b[39mo\u001b[39m\u001b[39m\"\u001b[39m,color \u001b[39m=\u001b[39m \u001b[39m\"\u001b[39m\u001b[39mr\u001b[39m\u001b[39m\"\u001b[39m)\n",
      "\u001b[1;31mNameError\u001b[0m: name 'history_dnn' is not defined"
     ]
    },
    {
     "data": {
      "text/plain": [
       "<Figure size 800x500 with 0 Axes>"
      ]
     },
     "metadata": {},
     "output_type": "display_data"
    }
   ],
   "source": [
    "plt.figure(figsize=(8,5))\n",
    "history_df = pd.DataFrame(history_dnn.history)\n",
    "sns.lineplot(data=history_df[[\"loss\",\"val_loss\"]],dashes=False)\n",
    "plt.scatter(len(history_df) , mse_dnn, marker=\"o\",color = \"r\")\n",
    "plt.xlim(400,900)\n",
    "plt.ylim(5,15)\n",
    "\n",
    "plt.show()"
   ]
  },
  {
   "attachments": {},
   "cell_type": "markdown",
   "metadata": {},
   "source": [
    "### TEST Scores"
   ]
  },
  {
   "cell_type": "code",
   "execution_count": null,
   "metadata": {},
   "outputs": [
    {
     "data": {
      "text/html": [
       "<div>\n",
       "<style scoped>\n",
       "    .dataframe tbody tr th:only-of-type {\n",
       "        vertical-align: middle;\n",
       "    }\n",
       "\n",
       "    .dataframe tbody tr th {\n",
       "        vertical-align: top;\n",
       "    }\n",
       "\n",
       "    .dataframe thead th {\n",
       "        text-align: right;\n",
       "    }\n",
       "</style>\n",
       "<table border=\"1\" class=\"dataframe\">\n",
       "  <thead>\n",
       "    <tr style=\"text-align: right;\">\n",
       "      <th></th>\n",
       "      <th>mse</th>\n",
       "      <th>mape</th>\n",
       "      <th>mae</th>\n",
       "    </tr>\n",
       "  </thead>\n",
       "  <tbody>\n",
       "    <tr>\n",
       "      <th>Validation</th>\n",
       "      <td>6.659935</td>\n",
       "      <td>8.047577</td>\n",
       "      <td>2.005603</td>\n",
       "    </tr>\n",
       "    <tr>\n",
       "      <th>Test</th>\n",
       "      <td>9.859986</td>\n",
       "      <td>10.382125</td>\n",
       "      <td>2.282136</td>\n",
       "    </tr>\n",
       "    <tr>\n",
       "      <th>Percentage_Difference</th>\n",
       "      <td>32.454925</td>\n",
       "      <td>22.486229</td>\n",
       "      <td>12.117279</td>\n",
       "    </tr>\n",
       "  </tbody>\n",
       "</table>\n",
       "</div>"
      ],
      "text/plain": [
       "                             mse       mape        mae\n",
       "Validation              6.659935   8.047577   2.005603\n",
       "Test                    9.859986  10.382125   2.282136\n",
       "Percentage_Difference  32.454925  22.486229  12.117279"
      ]
     },
     "metadata": {},
     "output_type": "display_data"
    }
   ],
   "source": [
    "pred_dnn = ann_clf.predict(X_test_bm_sc)\n",
    "\n",
    "from sklearn.metrics import mean_squared_error,mean_absolute_percentage_error,mean_absolute_error\n",
    "\n",
    "mse_dnn = mean_squared_error(y_test , pred_dnn)\n",
    "mape_dnn = mean_absolute_percentage_error(y_test , pred_dnn)\n",
    "mae_dnn = mean_absolute_error(y_test , pred_dnn)\n",
    "\n",
    "Scores_df_dnn = pd.DataFrame(index=[\"Validation\",\"Test\"],columns=[\"mse\",\"mape\",\"mae\"])\n",
    "Scores_df_dnn.loc[\"Validation\",:] = [history_dnn.history[\"loss\"][-1] , history_dnn.history[\"mape\"][-1] , history_dnn.history[\"mae\"][-1]]\n",
    "Scores_df_dnn.loc[\"Test\",:] = [mse_dnn , mape_dnn*100 , mae_dnn]\n",
    "Scores_df_dnn.loc[\"Percentage_Difference\",:] = (Scores_df_dnn.loc[\"Test\"] - Scores_df_dnn.loc[\"Validation\"])/Scores_df_dnn.loc[\"Test\"]*100\n",
    "\n",
    "Scores_df_dnn"
   ]
  },
  {
   "attachments": {},
   "cell_type": "markdown",
   "metadata": {},
   "source": [
    "## 4) FFNN + CNN (Feed Forward Neural Net. + Convunutional Neural Network)"
   ]
  },
  {
   "attachments": {},
   "cell_type": "markdown",
   "metadata": {},
   "source": [
    "### Splitting CNN's data"
   ]
  },
  {
   "cell_type": "code",
   "execution_count": null,
   "metadata": {},
   "outputs": [],
   "source": [
    "# # CNN SPLIT\n",
    "\n",
    "# reduced_size = (28,28) # Images' sizes reduced due to deficiency of computing power\n",
    "\n",
    "# X_train_image = []\n",
    "# for idx in X_train.index:\n",
    "#     current_image = PIL.Image.open(image_df.loc[idx,\"full_paths\"])\n",
    "#     current_image = current_image.resize(reduced_size)\n",
    "#     arr = np.array(current_image)\n",
    "#     X_train_image.append(arr)\n",
    "\n",
    "# X_train_image = np.array(X_train_image)\n",
    "\n",
    "# X_test_image = []\n",
    "# for idx in X_test.index:\n",
    "#     current_image = PIL.Image.open(image_df.loc[idx,\"full_paths\"])\n",
    "#     current_image = current_image.resize(reduced_size)\n",
    "#     arr = np.array(current_image)\n",
    "#     X_test_image.append(arr)\n",
    "\n",
    "# X_test_image = np.array(X_test_image)"
   ]
  },
  {
   "attachments": {},
   "cell_type": "markdown",
   "metadata": {},
   "source": [
    "### Scaling"
   ]
  },
  {
   "cell_type": "code",
   "execution_count": 232,
   "metadata": {},
   "outputs": [],
   "source": [
    "X_train_imgs = Data.train_imgs/255\n",
    "X_test_imgs = Data.test_imgs/255"
   ]
  },
  {
   "attachments": {},
   "cell_type": "markdown",
   "metadata": {},
   "source": [
    "### Model Creation"
   ]
  },
  {
   "cell_type": "code",
   "execution_count": 239,
   "metadata": {},
   "outputs": [
    {
     "name": "stdout",
     "output_type": "stream",
     "text": [
      "Model: \"model_22\"\n",
      "__________________________________________________________________________________________________\n",
      " Layer (type)                   Output Shape         Param #     Connected to                     \n",
      "==================================================================================================\n",
      " input_21 (InputLayer)          [(None, 28, 28, 3)]  0           []                               \n",
      "                                                                                                  \n",
      " conv2d_40 (Conv2D)             (None, 26, 26, 16)   448         ['input_21[0][0]']               \n",
      "                                                                                                  \n",
      " max_pooling2d_40 (MaxPooling2D  (None, 13, 13, 16)  0           ['conv2d_40[0][0]']              \n",
      " )                                                                                                \n",
      "                                                                                                  \n",
      " conv2d_41 (Conv2D)             (None, 11, 11, 8)    1160        ['max_pooling2d_40[0][0]']       \n",
      "                                                                                                  \n",
      " TabularInput (InputLayer)      [(None, 35)]         0           []                               \n",
      "                                                                                                  \n",
      " max_pooling2d_41 (MaxPooling2D  (None, 5, 5, 8)     0           ['conv2d_41[0][0]']              \n",
      " )                                                                                                \n",
      "                                                                                                  \n",
      " TBHidden1 (Dense)              (None, 32)           1152        ['TabularInput[0][0]']           \n",
      "                                                                                                  \n",
      " flatten_19 (Flatten)           (None, 200)          0           ['max_pooling2d_41[0][0]']       \n",
      "                                                                                                  \n",
      " dropout_66 (Dropout)           (None, 32)           0           ['TBHidden1[0][0]']              \n",
      "                                                                                                  \n",
      " dense_55 (Dense)               (None, 32)           6432        ['flatten_19[0][0]']             \n",
      "                                                                                                  \n",
      " TBHidden2 (Dense)              (None, 16)           528         ['dropout_66[0][0]']             \n",
      "                                                                                                  \n",
      " dropout_68 (Dropout)           (None, 32)           0           ['dense_55[0][0]']               \n",
      "                                                                                                  \n",
      " dropout_67 (Dropout)           (None, 16)           0           ['TBHidden2[0][0]']              \n",
      "                                                                                                  \n",
      " dense_56 (Dense)               (None, 16)           528         ['dropout_68[0][0]']             \n",
      "                                                                                                  \n",
      " concatenate_22 (Concatenate)   (None, 32)           0           ['dropout_67[0][0]',             \n",
      "                                                                  'dense_56[0][0]']               \n",
      "                                                                                                  \n",
      " LastHidden (Dense)             (None, 32)           1056        ['concatenate_22[0][0]']         \n",
      "                                                                                                  \n",
      " dense_57 (Dense)               (None, 1)            33          ['LastHidden[0][0]']             \n",
      "                                                                                                  \n",
      "==================================================================================================\n",
      "Total params: 11,337\n",
      "Trainable params: 11,337\n",
      "Non-trainable params: 0\n",
      "__________________________________________________________________________________________________\n"
     ]
    }
   ],
   "source": [
    "Input_tb_ = keras.Input(shape=(X_train_bm_sc.shape[1],),name=\"TabularInput\")\n",
    "Hidden1_tb_ = keras.layers.Dense(32, activation=keras.activations.relu,name=\"TBHidden1\")(Input_tb_)\n",
    "Dropout1_tb_ = keras.layers.Dropout(0.3)(Hidden1_tb_)\n",
    "Hidden2_tb_ = keras.layers.Dense(16, activation=keras.activations.relu,name=\"TBHidden2\")(Dropout1_tb_)\n",
    "Dropout2_tb_ = keras.layers.Dropout(0.3)(Hidden2_tb_)\n",
    "\n",
    "Input_img_ = keras.Input(shape = X_train_imgs.shape[1:])\n",
    "Conv1_img_ = keras.layers.Conv2D(16, kernel_size=(3,3), activation=\"relu\")(Input_img_)\n",
    "Pool1_img_ = keras.layers.MaxPool2D(pool_size=(2,2))(Conv1_img_)\n",
    "Conv2_img_ = keras.layers.Conv2D(8, kernel_size=(3,3), activation=\"relu\")(Pool1_img_)\n",
    "Pool2_img_ = keras.layers.MaxPool2D(pool_size=(2,2))(Conv2_img_)\n",
    "Flatten_img_ = keras.layers.Flatten()(Pool2_img_)\n",
    "Hidden1_img_ = keras.layers.Dense(32, activation=\"swish\")(Flatten_img_)\n",
    "Dropout_img_ = keras.layers.Dropout(0.2)(Hidden1_img_)\n",
    "Hidden2_img_ = keras.layers.Dense(16, activation=\"tanh\")(Dropout_img_)\n",
    "\n",
    "# # - \n",
    "# inputs = keras.Input(shape = X_train_image.shape[1:])\n",
    "# conv1 = layers.Conv2D(16, kernel_size=(3,3), activation=\"relu\")(inputs)\n",
    "# pool1 = layers.MaxPool2D(pool_size=(2,2))(conv1)\n",
    "# conv2 = layers.Conv2D(8, kernel_size=(3,3), activation=\"relu\")(pool1)\n",
    "# pool2 = layers.MaxPool2D(pool_size=(2,2))(conv2)\n",
    "# flatten = layers.Flatten()(pool2)\n",
    "\n",
    "# x = layers.Dense(64, activation=\"swish\")(flatten)\n",
    "# Dropout = tf.keras.layers.Dropout(0.1)(x)\n",
    "# x = layers.Dense(64, activation=\"tanh\")(Dropout)\n",
    "# # - \n",
    "\n",
    "\n",
    "Concat_ = keras.layers.concatenate([Dropout2_tb_, Hidden2_img_])\n",
    "Hidden3_ = keras.layers.Dense(32, activation=keras.activations.relu,name=\"LastHidden\")(Concat_)\n",
    "\n",
    "Outputs_ = keras.layers.Dense(1, activation=\"linear\")(Hidden3_)\n",
    "\n",
    "mdl = keras.Model(inputs = [Input_tb_, Input_img_], outputs = [Outputs_])\n",
    "\n",
    "mdl.summary()\n",
    "\n",
    "mdl.compile(optimizer=keras.optimizers.Adam(), loss = keras.losses.MeanSquaredError() , \n",
    "metrics=[keras.metrics.MeanAbsolutePercentageError()])\n",
    "\n",
    "early_stop = keras.callbacks.EarlyStopping(monitor=\"val_loss\",patience=15)"
   ]
  },
  {
   "cell_type": "code",
   "execution_count": 240,
   "metadata": {},
   "outputs": [
    {
     "name": "stdout",
     "output_type": "stream",
     "text": [
      "Epoch 1/200\n",
      "99/99 - 4s - loss: 443.8622 - mean_absolute_percentage_error: 72.4291 - val_loss: 105.1411 - val_mean_absolute_percentage_error: 30.6859 - 4s/epoch - 35ms/step\n",
      "Epoch 2/200\n",
      "99/99 - 1s - loss: 57.0688 - mean_absolute_percentage_error: 22.9033 - val_loss: 41.4028 - val_mean_absolute_percentage_error: 16.1832 - 995ms/epoch - 10ms/step\n",
      "Epoch 3/200\n",
      "99/99 - 1s - loss: 38.3693 - mean_absolute_percentage_error: 19.1148 - val_loss: 28.8348 - val_mean_absolute_percentage_error: 14.8836 - 999ms/epoch - 10ms/step\n",
      "Epoch 4/200\n",
      "99/99 - 1s - loss: 28.3944 - mean_absolute_percentage_error: 16.5609 - val_loss: 22.0374 - val_mean_absolute_percentage_error: 14.0084 - 997ms/epoch - 10ms/step\n",
      "Epoch 5/200\n",
      "99/99 - 1s - loss: 24.2279 - mean_absolute_percentage_error: 15.4195 - val_loss: 19.4730 - val_mean_absolute_percentage_error: 13.7471 - 997ms/epoch - 10ms/step\n",
      "Epoch 6/200\n",
      "99/99 - 1s - loss: 21.0827 - mean_absolute_percentage_error: 14.6564 - val_loss: 18.4294 - val_mean_absolute_percentage_error: 13.5700 - 999ms/epoch - 10ms/step\n",
      "Epoch 7/200\n",
      "99/99 - 1s - loss: 19.3850 - mean_absolute_percentage_error: 14.1132 - val_loss: 17.6996 - val_mean_absolute_percentage_error: 13.4868 - 1s/epoch - 10ms/step\n",
      "Epoch 8/200\n",
      "99/99 - 1s - loss: 18.5100 - mean_absolute_percentage_error: 13.7955 - val_loss: 17.2722 - val_mean_absolute_percentage_error: 13.1853 - 1s/epoch - 10ms/step\n",
      "Epoch 9/200\n",
      "99/99 - 1s - loss: 18.7455 - mean_absolute_percentage_error: 13.9449 - val_loss: 17.3555 - val_mean_absolute_percentage_error: 13.1491 - 1s/epoch - 12ms/step\n",
      "Epoch 10/200\n",
      "99/99 - 1s - loss: 17.7150 - mean_absolute_percentage_error: 13.4897 - val_loss: 17.2031 - val_mean_absolute_percentage_error: 13.0580 - 1s/epoch - 12ms/step\n",
      "Epoch 11/200\n",
      "99/99 - 1s - loss: 17.8211 - mean_absolute_percentage_error: 13.5090 - val_loss: 16.8500 - val_mean_absolute_percentage_error: 12.9807 - 1s/epoch - 14ms/step\n",
      "Epoch 12/200\n",
      "99/99 - 1s - loss: 17.8047 - mean_absolute_percentage_error: 13.4074 - val_loss: 16.4129 - val_mean_absolute_percentage_error: 13.0110 - 1s/epoch - 13ms/step\n",
      "Epoch 13/200\n",
      "99/99 - 1s - loss: 17.2502 - mean_absolute_percentage_error: 13.3177 - val_loss: 17.1679 - val_mean_absolute_percentage_error: 12.9859 - 1s/epoch - 13ms/step\n",
      "Epoch 14/200\n",
      "99/99 - 1s - loss: 17.4004 - mean_absolute_percentage_error: 13.2645 - val_loss: 16.9595 - val_mean_absolute_percentage_error: 12.8674 - 1s/epoch - 15ms/step\n",
      "Epoch 15/200\n",
      "99/99 - 2s - loss: 16.8851 - mean_absolute_percentage_error: 13.1351 - val_loss: 16.5185 - val_mean_absolute_percentage_error: 12.7078 - 2s/epoch - 16ms/step\n",
      "Epoch 16/200\n",
      "99/99 - 1s - loss: 16.3914 - mean_absolute_percentage_error: 12.9039 - val_loss: 16.3335 - val_mean_absolute_percentage_error: 12.6762 - 1s/epoch - 15ms/step\n",
      "Epoch 17/200\n",
      "99/99 - 1s - loss: 17.0666 - mean_absolute_percentage_error: 13.1473 - val_loss: 16.1290 - val_mean_absolute_percentage_error: 12.6846 - 1s/epoch - 11ms/step\n",
      "Epoch 18/200\n",
      "99/99 - 1s - loss: 16.6560 - mean_absolute_percentage_error: 13.0858 - val_loss: 15.9803 - val_mean_absolute_percentage_error: 12.8431 - 1s/epoch - 12ms/step\n",
      "Epoch 19/200\n",
      "99/99 - 1s - loss: 16.5428 - mean_absolute_percentage_error: 12.9747 - val_loss: 16.2377 - val_mean_absolute_percentage_error: 12.6395 - 1s/epoch - 11ms/step\n",
      "Epoch 20/200\n",
      "99/99 - 1s - loss: 16.7164 - mean_absolute_percentage_error: 13.0133 - val_loss: 16.5571 - val_mean_absolute_percentage_error: 12.7035 - 1s/epoch - 12ms/step\n",
      "Epoch 21/200\n",
      "99/99 - 1s - loss: 16.5075 - mean_absolute_percentage_error: 12.9463 - val_loss: 15.9443 - val_mean_absolute_percentage_error: 12.8210 - 1s/epoch - 11ms/step\n",
      "Epoch 22/200\n",
      "99/99 - 1s - loss: 16.2894 - mean_absolute_percentage_error: 12.9733 - val_loss: 15.9610 - val_mean_absolute_percentage_error: 12.6418 - 1s/epoch - 13ms/step\n",
      "Epoch 23/200\n",
      "99/99 - 1s - loss: 16.1144 - mean_absolute_percentage_error: 12.8389 - val_loss: 16.2367 - val_mean_absolute_percentage_error: 12.5712 - 1s/epoch - 13ms/step\n",
      "Epoch 24/200\n",
      "99/99 - 1s - loss: 16.2164 - mean_absolute_percentage_error: 12.7965 - val_loss: 16.2366 - val_mean_absolute_percentage_error: 12.6750 - 1s/epoch - 12ms/step\n",
      "Epoch 25/200\n",
      "99/99 - 1s - loss: 15.8256 - mean_absolute_percentage_error: 12.7027 - val_loss: 16.1585 - val_mean_absolute_percentage_error: 12.6225 - 1s/epoch - 12ms/step\n",
      "Epoch 26/200\n",
      "99/99 - 1s - loss: 15.5435 - mean_absolute_percentage_error: 12.5279 - val_loss: 16.0363 - val_mean_absolute_percentage_error: 12.6653 - 1s/epoch - 13ms/step\n",
      "Epoch 27/200\n",
      "99/99 - 1s - loss: 16.2026 - mean_absolute_percentage_error: 12.9053 - val_loss: 16.0610 - val_mean_absolute_percentage_error: 12.6941 - 1s/epoch - 11ms/step\n",
      "Epoch 28/200\n",
      "99/99 - 1s - loss: 15.7721 - mean_absolute_percentage_error: 12.7331 - val_loss: 16.1593 - val_mean_absolute_percentage_error: 12.6455 - 1s/epoch - 12ms/step\n",
      "Epoch 29/200\n",
      "99/99 - 1s - loss: 15.4646 - mean_absolute_percentage_error: 12.5197 - val_loss: 16.5646 - val_mean_absolute_percentage_error: 12.6724 - 1s/epoch - 13ms/step\n",
      "Epoch 30/200\n",
      "99/99 - 1s - loss: 15.7586 - mean_absolute_percentage_error: 12.6691 - val_loss: 15.8468 - val_mean_absolute_percentage_error: 12.5548 - 1s/epoch - 13ms/step\n",
      "Epoch 31/200\n",
      "99/99 - 1s - loss: 15.3865 - mean_absolute_percentage_error: 12.5046 - val_loss: 15.6777 - val_mean_absolute_percentage_error: 12.7421 - 999ms/epoch - 10ms/step\n",
      "Epoch 32/200\n",
      "99/99 - 1s - loss: 15.5781 - mean_absolute_percentage_error: 12.7169 - val_loss: 16.0375 - val_mean_absolute_percentage_error: 12.6261 - 1s/epoch - 11ms/step\n",
      "Epoch 33/200\n",
      "99/99 - 1s - loss: 15.8986 - mean_absolute_percentage_error: 12.6973 - val_loss: 15.7924 - val_mean_absolute_percentage_error: 12.7423 - 1s/epoch - 12ms/step\n",
      "Epoch 34/200\n",
      "99/99 - 1s - loss: 15.4476 - mean_absolute_percentage_error: 12.5574 - val_loss: 16.4449 - val_mean_absolute_percentage_error: 12.7594 - 1s/epoch - 12ms/step\n",
      "Epoch 35/200\n",
      "99/99 - 1s - loss: 15.8414 - mean_absolute_percentage_error: 12.6604 - val_loss: 17.0494 - val_mean_absolute_percentage_error: 12.8500 - 1s/epoch - 11ms/step\n",
      "Epoch 36/200\n",
      "99/99 - 1s - loss: 15.6754 - mean_absolute_percentage_error: 12.5466 - val_loss: 15.8151 - val_mean_absolute_percentage_error: 12.6406 - 1s/epoch - 11ms/step\n",
      "Epoch 37/200\n",
      "99/99 - 1s - loss: 15.7221 - mean_absolute_percentage_error: 12.6200 - val_loss: 16.3196 - val_mean_absolute_percentage_error: 12.7807 - 1s/epoch - 12ms/step\n",
      "Epoch 38/200\n",
      "99/99 - 1s - loss: 15.0170 - mean_absolute_percentage_error: 12.3854 - val_loss: 15.9697 - val_mean_absolute_percentage_error: 12.5544 - 1s/epoch - 13ms/step\n",
      "Epoch 39/200\n",
      "99/99 - 1s - loss: 14.7735 - mean_absolute_percentage_error: 12.2036 - val_loss: 15.9279 - val_mean_absolute_percentage_error: 12.6447 - 1s/epoch - 11ms/step\n",
      "Epoch 40/200\n",
      "99/99 - 1s - loss: 15.3084 - mean_absolute_percentage_error: 12.5292 - val_loss: 15.9523 - val_mean_absolute_percentage_error: 12.5749 - 1s/epoch - 11ms/step\n",
      "Epoch 41/200\n",
      "99/99 - 1s - loss: 14.9303 - mean_absolute_percentage_error: 12.3291 - val_loss: 16.1983 - val_mean_absolute_percentage_error: 12.6673 - 1s/epoch - 14ms/step\n",
      "Epoch 42/200\n",
      "99/99 - 1s - loss: 15.1458 - mean_absolute_percentage_error: 12.4467 - val_loss: 15.7785 - val_mean_absolute_percentage_error: 12.7676 - 1s/epoch - 12ms/step\n",
      "Epoch 43/200\n",
      "99/99 - 1s - loss: 14.7263 - mean_absolute_percentage_error: 12.1310 - val_loss: 15.7787 - val_mean_absolute_percentage_error: 12.5669 - 1s/epoch - 11ms/step\n",
      "Epoch 44/200\n",
      "99/99 - 1s - loss: 14.9670 - mean_absolute_percentage_error: 12.3839 - val_loss: 15.8708 - val_mean_absolute_percentage_error: 12.5400 - 1s/epoch - 11ms/step\n",
      "Epoch 45/200\n",
      "99/99 - 1s - loss: 14.9912 - mean_absolute_percentage_error: 12.3200 - val_loss: 16.4435 - val_mean_absolute_percentage_error: 13.2137 - 1s/epoch - 11ms/step\n",
      "Epoch 46/200\n",
      "99/99 - 1s - loss: 15.2665 - mean_absolute_percentage_error: 12.5336 - val_loss: 16.0018 - val_mean_absolute_percentage_error: 12.9690 - 1s/epoch - 13ms/step\n"
     ]
    }
   ],
   "source": [
    "history_ann = mdl.fit([X_train_bm_sc, X_train_imgs], y_train_bm, epochs=200, validation_split=0.15,\n",
    "verbose=2,callbacks=[early_stop],batch_size=16)"
   ]
  },
  {
   "cell_type": "code",
   "execution_count": null,
   "metadata": {},
   "outputs": [
    {
     "name": "stdout",
     "output_type": "stream",
     "text": [
      "Model: \"model_2\"\n",
      "_________________________________________________________________\n",
      "Layer (type)                 Output Shape              Param #   \n",
      "=================================================================\n",
      "input_1 (InputLayer)         [(None, 28, 28, 3)]       0         \n",
      "_________________________________________________________________\n",
      "conv2d (Conv2D)              (None, 26, 26, 16)        448       \n",
      "_________________________________________________________________\n",
      "max_pooling2d (MaxPooling2D) (None, 13, 13, 16)        0         \n",
      "_________________________________________________________________\n",
      "conv2d_1 (Conv2D)            (None, 11, 11, 8)         1160      \n",
      "_________________________________________________________________\n",
      "max_pooling2d_1 (MaxPooling2 (None, 5, 5, 8)           0         \n",
      "_________________________________________________________________\n",
      "flatten (Flatten)            (None, 200)               0         \n",
      "_________________________________________________________________\n",
      "dense (Dense)                (None, 64)                12864     \n",
      "_________________________________________________________________\n",
      "dropout_4 (Dropout)          (None, 64)                0         \n",
      "_________________________________________________________________\n",
      "dense_1 (Dense)              (None, 64)                4160      \n",
      "_________________________________________________________________\n",
      "dense_2 (Dense)              (None, 1)                 65        \n",
      "=================================================================\n",
      "Total params: 18,697\n",
      "Trainable params: 18,697\n",
      "Non-trainable params: 0\n",
      "_________________________________________________________________\n"
     ]
    }
   ],
   "source": [
    "inputs = keras.Input(shape = X_train_image.shape[1:])\n",
    "conv1 = layers.Conv2D(16, kernel_size=(3,3), activation=\"relu\")(inputs)\n",
    "pool1 = layers.MaxPool2D(pool_size=(2,2))(conv1)\n",
    "conv2 = layers.Conv2D(8, kernel_size=(3,3), activation=\"relu\")(pool1)\n",
    "pool2 = layers.MaxPool2D(pool_size=(2,2))(conv2)\n",
    "flatten = layers.Flatten()(pool2)\n",
    "\n",
    "x = layers.Dense(64, activation=\"swish\")(flatten)\n",
    "Dropout = tf.keras.layers.Dropout(0.1)(x)\n",
    "x = layers.Dense(64, activation=\"tanh\")(Dropout)\n",
    "\n",
    "outputs = layers.Dense(1, activation=\"relu\")(x)\n",
    "\n",
    "mdl = keras.Model(inputs = inputs, outputs = outputs)\n",
    "\n",
    "mdl.summary()"
   ]
  },
  {
   "cell_type": "code",
   "execution_count": null,
   "metadata": {},
   "outputs": [
    {
     "name": "stdout",
     "output_type": "stream",
     "text": [
      "Epoch 1/10\n",
      "48/48 [==============================] - 2s 27ms/step - loss: 409.8569 - mape: 70.7403 - mae: 19.3238 - val_loss: 242.1642 - val_mape: 54.2672 - val_mae: 14.8916\n",
      "Epoch 2/10\n",
      "48/48 [==============================] - 1s 17ms/step - loss: 208.8163 - mape: 48.6000 - mae: 13.5779 - val_loss: 159.8538 - val_mape: 42.5513 - val_mae: 11.8316\n",
      "Epoch 3/10\n",
      "48/48 [==============================] - 1s 16ms/step - loss: 139.4894 - mape: 37.9945 - mae: 10.7861 - val_loss: 105.3470 - val_mape: 32.9629 - val_mae: 9.3000\n",
      "Epoch 4/10\n",
      "48/48 [==============================] - 1s 16ms/step - loss: 93.3062 - mape: 29.8310 - mae: 8.5489 - val_loss: 69.4002 - val_mape: 25.3235 - val_mae: 7.2340\n",
      "Epoch 5/10\n",
      "48/48 [==============================] - 1s 16ms/step - loss: 63.7597 - mape: 24.0199 - mae: 6.8705 - val_loss: 47.3582 - val_mape: 20.4142 - val_mae: 5.8116\n",
      "Epoch 6/10\n",
      "48/48 [==============================] - 1s 17ms/step - loss: 45.6253 - mape: 20.1762 - mae: 5.6860 - val_loss: 34.3058 - val_mape: 17.5460 - val_mae: 4.8983\n",
      "Epoch 7/10\n",
      "48/48 [==============================] - 1s 19ms/step - loss: 35.1064 - mape: 17.9089 - mae: 4.9145 - val_loss: 26.9063 - val_mape: 15.9861 - val_mae: 4.3331\n",
      "Epoch 8/10\n",
      "48/48 [==============================] - 1s 19ms/step - loss: 29.3773 - mape: 16.7076 - mae: 4.4507 - val_loss: 23.3037 - val_mape: 15.1095 - val_mae: 3.9852\n",
      "Epoch 9/10\n",
      "48/48 [==============================] - 1s 20ms/step - loss: 26.5310 - mape: 16.0997 - mae: 4.1830 - val_loss: 21.6139 - val_mape: 14.7723 - val_mae: 3.8088\n",
      "Epoch 10/10\n",
      "48/48 [==============================] - 1s 18ms/step - loss: 25.1024 - mape: 15.8598 - mae: 4.0382 - val_loss: 20.8744 - val_mape: 14.7647 - val_mae: 3.7437\n"
     ]
    }
   ],
   "source": [
    "mdl.compile(optimizer=\"adam\" , loss = \"mse\" , metrics=[\"mape\",\"mae\"])\n",
    "\n",
    "early_stop = tf.keras.callbacks.EarlyStopping(monitor=\"val_loss\",patience=25)\n",
    "\n",
    "history_cnn = mdl.fit(X_train_image,y_train,epochs=10,validation_split=0.15,verbose=1,callbacks=[early_stop])"
   ]
  },
  {
   "attachments": {},
   "cell_type": "markdown",
   "metadata": {},
   "source": [
    "### TEST Scores"
   ]
  },
  {
   "cell_type": "code",
   "execution_count": null,
   "metadata": {},
   "outputs": [
    {
     "data": {
      "text/html": [
       "<div>\n",
       "<style scoped>\n",
       "    .dataframe tbody tr th:only-of-type {\n",
       "        vertical-align: middle;\n",
       "    }\n",
       "\n",
       "    .dataframe tbody tr th {\n",
       "        vertical-align: top;\n",
       "    }\n",
       "\n",
       "    .dataframe thead th {\n",
       "        text-align: right;\n",
       "    }\n",
       "</style>\n",
       "<table border=\"1\" class=\"dataframe\">\n",
       "  <thead>\n",
       "    <tr style=\"text-align: right;\">\n",
       "      <th></th>\n",
       "      <th>mse</th>\n",
       "      <th>mape</th>\n",
       "      <th>mae</th>\n",
       "    </tr>\n",
       "  </thead>\n",
       "  <tbody>\n",
       "    <tr>\n",
       "      <th>Validation</th>\n",
       "      <td>25.102423</td>\n",
       "      <td>15.859835</td>\n",
       "      <td>4.038238</td>\n",
       "    </tr>\n",
       "    <tr>\n",
       "      <th>Test</th>\n",
       "      <td>27.318265</td>\n",
       "      <td>17.309494</td>\n",
       "      <td>4.183724</td>\n",
       "    </tr>\n",
       "    <tr>\n",
       "      <th>Percentage_Difference</th>\n",
       "      <td>8.11121</td>\n",
       "      <td>8.374938</td>\n",
       "      <td>3.477438</td>\n",
       "    </tr>\n",
       "  </tbody>\n",
       "</table>\n",
       "</div>"
      ],
      "text/plain": [
       "                             mse       mape       mae\n",
       "Validation             25.102423  15.859835  4.038238\n",
       "Test                   27.318265  17.309494  4.183724\n",
       "Percentage_Difference    8.11121   8.374938  3.477438"
      ]
     },
     "metadata": {},
     "output_type": "display_data"
    }
   ],
   "source": [
    "pred_cnn = mdl.predict(X_test_image)\n",
    "\n",
    "from sklearn.metrics import mean_squared_error,mean_absolute_percentage_error,mean_absolute_error\n",
    "\n",
    "mse_cnn = mean_squared_error(y_test , pred_cnn)\n",
    "mape_cnn = mean_absolute_percentage_error(y_test , pred_cnn)\n",
    "mae_cnn = mean_absolute_error(y_test , pred_cnn)\n",
    "\n",
    "Scores_df_cnn = pd.DataFrame(index=[\"Validation\",\"Test\"],columns=[\"mse\",\"mape\",\"mae\"])\n",
    "Scores_df_cnn.loc[\"Validation\",:] = [history_cnn.history[\"loss\"][-1] , history_cnn.history[\"mape\"][-1] , history_cnn.history[\"mae\"][-1]]\n",
    "Scores_df_cnn.loc[\"Test\",:] = [mse_cnn , mape_cnn*100 , mae_cnn]\n",
    "Scores_df_cnn.loc[\"Percentage_Difference\",:] = (Scores_df_cnn.loc[\"Test\"] - Scores_df_cnn.loc[\"Validation\"])/Scores_df_cnn.loc[\"Test\"]*100\n",
    "\n",
    "Scores_df_cnn"
   ]
  },
  {
   "attachments": {},
   "cell_type": "markdown",
   "metadata": {},
   "source": [
    "### Plot"
   ]
  },
  {
   "cell_type": "code",
   "execution_count": null,
   "metadata": {},
   "outputs": [
    {
     "data": {
      "image/png": "[encoded data removed]",
      "text/plain": [
       "<Figure size 1080x576 with 1 Axes>"
      ]
     },
     "metadata": {},
     "output_type": "display_data"
    }
   ],
   "source": [
    "plt.figure(figsize=(15,8))\n",
    "history_df = pd.DataFrame(history_cnn.history)\n",
    "sns.lineplot(data=history_df[[\"loss\",\"val_loss\"]],dashes=False)\n",
    "plt.scatter(len(history_df) , mse_cnn, marker=\"o\",color = \"r\")\n",
    "# plt.xlim(-2,50)\n",
    "plt.ylim(5,25)\n",
    "\n",
    "plt.show()"
   ]
  },
  {
   "attachments": {},
   "cell_type": "markdown",
   "metadata": {},
   "source": [
    "## Downloading NLP's resuls"
   ]
  },
  {
   "cell_type": "code",
   "execution_count": null,
   "metadata": {},
   "outputs": [],
   "source": [
    "lstm_results_train = pd.read_csv(\"lstm_results_train.csv\",index_col=0)\n",
    "lstm_results_test = pd.read_csv(\"lstm_results_test.csv\",index_col=0)"
   ]
  },
  {
   "cell_type": "code",
   "execution_count": null,
   "metadata": {},
   "outputs": [
    {
     "data": {
      "text/html": [
       "<div>\n",
       "<style scoped>\n",
       "    .dataframe tbody tr th:only-of-type {\n",
       "        vertical-align: middle;\n",
       "    }\n",
       "\n",
       "    .dataframe tbody tr th {\n",
       "        vertical-align: top;\n",
       "    }\n",
       "\n",
       "    .dataframe thead th {\n",
       "        text-align: right;\n",
       "    }\n",
       "</style>\n",
       "<table border=\"1\" class=\"dataframe\">\n",
       "  <thead>\n",
       "    <tr style=\"text-align: right;\">\n",
       "      <th></th>\n",
       "      <th>target</th>\n",
       "      <th>lstm_result_tr</th>\n",
       "    </tr>\n",
       "  </thead>\n",
       "  <tbody>\n",
       "    <tr>\n",
       "      <th>1681</th>\n",
       "      <td>21.500000</td>\n",
       "      <td>21.713280</td>\n",
       "    </tr>\n",
       "    <tr>\n",
       "      <th>1195</th>\n",
       "      <td>29.475468</td>\n",
       "      <td>30.310078</td>\n",
       "    </tr>\n",
       "    <tr>\n",
       "      <th>985</th>\n",
       "      <td>16.400000</td>\n",
       "      <td>19.128582</td>\n",
       "    </tr>\n",
       "    <tr>\n",
       "      <th>862</th>\n",
       "      <td>20.516292</td>\n",
       "      <td>21.284727</td>\n",
       "    </tr>\n",
       "    <tr>\n",
       "      <th>1017</th>\n",
       "      <td>31.485159</td>\n",
       "      <td>29.244856</td>\n",
       "    </tr>\n",
       "  </tbody>\n",
       "</table>\n",
       "</div>"
      ],
      "text/plain": [
       "         target  lstm_result_tr\n",
       "1681  21.500000       21.713280\n",
       "1195  29.475468       30.310078\n",
       "985   16.400000       19.128582\n",
       "862   20.516292       21.284727\n",
       "1017  31.485159       29.244856"
      ]
     },
     "metadata": {},
     "output_type": "display_data"
    }
   ],
   "source": [
    "lstm_results_train.head()"
   ]
  },
  {
   "cell_type": "code",
   "execution_count": null,
   "metadata": {},
   "outputs": [
    {
     "data": {
      "text/html": [
       "<div>\n",
       "<style scoped>\n",
       "    .dataframe tbody tr th:only-of-type {\n",
       "        vertical-align: middle;\n",
       "    }\n",
       "\n",
       "    .dataframe tbody tr th {\n",
       "        vertical-align: top;\n",
       "    }\n",
       "\n",
       "    .dataframe thead th {\n",
       "        text-align: right;\n",
       "    }\n",
       "</style>\n",
       "<table border=\"1\" class=\"dataframe\">\n",
       "  <thead>\n",
       "    <tr style=\"text-align: right;\">\n",
       "      <th></th>\n",
       "      <th>target</th>\n",
       "      <th>lstm_result</th>\n",
       "    </tr>\n",
       "  </thead>\n",
       "  <tbody>\n",
       "    <tr>\n",
       "      <th>1094</th>\n",
       "      <td>27.600000</td>\n",
       "      <td>26.112827</td>\n",
       "    </tr>\n",
       "    <tr>\n",
       "      <th>188</th>\n",
       "      <td>26.600000</td>\n",
       "      <td>26.355648</td>\n",
       "    </tr>\n",
       "    <tr>\n",
       "      <th>1800</th>\n",
       "      <td>32.335674</td>\n",
       "      <td>25.619324</td>\n",
       "    </tr>\n",
       "    <tr>\n",
       "      <th>707</th>\n",
       "      <td>23.000000</td>\n",
       "      <td>25.130505</td>\n",
       "    </tr>\n",
       "    <tr>\n",
       "      <th>679</th>\n",
       "      <td>28.805571</td>\n",
       "      <td>27.756561</td>\n",
       "    </tr>\n",
       "  </tbody>\n",
       "</table>\n",
       "</div>"
      ],
      "text/plain": [
       "         target  lstm_result\n",
       "1094  27.600000    26.112827\n",
       "188   26.600000    26.355648\n",
       "1800  32.335674    25.619324\n",
       "707   23.000000    25.130505\n",
       "679   28.805571    27.756561"
      ]
     },
     "metadata": {},
     "output_type": "display_data"
    }
   ],
   "source": [
    "lstm_results_test.head()"
   ]
  },
  {
   "attachments": {},
   "cell_type": "markdown",
   "metadata": {},
   "source": [
    "### TEST Scores"
   ]
  },
  {
   "cell_type": "code",
   "execution_count": null,
   "metadata": {},
   "outputs": [
    {
     "data": {
      "text/html": [
       "<div>\n",
       "<style scoped>\n",
       "    .dataframe tbody tr th:only-of-type {\n",
       "        vertical-align: middle;\n",
       "    }\n",
       "\n",
       "    .dataframe tbody tr th {\n",
       "        vertical-align: top;\n",
       "    }\n",
       "\n",
       "    .dataframe thead th {\n",
       "        text-align: right;\n",
       "    }\n",
       "</style>\n",
       "<table border=\"1\" class=\"dataframe\">\n",
       "  <thead>\n",
       "    <tr style=\"text-align: right;\">\n",
       "      <th></th>\n",
       "      <th>mse</th>\n",
       "      <th>mape</th>\n",
       "      <th>mae</th>\n",
       "    </tr>\n",
       "  </thead>\n",
       "  <tbody>\n",
       "    <tr>\n",
       "      <th>Test</th>\n",
       "      <td>32.178437</td>\n",
       "      <td>18.770643</td>\n",
       "      <td>4.553034</td>\n",
       "    </tr>\n",
       "  </tbody>\n",
       "</table>\n",
       "</div>"
      ],
      "text/plain": [
       "            mse       mape       mae\n",
       "Test  32.178437  18.770643  4.553034"
      ]
     },
     "metadata": {},
     "output_type": "display_data"
    }
   ],
   "source": [
    "mse_nlp = mean_squared_error(y_test , lstm_results_test[\"lstm_result\"])\n",
    "mape_nlp = mean_absolute_percentage_error(y_test , lstm_results_test[\"lstm_result\"])\n",
    "mae_nlp = mean_absolute_error(y_test , lstm_results_test[\"lstm_result\"])\n",
    "\n",
    "Scores_df_nlp = pd.DataFrame(index=[\"Test\"],columns=[\"mse\",\"mape\",\"mae\"])\n",
    "Scores_df_nlp.loc[\"Test\",:] = [mse_nlp , mape_nlp*100 , mae_nlp]\n",
    "\n",
    "Scores_df_nlp"
   ]
  },
  {
   "cell_type": "code",
   "execution_count": null,
   "metadata": {},
   "outputs": [
    {
     "data": {
      "text/plain": [
       "4.809008975247715"
      ]
     },
     "metadata": {},
     "output_type": "display_data"
    }
   ],
   "source": [
    "mse_nlp = mean_squared_error(y_train , lstm_results_train[\"lstm_result_tr\"])\n",
    "mse_nlp\n",
    "\n",
    "# **OVERFIT IN NLP**"
   ]
  },
  {
   "cell_type": "code",
   "execution_count": null,
   "metadata": {},
   "outputs": [
    {
     "data": {
      "text/html": [
       "<div>\n",
       "<style scoped>\n",
       "    .dataframe tbody tr th:only-of-type {\n",
       "        vertical-align: middle;\n",
       "    }\n",
       "\n",
       "    .dataframe tbody tr th {\n",
       "        vertical-align: top;\n",
       "    }\n",
       "\n",
       "    .dataframe thead th {\n",
       "        text-align: right;\n",
       "    }\n",
       "</style>\n",
       "<table border=\"1\" class=\"dataframe\">\n",
       "  <thead>\n",
       "    <tr style=\"text-align: right;\">\n",
       "      <th></th>\n",
       "      <th>mse</th>\n",
       "      <th>mape</th>\n",
       "      <th>mae</th>\n",
       "    </tr>\n",
       "  </thead>\n",
       "  <tbody>\n",
       "    <tr>\n",
       "      <th>Test</th>\n",
       "      <td>32.178437</td>\n",
       "      <td>18.770643</td>\n",
       "      <td>4.553034</td>\n",
       "    </tr>\n",
       "  </tbody>\n",
       "</table>\n",
       "</div>"
      ],
      "text/plain": [
       "            mse       mape       mae\n",
       "Test  32.178437  18.770643  4.553034"
      ]
     },
     "metadata": {},
     "output_type": "display_data"
    }
   ],
   "source": [
    "Scores_df_nlp"
   ]
  },
  {
   "attachments": {},
   "cell_type": "markdown",
   "metadata": {},
   "source": [
    "## Combining **DNN & CNN & NLP**"
   ]
  },
  {
   "cell_type": "code",
   "execution_count": null,
   "metadata": {},
   "outputs": [],
   "source": [
    "dnn_results = model.predict(X_test_scaled)\n",
    "cnn_results = mdl.predict(X_test_image)\n",
    "nlp_results = lstm_results_test[\"lstm_result\"].values.reshape(-1,1)\n",
    "\n",
    "dnn_weight = 0.6\n",
    "cnn_weight = 0.2\n",
    "nlp_weight = 0.2\n",
    "\n",
    "final_results = (dnn_results*dnn_weight) + (cnn_results*cnn_weight) + (nlp_results*nlp_weight)"
   ]
  },
  {
   "cell_type": "code",
   "execution_count": null,
   "metadata": {},
   "outputs": [
    {
     "data": {
      "text/plain": [
       "((593, 1), (593, 1), (593, 1))"
      ]
     },
     "metadata": {},
     "output_type": "display_data"
    }
   ],
   "source": [
    "dnn_results.shape , cnn_results.shape , nlp_results.shape"
   ]
  },
  {
   "attachments": {},
   "cell_type": "markdown",
   "metadata": {},
   "source": [
    "## HYBRID MODEL RESULTS"
   ]
  },
  {
   "cell_type": "code",
   "execution_count": null,
   "metadata": {},
   "outputs": [
    {
     "data": {
      "text/html": [
       "<div>\n",
       "<style scoped>\n",
       "    .dataframe tbody tr th:only-of-type {\n",
       "        vertical-align: middle;\n",
       "    }\n",
       "\n",
       "    .dataframe tbody tr th {\n",
       "        vertical-align: top;\n",
       "    }\n",
       "\n",
       "    .dataframe thead th {\n",
       "        text-align: right;\n",
       "    }\n",
       "</style>\n",
       "<table border=\"1\" class=\"dataframe\">\n",
       "  <thead>\n",
       "    <tr style=\"text-align: right;\">\n",
       "      <th></th>\n",
       "      <th>mse</th>\n",
       "      <th>mape</th>\n",
       "      <th>mae</th>\n",
       "    </tr>\n",
       "  </thead>\n",
       "  <tbody>\n",
       "    <tr>\n",
       "      <th>Test</th>\n",
       "      <td>12.771636</td>\n",
       "      <td>11.839032</td>\n",
       "      <td>2.678785</td>\n",
       "    </tr>\n",
       "  </tbody>\n",
       "</table>\n",
       "</div>"
      ],
      "text/plain": [
       "            mse       mape       mae\n",
       "Test  12.771636  11.839032  2.678785"
      ]
     },
     "metadata": {},
     "output_type": "display_data"
    }
   ],
   "source": [
    "mse_hybrid = mean_squared_error(y_test , final_results)\n",
    "mape_hybrid = mean_absolute_percentage_error(y_test , final_results)\n",
    "mae_hybrid = mean_absolute_error(y_test , final_results)\n",
    "\n",
    "Scores_df_hybrid = pd.DataFrame(index=[\"Test\"],columns=[\"mse\",\"mape\",\"mae\"])\n",
    "Scores_df_hybrid.loc[\"Test\",:] = [mse_hybrid , mape_hybrid*100 , mae_hybrid]\n",
    "\n",
    "Scores_df_hybrid"
   ]
  },
  {
   "cell_type": "code",
   "execution_count": null,
   "metadata": {},
   "outputs": [],
   "source": [
    "dnn_arr = Scores_df_dnn.loc[\"Test\",:].values.reshape(1,3)\n",
    "cnn_arr = Scores_df_cnn.loc[\"Test\",:].values.reshape(1,3)\n",
    "nlp_arr = Scores_df_nlp.values\n",
    "hybrid_arr = Scores_df_hybrid.values\n",
    "full_arr = np.concatenate((dnn_arr,cnn_arr,nlp_arr,hybrid_arr))"
   ]
  },
  {
   "cell_type": "code",
   "execution_count": null,
   "metadata": {},
   "outputs": [
    {
     "data": {
      "text/html": [
       "<div>\n",
       "<style scoped>\n",
       "    .dataframe tbody tr th:only-of-type {\n",
       "        vertical-align: middle;\n",
       "    }\n",
       "\n",
       "    .dataframe tbody tr th {\n",
       "        vertical-align: top;\n",
       "    }\n",
       "\n",
       "    .dataframe thead th {\n",
       "        text-align: right;\n",
       "    }\n",
       "</style>\n",
       "<table border=\"1\" class=\"dataframe\">\n",
       "  <thead>\n",
       "    <tr style=\"text-align: right;\">\n",
       "      <th></th>\n",
       "      <th>mse</th>\n",
       "      <th>mape</th>\n",
       "      <th>mae</th>\n",
       "    </tr>\n",
       "  </thead>\n",
       "  <tbody>\n",
       "    <tr>\n",
       "      <th>DNN</th>\n",
       "      <td>9.859986</td>\n",
       "      <td>10.382125</td>\n",
       "      <td>2.282136</td>\n",
       "    </tr>\n",
       "    <tr>\n",
       "      <th>CNN</th>\n",
       "      <td>27.318265</td>\n",
       "      <td>17.309494</td>\n",
       "      <td>4.183724</td>\n",
       "    </tr>\n",
       "    <tr>\n",
       "      <th>NLP</th>\n",
       "      <td>32.178437</td>\n",
       "      <td>18.770643</td>\n",
       "      <td>4.553034</td>\n",
       "    </tr>\n",
       "    <tr>\n",
       "      <th>HYBRID</th>\n",
       "      <td>12.771636</td>\n",
       "      <td>11.839032</td>\n",
       "      <td>2.678785</td>\n",
       "    </tr>\n",
       "  </tbody>\n",
       "</table>\n",
       "</div>"
      ],
      "text/plain": [
       "              mse       mape       mae\n",
       "DNN      9.859986  10.382125  2.282136\n",
       "CNN     27.318265  17.309494  4.183724\n",
       "NLP     32.178437  18.770643  4.553034\n",
       "HYBRID  12.771636  11.839032  2.678785"
      ]
     },
     "metadata": {},
     "output_type": "display_data"
    }
   ],
   "source": [
    "ALL_MODELS_RESULTS = pd.DataFrame(full_arr , index = [\"DNN\",\"CNN\",\"NLP\",\"HYBRID\"],columns=[\"mse\",\"mape\",\"mae\"])\n",
    "ALL_MODELS_RESULTS"
   ]
  }
 ],
 "metadata": {
  "kernelspec": {
   "display_name": "Python 3",
   "language": "python",
   "name": "python3"
  },
  "language_info": {
   "codemirror_mode": {
    "name": "ipython",
    "version": 3
   },
   "file_extension": ".py",
   "mimetype": "text/x-python",
   "name": "python",
   "nbconvert_exporter": "python",
   "pygments_lexer": "ipython3",
   "version": "3.10.0"
  },
  "orig_nbformat": 4
 },
 "nbformat": 4,
 "nbformat_minor": 2
}
